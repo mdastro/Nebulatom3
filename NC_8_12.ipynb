{
 "cells": [
  {
   "cell_type": "markdown",
   "metadata": {},
   "source": [
    "# DETAILED MODEL-FITTING WITH MANY OBSERVATIONAL CONSTRAINTS"
   ]
  },
  {
   "cell_type": "markdown",
   "metadata": {},
   "source": [
    "## A photoionization model for IC418"
   ]
  },
  {
   "cell_type": "markdown",
   "metadata": {},
   "source": [
    "Consider the planetary nebula IC 418. A detailed photoionization model of it has been published by Morisset & Georgiev (2009). \n",
    "The proposed exercise is not to reproduce this model exactly but rather to show  the different steps to reach an acceptable solution and keep a critical eye on the results. \n",
    "The following observational constraints are considered:\n",
    "\n",
    "* HST WFPC observations  in  H$\\alpha$, [NII] and [OIII] fiters (find the 3-colour image on the internet and examine it)\n",
    "* Total reddening-corrected H$\\beta$ flux \n",
    "* Angular diameter \n",
    "* The stellar spectrum\n",
    "* A high resolution, deep optical spectrum within a slit \n",
    "* Ultraviolet spectra obtained with IUE\n",
    "* Infrared spectra \n",
    "\n"
   ]
  },
  {
   "cell_type": "markdown",
   "metadata": {},
   "source": [
    "### Compute the starting model abundances using the direct method."
   ]
  },
  {
   "cell_type": "code",
   "execution_count": 1,
   "metadata": {},
   "outputs": [],
   "source": [
    "%matplotlib inline\n",
    "import numpy as np\n",
    "import matplotlib.pyplot as plt\n",
    "import pyneb as pn\n",
    "import pyCloudy as pc\n",
    "from pyCloudy.utils.misc import make_mask, convert_label\n",
    "from pyCloudy.utils.astro import conv_arc\n",
    "pc.config.cloudy_exe = 'cloudy.exe'\n",
    "models_dir = './Models/'"
   ]
  },
  {
   "cell_type": "markdown",
   "metadata": {},
   "source": [
    "### Build a model with a density distribution reproducing the observed H$\\alpha$ surface brightness distribution and using the stellar model presented in Morisset & Georgiev (2009), which fits the atmospheric stellar properties. For the fitting procedure, compare the observed line intensities with those obtained by the model in the corresponding apertures. Try to find a model which reproduces all the line intensities within their respective error bars."
   ]
  },
  {
   "cell_type": "code",
   "execution_count": 2,
   "metadata": {},
   "outputs": [],
   "source": [
    "class In(object):\n",
    "    \n",
    "    def __init__(self, name):\n",
    "        \"\"\"\n",
    "        Defining the parameters of the model\n",
    "        \"\"\"\n",
    "        \n",
    "        self.model_name = name\n",
    "        self.r_in = 16.09\n",
    "        # Here we use a user-defined double gaussisn\n",
    "        self.dlaw_params = [3, 2850. , 5256.6 , 16.28 , 15.96 , 9500.0 , 17.02 , 16.46]\n",
    "        self.ff = 1.0\n",
    "        self.distance = 1.25\n",
    "        self.abunds = {'He':-0.92, 'C':-3.10, 'N':-4.00, 'O':-3.4, 'Ne':-4.0, 'Mg':-4.95,\n",
    "                       'Si':-4.90, 'S':-5.35, 'Cl':-7.00, 'Ar':-5.8, 'Fe':-7.40}\n",
    "        self.grains_type = ['orion graphite', 'orion silicate']\n",
    "        self.grains = [0.2, 0.2]\n",
    "        self.Q0 = 47.5\n",
    "        self.SED = 'BB' # STAR or BB\n",
    "        self.Teff = 39500.\n",
    "        self.options = ('no molecules',\n",
    "                        'no level2 lines',\n",
    "                        'no fine opacities',\n",
    "                        'element limit off -8',\n",
    "                        )\n",
    "\n",
    "        \n",
    "    def print_model(self):\n",
    "        \"\"\"\n",
    "        Preparing and printing the Cloudy input file\n",
    "        \"\"\"\n",
    "        model = pc.CloudyInput(self.model_name)\n",
    "        model.set_radius(self.r_in)\n",
    "        model.set_dlaw(self.dlaw_params, self.ff)\n",
    "        model.set_distance(self.distance)\n",
    "        model.set_abund(ab_dict = self.abunds)\n",
    "        for grains, grains_type in zip(self.grains, self.grains_type):\n",
    "            model.set_grains('{0} {1}'.format(grains_type, grains))\n",
    "        if self.SED == 'STAR':\n",
    "            model.set_star('table star \"mod103.mod\"', 39390, 'q(H)', self.Q0)\n",
    "        elif self.SED == 'BB':\n",
    "            model.set_BB(Teff=self.Teff, lumi_unit='q(H)', lumi_value=self.Q0)\n",
    "        else:\n",
    "            pc.log_.error('unknown SED value: {0}'.format(self.SED))\n",
    "        model.read_emis_file('../Data/ic418N_c17.lines', N_char=14)\n",
    "        model.set_iterate(0)\n",
    "        model.set_sphere()\n",
    "        model.set_other(self.options)\n",
    "        model.print_input(to_file = True, verbose = False)\n",
    "        self.model = model\n",
    "        \n",
    "    def run_model(self):\n",
    "        self.model.run_cloudy()\n"
   ]
  },
  {
   "cell_type": "code",
   "execution_count": 3,
   "metadata": {},
   "outputs": [],
   "source": [
    "model_name = 'IC418_BB'"
   ]
  },
  {
   "cell_type": "code",
   "execution_count": 4,
   "metadata": {},
   "outputs": [],
   "source": [
    "Min = In('{0}/{1}'.format(models_dir, model_name))\n",
    "# Here you can change things in the model before writing the input file\n",
    "# Example:\n",
    "# run a Blackbody model\n",
    "Min.Teff = 39500.\n",
    "Min.SED = 'BB'\n",
    "Min.print_model()\n",
    "Min.run_model()"
   ]
  },
  {
   "cell_type": "code",
   "execution_count": 5,
   "metadata": {},
   "outputs": [
    {
     "name": "stdout",
     "output_type": "stream",
     "text": [
      "warng CloudyModel ./Models//IC418_BB: Model aborted\n"
     ]
    }
   ],
   "source": [
    "M = pc.CloudyModel('{0}/{1}'.format(models_dir, model_name))"
   ]
  },
  {
   "cell_type": "code",
   "execution_count": 6,
   "metadata": {},
   "outputs": [
    {
     "ename": "AttributeError",
     "evalue": "'CloudyModel' object has no attribute 'radius_full'",
     "output_type": "error",
     "traceback": [
      "\u001b[0;31m---------------------------------------------------------------------------\u001b[0m",
      "\u001b[0;31mAttributeError\u001b[0m                            Traceback (most recent call last)",
      "\u001b[0;32m<ipython-input-6-85bc3ab7fb14>\u001b[0m in \u001b[0;36m<module>\u001b[0;34m()\u001b[0m\n\u001b[0;32m----> 1\u001b[0;31m \u001b[0mplt\u001b[0m\u001b[0;34m.\u001b[0m\u001b[0mplot\u001b[0m\u001b[0;34m(\u001b[0m\u001b[0mM\u001b[0m\u001b[0;34m.\u001b[0m\u001b[0mradius\u001b[0m\u001b[0;34m,\u001b[0m \u001b[0mM\u001b[0m\u001b[0;34m.\u001b[0m\u001b[0mne\u001b[0m\u001b[0;34m)\u001b[0m\u001b[0;34m\u001b[0m\u001b[0m\n\u001b[0m",
      "\u001b[0;32m/home/mldantas/anaconda3/lib/python3.6/site-packages/pyCloudy/c1d/cloudy_model.py\u001b[0m in \u001b[0;36mradius\u001b[0;34m(self)\u001b[0m\n\u001b[1;32m    659\u001b[0m     \u001b[0;32mdef\u001b[0m \u001b[0mradius\u001b[0m\u001b[0;34m(\u001b[0m\u001b[0mself\u001b[0m\u001b[0;34m)\u001b[0m\u001b[0;34m:\u001b[0m\u001b[0;34m\u001b[0m\u001b[0m\n\u001b[1;32m    660\u001b[0m         \u001b[0;34m\"\"\" array of radius (on r_range)\"\"\"\u001b[0m\u001b[0;34m\u001b[0m\u001b[0m\n\u001b[0;32m--> 661\u001b[0;31m         \u001b[0;32mreturn\u001b[0m \u001b[0mself\u001b[0m\u001b[0;34m.\u001b[0m\u001b[0m_get_over_range\u001b[0m\u001b[0;34m(\u001b[0m\u001b[0mself\u001b[0m\u001b[0;34m.\u001b[0m\u001b[0mradius_full\u001b[0m\u001b[0;34m)\u001b[0m\u001b[0;34m\u001b[0m\u001b[0m\n\u001b[0m\u001b[1;32m    662\u001b[0m \u001b[0;34m\u001b[0m\u001b[0m\n\u001b[1;32m    663\u001b[0m     \u001b[0;31m## size of each zone [float array] (cm)\u001b[0m\u001b[0;34m\u001b[0m\u001b[0;34m\u001b[0m\u001b[0m\n",
      "\u001b[0;31mAttributeError\u001b[0m: 'CloudyModel' object has no attribute 'radius_full'"
     ]
    }
   ],
   "source": [
    "plt.plot(M.radius, M.ne)"
   ]
  },
  {
   "cell_type": "code",
   "execution_count": null,
   "metadata": {},
   "outputs": [],
   "source": [
    "model_name = 'IC418_CMF'"
   ]
  },
  {
   "cell_type": "code",
   "execution_count": null,
   "metadata": {},
   "outputs": [],
   "source": [
    "Min.model_name = '{0}/{1}'.format(models_dir, model_name)\n",
    "Min.SED = 'STAR'\n",
    "Min.print_model()\n",
    "Min.run_model()"
   ]
  },
  {
   "cell_type": "code",
   "execution_count": null,
   "metadata": {},
   "outputs": [],
   "source": [
    "class Out(object):\n",
    "    \n",
    "    def __init__(self, name):\n",
    "        \"\"\"\n",
    "        Creating an object to manage the Cloudy output and compare to the observations\n",
    "        \"\"\"\n",
    "\n",
    "        self.model = pc.CloudyModel(name)\n",
    "        self.set_3D(use=False)\n",
    "        self.m3d = None\n",
    "        self.mask = None\n",
    "        self.profile_defined = False\n",
    "        self.dim_3D = 101\n",
    "        self.mask_ap_center = (0., 3.5)\n",
    "        self.mask_ap_size = (12., 1)\n",
    "        # define a RedCorr object\n",
    "        self.RC = pn.RedCorr(E_BV=0.26, R_V=3.6, law='F99')\n",
    "\n",
    "    def read_obs(self):\n",
    "        self.obs = np.genfromtxt('../Data/ic418N_c17.lines', dtype=[\"U13\",\"float\",\"int\"],\n",
    "                            delimiter=[13,10,1], names=['label', 'i_obs', 'obs'])\n",
    "        # Convert the Cloudy labels into pyCloudy labels\n",
    "        self.obs['label'] = [convert_label(l) for l in self.obs['label']]\n",
    "        # print(self.obs)\n",
    "        self.IR_cross_calib_done = False\n",
    "        self._cross_calibIR()\n",
    "        self.UV_cross_calib_done = False\n",
    "        self._cross_calibUV()\n",
    "\n",
    "    def print_obs(self):\n",
    "        for obs in self.obs:\n",
    "            print('{0} : {1}'.format(obs['label'], obs['i_obs']))\n",
    "\n",
    "    def _cross_calibIR(self):\n",
    "        \"\"\"\n",
    "        Cross calibration of the IR line intensities, using the theoretical value of 4.05mu/100.Hbeta, as given by the model\n",
    "        This method is not supposed to be used by the user (it begins with _).\n",
    "        \"\"\"\n",
    "        if self.IR_cross_calib_done:\n",
    "            pn.log_.warn('Are you trying to cross_calib data that are already calibrated???')\n",
    "            return\n",
    "        theo_ratio = self.get_emis('H__1_405116M') / self.get_emis('H__1_486136A') * 100\n",
    "        i_4051 = (self.obs['label'] == 'H__1_405116M')\n",
    "        norm = theo_ratio / self.obs['i_obs'][i_4051]\n",
    "        i_IR = (self.obs['obs'] == 1)\n",
    "        self.obs['i_obs'][i_IR] *= norm\n",
    "        self.IR_cross_calib_done = True\n",
    "        pc.log_.message('Correcting {0} IR lines so that 4.05mu/100.Hbeta = {1}, using norm={2}'.format(i_IR.sum(), \n",
    "                                                                                                        theo_ratio, \n",
    "                                                                                                        norm))\n",
    "\n",
    "    def _cross_calibUV(self):\n",
    "        \"\"\"\n",
    "        Cross calibration of the UV line intensities, using the theoretical value of [OII] 2471/7323, as given by the model.\n",
    "        This method is not supposed to be used by the user (it begins with _).\n",
    "        \"\"\"        \n",
    "        if self.UV_cross_calib_done:\n",
    "            pn.log_.warn('Are you trying to cross_calib data that are already calibrated???')\n",
    "            return\n",
    "        theo_ratio = self.get_emis('BLND_247100A') /self.get_emis('BLND_732300A')\n",
    "        i_2471 = (self.obs['label'] == 'BLND_247100A')\n",
    "        i_7323 = (self.obs['label'] == 'BLND_732300A')\n",
    "        norm = theo_ratio * self.obs['i_obs'][i_7323] / self.obs['i_obs'][i_2471]\n",
    "        i_UV = (self.obs['obs'] == 2)\n",
    "        self.obs['i_obs'][i_UV] *= norm\n",
    "        self.UV_cross_calib_done = True\n",
    "        pc.log_.message('Correcting {0} UV lines so that [OII] 2471/7323 = {1}, using norm={2}'.format(i_UV.sum(), \n",
    "                                                                                                       theo_ratio, \n",
    "                                                                                                       norm))\n",
    "        \n",
    "    def set_3D(self, use=False):\n",
    "        if use:\n",
    "            # already in 3D mode, nothing to do!\n",
    "            if self.use_3D:\n",
    "                return\n",
    "            # create the 3D model\n",
    "            # Very important to have center = True for the line profiles.\n",
    "            self.m3d = pc.C3D(self.model, dims = self.dim_3D, center = True, n_dim = 1)\n",
    "            self.use_3D = True\n",
    "            # need to read the observations as the IR and UV cross-calibration depends on the apertures\n",
    "            self.read_obs()\n",
    "        else:\n",
    "            self.use_3D = False\n",
    "            self.read_obs()\n",
    "            \n",
    "    def get_emis(self, label):\n",
    "        \"\"\"\n",
    "        Return the line emission. \n",
    "        If use_3D is set, the 3D model is used, otherwise the 1D\n",
    "        \"\"\"\n",
    "        # test if we are in the 3D case or not\n",
    "        if self.use_3D:\n",
    "            # look for the observation type, according to the \"label\" parameter\n",
    "            # in the table obs, look for the column 'obs'\n",
    "            obs_type = self.obs['obs'][(self.obs['label'] == label)][0]\n",
    "            if obs_type == 0: # this is the observation type for which a mask is required\n",
    "                # the mask is already defined?\n",
    "                if self.mask is None:\n",
    "                    # if not, do it!\n",
    "                    self.mask = self.get_mask()\n",
    "                mask = self.mask\n",
    "            else:\n",
    "                # if obs != 1, the observation is of the full object, no need for a mask\n",
    "                mask = 1.  \n",
    "            return ((self.m3d.get_emis(label)).sum(axis=1) * mask).sum()\n",
    "        else:\n",
    "            return self.model.get_emis_vol(label)\n",
    "        \n",
    "    def get_mask(self, seeing = None):\n",
    "        \"\"\"\n",
    "        Return a mask to apply to a 2D projection of a 3D models, to reproduce an aperture\n",
    "        \"\"\"\n",
    "        self.set_3D(use=True)\n",
    "        # convert the sizes in arcsec\n",
    "        x_arc = pc.astro.conv_arc(dist_proj = self.m3d.cub_coord.x_vec, dist = self.model.distance)\n",
    "        y_arc = pc.astro.conv_arc(dist_proj = self.m3d.cub_coord.y_vec, dist = self.model.distance)\n",
    "        # produce two 2D tables for X and Y\n",
    "        X, Y = np.meshgrid(x_arc, y_arc)\n",
    "    \n",
    "        mask = make_mask(X, Y, ap_center = self.mask_ap_center, ap_size = self.mask_ap_size, seeing = seeing)\n",
    "        return mask\n",
    "\n",
    "    def print_res(self):\n",
    "        \"\"\"\n",
    "        Print the results\n",
    "        \"\"\"\n",
    "        # Rout of the photoionization model\n",
    "        r_out_arcsec = conv_arc(dist = self.model.distance, dist_proj = np.max(self.model.r_out))\n",
    "        print('Outer radius in arcsec: {0:.2f}'.format(r_out_arcsec))\n",
    "        # Hbeta total absolute intensity at earth (distance dependant)\n",
    "        Hbeta_tot = self.model.get_emis_vol('H__1_486136A', at_earth=True)\n",
    "        # print the reddened Hbeta intensity, to be compared to the observed value of -9.57\n",
    "        print('Hbeta Abs   :  -9.57   {0:5.2f}'.format(np.log10(Hbeta_tot / self.RC.getCorr(4861.))))\n",
    "        \n",
    "        # the following prints line intensities, through an aperture or not, depending on the\n",
    "        # value of the use_3D parameter.\n",
    "        Hbeta = self.get_emis('H__1_486136A')\n",
    "        for obs in self.obs:\n",
    "            model = self.get_emis(obs['label']) / Hbeta * 100\n",
    "            print('{0} : {1:6.2f} {2:6.2f} {3:6.2f}'.format(obs['label'], obs['i_obs'], model, \n",
    "                                                            (model-obs['i_obs'])/obs['i_obs']))\n",
    "    \n",
    "    def plot_im(self, label = 'H__1_486136A', axis=1, plot_mask=True, ax=None):\n",
    "        \"\"\"\n",
    "        Plot an image projected on an axis\n",
    "        Parameters:\n",
    "            - label: which emission line image to plot\n",
    "            - axis: the projection axis\n",
    "            - plot_mask: if True (default). overplot the mask\n",
    "        \"\"\"\n",
    "        if ax is None:\n",
    "            f, ax = plt.subplots()\n",
    "        else:\n",
    "            f =plt.gcf()\n",
    "        self.set_3D(use=True)\n",
    "        # the size of the image in arcsec is determined from the distance of the object and \n",
    "        # the maximum of the x_vec variable\n",
    "        max_x = conv_arc(dist = self.model.distance, dist_proj = np.max(self.m3d.cub_coord.x_vec))\n",
    "        plt.imshow((self.m3d.get_emis(label)).sum(axis=axis), extent=[-max_x, max_x, -max_x, max_x])\n",
    "        if plot_mask:\n",
    "            if self.mask is None:\n",
    "                self.mask = self.get_mask()\n",
    "            ax.contour(self.mask,levels = [0.5], colors = 'black', linestyles='-', \n",
    "                        extent=[-max_x, max_x, -max_x, max_x])\n",
    "            ax.contour(self.mask,levels = [0.1, 0.9], colors = 'black', linestyles='--', \n",
    "                        extent=[-max_x, max_x, -max_x, max_x])\n",
    "        \n",
    "    def plot_3col(self, list_emis = ['N__2_654805A', 'O__3_500684A', 'H__1_486136A'], ax=None):\n",
    "        \"\"\"\n",
    "        plot a 3-colors image, using the list_emis references for RGB channels.\n",
    "        \"\"\"\n",
    "        if ax is None:\n",
    "            f, ax = plt.subplots()\n",
    "        else:\n",
    "            f = plt.gcf()\n",
    "        self.set_3D(use=True)\n",
    "        # the size of the image in arcsec is determined from the distance of the object and \n",
    "        # the maximum of the x_vec variable\n",
    "        max_x = conv_arc(dist = self.model.distance, dist_proj = np.max(self.m3d.cub_coord.x_vec))\n",
    "        ax.imshow(self.m3d.get_RGB(list_emis), extent=[-max_x, max_x, -max_x, max_x])\n",
    "        \n",
    "    def define_profiles(self, size_spectrum = 21, vel_max = 50., v_turb = 5., vel_params = [0., 10, 10]):\n",
    "        \"\"\"\n",
    "        Define the line profiles by configuring the profile based on a polynomial law.\n",
    "        \"\"\"\n",
    "        self.set_3D(use=True)\n",
    "        if self.mask is None:\n",
    "            self.mask = self.get_mask()\n",
    "        self.m3d.set_velocity(velocity_law = 'poly', params = vel_params)\n",
    "        self.m3d.config_profile(size_spectrum = size_spectrum, vel_max = vel_max, \n",
    "                                v_turb = v_turb, profile_function = 'gaussian')\n",
    "        self.profile_defined = True\n",
    "        \n",
    "    def plot_profile(self, x_pos = None, y_pos=None, legend=True, ax=None, \n",
    "                     use_mask=False, title=None, **kwargs):\n",
    "        \"\"\"\n",
    "        plot the line profiles of Hbeta, [NII] and [OIII] at a given position (x_pos, y_pos).\n",
    "        Arguments:\n",
    "            - x_pos, y_pos: position at which the line are extracted. If None, the center of the image is used.\n",
    "            - legend: If True (default), plot the legend.\n",
    "            - Any other argument is passed to the 3 plots (e.g. linestyle)\n",
    "        \"\"\"\n",
    "        if not self.profile_defined:\n",
    "            pc.log_.error('Profile not defined!')\n",
    "            return\n",
    "        if ax is None:\n",
    "            f, ax = plt.subplots()\n",
    "        else:\n",
    "            f = plt.gcf()\n",
    "        self.set_3D(use=True)\n",
    "        if x_pos is None:\n",
    "            x_pos = int(self.dim_3D/2)\n",
    "        if y_pos is None:\n",
    "            y_pos = int(self.dim_3D/2)\n",
    "        X = self.m3d.vel_tab\n",
    "        if use_mask:\n",
    "            Y = ((self.m3d.get_profile('H__1_486136A', axis='x') * self.get_mask()).sum(axis=1)).sum(axis=1)\n",
    "        else:\n",
    "            Y = self.m3d.get_profile('H__1_486136A', axis='x')[:,x_pos,y_pos] * 5    \n",
    "        ax.plot(X, Y, label = r'H$\\beta$', **kwargs)\n",
    "        if use_mask:\n",
    "            Y = ((self.m3d.get_profile('N__2_658345A', axis='x') * self.get_mask()).sum(axis=1)).sum(axis=1)\n",
    "        else:\n",
    "            Y = self.m3d.get_profile('N__2_658345A', axis='x')[:,x_pos,y_pos] * 5  \n",
    "        ax.plot(X, Y, label = r'[NII]$\\lambda$6584', **kwargs)\n",
    "        if use_mask:\n",
    "            Y = ((self.m3d.get_profile('O__3_500684A', axis='x') * self.get_mask()).sum(axis=1)).sum(axis=1)\n",
    "        else:\n",
    "            Y = self.m3d.get_profile('O__3_500684A', axis='x')[:,x_pos,y_pos]    \n",
    "        ax.plot(X, Y, label = r'[OIII]$\\lambda$5007', **kwargs)\n",
    "        if legend:\n",
    "            ax.legend()\n",
    "        if title is not None:\n",
    "            ax.set_title(title)\n",
    "        \n",
    "    def plot_cont(self, axes=None):\n",
    "        \n",
    "        if axes is None:\n",
    "            f, axes = plt.subplots(2, 1)\n",
    "        else:\n",
    "            f = plt.gcf()\n",
    "        axes[0].plot(self.model.get_cont_x('eV'), self.model.get_cont_y(cont='incid', unit='esA'))\n",
    "        axes[0].set_xlim(10, 54)\n",
    "        axes[0].set_xlabel('Energy (eV)')\n",
    "        axes[0].set_ylabel('erg.s-1.A-1')\n",
    "        \n",
    "        axes[1].loglog(self.model.get_cont_x('Ang'), self.model.get_cont_y(cont='diffout', unit='Jy'))\n",
    "        axes[1].set_xlim(1e3, 1e6)\n",
    "        axes[1].set_xlabel('Wavelength (A)')\n",
    "        axes[1].set_ylabel('Jy')\n",
    "        f.tight_layout()"
   ]
  },
  {
   "cell_type": "code",
   "execution_count": null,
   "metadata": {},
   "outputs": [],
   "source": [
    "# reading the outputs, \n",
    "# reading the observations,\n",
    "# doing the cross_calibration of the UV and IR relative to the optical, using the model results\n",
    "\n",
    "# The 2 previous models are read:\n",
    "MoutBB = Out('{0}/IC418_BB'.format(models_dir))\n",
    "MoutCMF = Out('{0}/IC418_CMF'.format(models_dir))"
   ]
  },
  {
   "cell_type": "code",
   "execution_count": null,
   "metadata": {},
   "outputs": [],
   "source": [
    "MoutBB.print_res()"
   ]
  },
  {
   "cell_type": "code",
   "execution_count": null,
   "metadata": {},
   "outputs": [],
   "source": [
    "MoutCMF.print_res()"
   ]
  },
  {
   "cell_type": "code",
   "execution_count": null,
   "metadata": {},
   "outputs": [],
   "source": [
    "# using a 3D models to take the slit into account\n",
    "MoutCMF.set_3D(use=True)\n",
    "MoutCMF.print_res()"
   ]
  },
  {
   "cell_type": "code",
   "execution_count": null,
   "metadata": {},
   "outputs": [],
   "source": [
    "# Draw a 3 colors image:\n",
    "MoutCMF.plot_3col()"
   ]
  },
  {
   "cell_type": "code",
   "execution_count": null,
   "metadata": {},
   "outputs": [],
   "source": [
    "# Draw an image and the slit:\n",
    "MoutCMF.plot_im('H__1_486136A')"
   ]
  },
  {
   "cell_type": "code",
   "execution_count": null,
   "metadata": {},
   "outputs": [],
   "source": [
    "# Plot the continuum: top: The stellar continuum in the ionizing region\n",
    "# bottom: the nebular+stellar in the UV+Opt+IR region\n",
    "f, axes = plt.subplots(2, 1, figsize=(10,8))\n",
    "MoutBB.plot_cont(axes=axes)\n",
    "MoutCMF.plot_cont(axes=axes)\n",
    "axes[1].set_ylim((1e-2, 1e3))"
   ]
  },
  {
   "cell_type": "markdown",
   "metadata": {},
   "source": [
    "## Computing line profiles"
   ]
  },
  {
   "cell_type": "markdown",
   "metadata": {},
   "source": [
    "Assume that the nebula is expanding with a given velocity law."
   ]
  },
  {
   "cell_type": "markdown",
   "metadata": {},
   "source": [
    "### Draw the profiles of the H$\\beta$, [O II] $\\lambda$ 3727, and [O III] $\\lambda$ 5007lines as would be observed with a pencil beam passing trough the center, for a constant expanding velocity, for a velocity increasing linearly with the radius and for a velocity increasing with the suqared radius."
   ]
  },
  {
   "cell_type": "markdown",
   "metadata": {},
   "source": [
    "### Compute the line profiles as would be observed by a long slit along the symmetry axis, with a beam shifted by 5 arcsec from the center and for the full nebula (for the ”Hubble flow” expanding nebula."
   ]
  },
  {
   "cell_type": "code",
   "execution_count": null,
   "metadata": {},
   "outputs": [],
   "source": [
    "f, axes = plt.subplots(3, 2, figsize=(12,18))\n",
    "\n",
    "MoutCMF.define_profiles(size_spectrum = 41,vel_max = 40, vel_params=[20.,0.,0])\n",
    "MoutCMF.plot_profile(ax=axes[0,0], title='V = CSTE, centered beam')\n",
    "\n",
    "MoutCMF.define_profiles(size_spectrum = 41,vel_max = 40, vel_params=[0.,40.,0])\n",
    "MoutCMF.plot_profile(ax=axes[0,1], title=r'V $\\propto$ R, centered beam')\n",
    "\n",
    "MoutCMF.define_profiles(size_spectrum = 41,vel_max = 40, vel_params=[0.,0.,60])\n",
    "MoutCMF.plot_profile(ax=axes[1,0], title=r'V $\\propto$ R$^2$, centered beam')\n",
    "\n",
    "MoutCMF.define_profiles(size_spectrum = 41,vel_max = 40, vel_params=[0.,40.,0])\n",
    "MoutCMF.mask = None\n",
    "MoutCMF.mask_ap_size = (30., 3.)\n",
    "MoutCMF.mask_ap_center = (0., 0.)\n",
    "MoutCMF.plot_profile(ax=axes[1,1], use_mask=True, \n",
    "                     title=r'V$\\propto$ R, long slit beam')\n",
    "\n",
    "MoutCMF.mask = None\n",
    "MoutCMF.mask_ap_size = (3., 3.)\n",
    "MoutCMF.mask_ap_center = (0., 5.)\n",
    "MoutCMF.plot_profile(ax=axes[2,0], use_mask=True,\n",
    "                     title=r'V$\\propto$ R, shifted small beam')\n",
    "\n",
    "MoutCMF.mask = None\n",
    "MoutCMF.mask_ap_size = (30., 30.)\n",
    "MoutCMF.mask_ap_center = (0., 0.)\n",
    "MoutCMF.plot_profile(ax=axes[2,1], use_mask=True,\n",
    "                     title=r'V$\\propto$ R, full nebula')"
   ]
  },
  {
   "cell_type": "markdown",
   "metadata": {},
   "source": [
    "### ??? Comments"
   ]
  },
  {
   "cell_type": "code",
   "execution_count": null,
   "metadata": {},
   "outputs": [],
   "source": [
    "# the following is to have the nice style in the Notebook.\n",
    "# Don't remove this.\n",
    "from IPython.core.display import HTML\n",
    "def css_styling():\n",
    "    styles = open(\"./styles/custom.css\", \"r\").read()\n",
    "    return HTML(styles)\n",
    "css_styling()"
   ]
  }
 ],
 "metadata": {
  "kernelspec": {
   "display_name": "Python 3",
   "language": "python",
   "name": "python3"
  },
  "language_info": {
   "codemirror_mode": {
    "name": "ipython",
    "version": 3
   },
   "file_extension": ".py",
   "mimetype": "text/x-python",
   "name": "python",
   "nbconvert_exporter": "python",
   "pygments_lexer": "ipython3",
   "version": "3.6.0"
  }
 },
 "nbformat": 4,
 "nbformat_minor": 1
}
