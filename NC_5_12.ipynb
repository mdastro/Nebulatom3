{
 "cells": [
  {
   "cell_type": "markdown",
   "metadata": {},
   "source": [
    "# FIRST STEPS WITH CLOUDY"
   ]
  },
  {
   "cell_type": "markdown",
   "metadata": {},
   "source": [
    "## The line list in Cloudy"
   ]
  },
  {
   "cell_type": "markdown",
   "metadata": {},
   "source": [
    "### Produce the entire list of lines computed by Cloudy and save it to a file"
   ]
  },
  {
   "cell_type": "markdown",
   "metadata": {},
   "source": [
    "##### We write a Cloudy input file that contains only a call to the smoke test and an instruction to print the line list into a given file."
   ]
  },
  {
   "cell_type": "code",
   "execution_count": 1,
   "metadata": {
    "collapsed": true
   },
   "outputs": [],
   "source": [
    "import numpy as np\n",
    "import pyneb as pn"
   ]
  },
  {
   "cell_type": "code",
   "execution_count": 2,
   "metadata": {},
   "outputs": [
    {
     "name": "stdout",
     "output_type": "stream",
     "text": [
      "Overwriting all_lines.in\n"
     ]
    }
   ],
   "source": [
    "%%writefile all_lines.in\n",
    "test\n",
    "save line labels \"_C17.01.txt\"\n"
   ]
  },
  {
   "cell_type": "markdown",
   "metadata": {},
   "source": [
    "##### The exclamation mark is used to send command to the OSX/Linux shell. We use here an alias pointing to the Cloudy program. You need to have it define for cloudy.exe to be known by your OS. You can insert the alias in your .tcshrc or the cloudy.exe program can been linked to $HOME/bin for easier and more direct acces."
   ]
  },
  {
   "cell_type": "code",
   "execution_count": 3,
   "metadata": {
    "collapsed": true
   },
   "outputs": [],
   "source": [
    "! /home/mldantas/Cloudy/source/cloudy.exe -p all_lines"
   ]
  },
  {
   "cell_type": "markdown",
   "metadata": {},
   "source": [
    "##### We can check that there are new all_lines* files."
   ]
  },
  {
   "cell_type": "code",
   "execution_count": 4,
   "metadata": {},
   "outputs": [
    {
     "name": "stdout",
     "output_type": "stream",
     "text": [
      "test\r\n",
      "save line labels \"_C17.01.txt\""
     ]
    }
   ],
   "source": [
    "! cat all_lines.in"
   ]
  },
  {
   "cell_type": "code",
   "execution_count": 5,
   "metadata": {},
   "outputs": [
    {
     "name": "stdout",
     "output_type": "stream",
     "text": [
      "all_lines_C17.01.txt  all_lines.in  all_lines.out\r\n"
     ]
    }
   ],
   "source": [
    "! ls all_lines*"
   ]
  },
  {
   "cell_type": "code",
   "execution_count": 6,
   "metadata": {
    "collapsed": true
   },
   "outputs": [],
   "source": [
    "! cloudy.exe -p all_lines"
   ]
  },
  {
   "cell_type": "markdown",
   "metadata": {},
   "source": [
    "### ??? If you are interested in the [O II] $\\lambda$ 3727 line, which line(s) from the line list should you consider? Which lines of [O III] are available in the line list? What is the label of [O III ] $\\lambda$ 4363? Which HeI 5876 is to be used in usual runs?"
   ]
  },
  {
   "cell_type": "markdown",
   "metadata": {},
   "source": [
    "We should use Case B HeI."
   ]
  },
  {
   "cell_type": "markdown",
   "metadata": {},
   "source": [
    "## Find the atomic data used by Cloudy"
   ]
  },
  {
   "cell_type": "markdown",
   "metadata": {},
   "source": [
    "### Create a file containing all the references for the atomic data used in the current version of Cloudy."
   ]
  },
  {
   "cell_type": "markdown",
   "metadata": {},
   "source": [
    "### ??? Check whether the references for the transition probabilities and collision strengths for [O II], [O III], [N II], [Ne III],[S II], [S II], and [Ar IV] are the same as for the default version of Pyneb."
   ]
  },
  {
   "cell_type": "markdown",
   "metadata": {},
   "source": [
    "## Some simple runs with Cloudy"
   ]
  },
  {
   "cell_type": "markdown",
   "metadata": {},
   "source": [
    "##### Remember that you must always check that the mod- els ran OK. This is especially important when run- ning grids of models. The output file should end with ‘Cloudy exited OK’. "
   ]
  },
  {
   "cell_type": "markdown",
   "metadata": {},
   "source": [
    "### __Model 1__. Read the instructions in Sects. 2.1 and 2.2 in docs/QuickStart.pdf Run the simple planetary nebula model of Sect. 2.1 of Quickstart.  The ionizing source is a blackbody of temperature 10$^5$ K and luminosity 10$^{38}$ erg s$^{−1}$.  The inner radius of the nebula is 10$^{18}$ cm and its hydrogen density is 10$^5$. The chemical composition is the standard planetary nebula of Cloudy."
   ]
  },
  {
   "cell_type": "markdown",
   "metadata": {},
   "source": [
    "##### We write a Cloudy input file on the disk. It contains all the parameters to run a simple model. Notice the two empty lines at the end of the cell."
   ]
  },
  {
   "cell_type": "code",
   "execution_count": 7,
   "metadata": {},
   "outputs": [
    {
     "name": "stdout",
     "output_type": "stream",
     "text": [
      "Overwriting data_used.in\n"
     ]
    }
   ],
   "source": [
    "%%writefile data_used.in\n",
    "test\n",
    "database print"
   ]
  },
  {
   "cell_type": "code",
   "execution_count": 8,
   "metadata": {
    "collapsed": true
   },
   "outputs": [],
   "source": [
    "! cloudy.exe -p data_used"
   ]
  },
  {
   "cell_type": "code",
   "execution_count": 9,
   "metadata": {},
   "outputs": [
    {
     "name": "stdout",
     "output_type": "stream",
     "text": [
      "Overwriting M5_1.in\n"
     ]
    }
   ],
   "source": [
    "%%writefile M5_1.in\n",
    "blackbody T=1e5\n",
    "luminosity total 38\n",
    "radius 18\n",
    "hden 5\n",
    "abundances planetary nebulae\n",
    "save overview \".ovr\""
   ]
  },
  {
   "cell_type": "markdown",
   "metadata": {},
   "source": [
    "##### We run the model. "
   ]
  },
  {
   "cell_type": "code",
   "execution_count": 10,
   "metadata": {
    "collapsed": true
   },
   "outputs": [],
   "source": [
    "! cloudy.exe -p M5_1"
   ]
  },
  {
   "cell_type": "markdown",
   "metadata": {},
   "source": [
    "##### We check that new output files are produced. Notice that ls is an ipython command too."
   ]
  },
  {
   "cell_type": "code",
   "execution_count": 11,
   "metadata": {
    "scrolled": true
   },
   "outputs": [
    {
     "name": "stdout",
     "output_type": "stream",
     "text": [
      "-rw-rw-r-- 1 mldantas mldantas    102 Mai 15 16:16 M5_1.in\r\n",
      "-rw-rw-r-- 1 mldantas mldantas 125672 Mai 15 16:17 M5_1.out\r\n",
      "-rw-rw-r-- 1 mldantas mldantas  40766 Mai 15 16:17 M5_1.ovr\r\n"
     ]
    }
   ],
   "source": [
    "ls -l M5_1.*"
   ]
  },
  {
   "cell_type": "markdown",
   "metadata": {},
   "source": [
    "### ??? Is the chemical composition used by Cloudy as you expected? Look at the intensity predicted for [O III] $\\lambda$ 5007.  Is it typical of planetary nebulae? Does the He II $\\lambda$ 4686/H$\\beta$ ratio correspond to the expected one following Eq. 5 of Stasinska et al. (2015)?  Why? "
   ]
  },
  {
   "cell_type": "code",
   "execution_count": 12,
   "metadata": {},
   "outputs": [
    {
     "name": "stdout",
     "output_type": "stream",
     "text": [
      "-4.30123854769\n"
     ]
    }
   ],
   "source": [
    "logU = np.log10((10**47.9224 + 10**47.971 + 10**47.0452 + 10**36.9991)/\n",
    "                (4. * np.pi * 1e18**2 * 1e5 * pn.CST.CLIGHT  ))\n",
    "print (logU) # This U is very small for a PN"
   ]
  },
  {
   "cell_type": "markdown",
   "metadata": {},
   "source": [
    "### ??? Estimate the age of the PN assuming an expansion velocity of 20 km/sec."
   ]
  },
  {
   "cell_type": "code",
   "execution_count": 16,
   "metadata": {},
   "outputs": [
    {
     "name": "stdout",
     "output_type": "stream",
     "text": [
      "15854.895991882295\n"
     ]
    }
   ],
   "source": [
    "age = 1e18 /1e5 / 20 /3600 / 24 / 365\n",
    "print(age) #output in yr"
   ]
  },
  {
   "cell_type": "markdown",
   "metadata": {},
   "source": [
    "##### a PN with such an age would have a density much smaller tham 10^5 cm^-3"
   ]
  },
  {
   "cell_type": "code",
   "execution_count": 17,
   "metadata": {},
   "outputs": [
    {
     "name": "stdout",
     "output_type": "stream",
     "text": [
      "O3bn      5007.00A   35.312    0.2605      Ca B      19.0566m   33.477    0.0038      C  1      8727.13A   34.940    0.1107\r\n",
      "He 1      20.5007m   33.046    0.0014      He 2      1640.00A   35.432    0.3436      C  2      550.361A   33.281    0.0024\r\n",
      "Ca A      2.56362m   33.019    0.0013      He 1      3450.26A   33.005    0.0013      Blnd      5007.00A   35.178    0.1912\r\n",
      "O3bn      5007.00A   35.302    0.2552      He 1      2760.44A   33.558    0.0046      O  1      6363.78A   35.603    0.5104\r\n",
      "He 2      1.01242m   33.938    0.0111      Fe 2      9033.50A   33.028    0.0014      Blnd      5007.00A   35.177    0.1915\r\n"
     ]
    }
   ],
   "source": [
    "!fgrep 5007 M5_1.out"
   ]
  },
  {
   "cell_type": "code",
   "execution_count": 18,
   "metadata": {},
   "outputs": [
    {
     "name": "stdout",
     "output_type": "stream",
     "text": [
      "H  1      26.3427m   33.776    0.0076      Ca A      4686.01A   34.613    0.0520      S  3      18.7078m   34.341    0.0278\r\n",
      "He 2      3.84972m   32.991    0.0012      Ca B      4686.01A   34.643    0.0558      Cl 3      3342.80A   33.209    0.0021\r\n",
      "CION            0    34.642    0.0557      He 2      4686.01A   34.552    0.0453      N  2      508.099A   32.984    0.0012\r\n",
      "CaBo      4686.01A   34.640    0.0554      He 2      2214.80A   33.315    0.0026      O  1      973.577A   32.950    0.0011\r\n",
      "He 2      4686.01A   34.550    0.0453      Fe 2      1.80939m   33.508    0.0041      Blnd      9850.00A   35.672    0.5987\r\n"
     ]
    }
   ],
   "source": [
    "!fgrep 4686 M5_1.out"
   ]
  },
  {
   "cell_type": "markdown",
   "metadata": {},
   "source": [
    "### __Model 2__. Run the same model, now specifying the ionization parameter to be 10$^{−2.5}$ instead of giving the inner radius and the total luminosity."
   ]
  },
  {
   "cell_type": "markdown",
   "metadata": {},
   "source": [
    "##### We write a new input file on the disk."
   ]
  },
  {
   "cell_type": "code",
   "execution_count": 19,
   "metadata": {},
   "outputs": [
    {
     "name": "stdout",
     "output_type": "stream",
     "text": [
      "Writing M5_2.in\n"
     ]
    }
   ],
   "source": [
    "%%writefile M5_2.in\n",
    "blackbody T=1e5\n",
    "ionization parameter -2.5\n",
    "hden 5\n",
    "abundances planetary nebulae\n",
    "save overview \".ovr\"\n",
    "\n"
   ]
  },
  {
   "cell_type": "markdown",
   "metadata": {},
   "source": [
    "##### The cloudy.exe program has been linked to $HOME/bin for easier and more direct acces."
   ]
  },
  {
   "cell_type": "code",
   "execution_count": 20,
   "metadata": {
    "collapsed": true
   },
   "outputs": [],
   "source": [
    "! cloudy.exe -p M5_2"
   ]
  },
  {
   "cell_type": "markdown",
   "metadata": {},
   "source": [
    "### ??? Is the geometry assumed by Cloudy the one you wanted? How have the values of the mean ionisation (over radius * electron density) changed ? Why? Does the He II $\\lambda$ 4686/Hβ ratio now correspond to the expected one following Eq. 5 of Stasinska et al. (2015)? Why?"
   ]
  },
  {
   "cell_type": "code",
   "execution_count": 21,
   "metadata": {},
   "outputs": [
    {
     "name": "stdout",
     "output_type": "stream",
     "text": [
      "O3bn      5007.00A    1.674   13.3734      H  1      1.54389m   -2.121    0.0021      C  4      312.452A   -1.594    0.0072\r\n",
      "He 1      20.5007m   -2.430    0.0011      He 2      1.28134m   -2.414    0.0011      O  2      384.420A   -2.113    0.0022\r\n",
      "Ca B      1.55564m   -2.107    0.0022      Ne 2      12.8101m   -0.865    0.0387      Blnd      5007.00A    1.812   18.3709\r\n",
      "O3bn      5007.00A    1.618   12.5977      He 1      4143.76A   -1.897    0.0038      S  4      744.904A   -2.477    0.0010\r\n",
      "He 1      505.033A   -1.873    0.0041      N  3      1749.67A   -0.342    0.1382      Blnd      5007.00A    1.784   18.4662\r\n"
     ]
    }
   ],
   "source": [
    "!fgrep 5007 M5_2.out"
   ]
  },
  {
   "cell_type": "code",
   "execution_count": 22,
   "metadata": {},
   "outputs": [
    {
     "name": "stdout",
     "output_type": "stream",
     "text": [
      "nInu      1143.64A    1.716   14.7273      Ca A      4686.01A   -0.401    0.1126      O  4      554.076A   -1.751    0.0050\r\n",
      "H  1      4.46640m   -1.368    0.0121      Ca B      4686.01A   -0.368    0.1216      C  3      1491.20A   -2.165    0.0019\r\n",
      "He 2      7.38052m   -2.395    0.0011      He 2      4686.01A   -0.447    0.1012      N  2      437.731A   -1.951    0.0032\r\n",
      "CaBo      4686.01A   -0.373    0.1202      TOTL      1.08303m    0.786    1.7303      O  4      239.130A   -1.653    0.0063\r\n",
      "He 2      4686.01A   -0.456    0.1063      S  3      1200.97A   -2.256    0.0017      Ar 3      472.659A   -2.049    0.0027\r\n"
     ]
    }
   ],
   "source": [
    "!fgrep 4686 M5_2.out"
   ]
  },
  {
   "cell_type": "markdown",
   "metadata": {},
   "source": [
    "### __Model 3__. Run the same model as Model 2, now using the Solar abundances from Asplund et al. (2009) for He, C, N, O, Ne, Mg, Si, S, Ar, Fe which, in units of 12+log X/H are, respectively 10.93, 8.43, 7.83, O 8.69, 7.93, 7.60, 7.12,6.40, 7.50."
   ]
  },
  {
   "cell_type": "code",
   "execution_count": 23,
   "metadata": {},
   "outputs": [
    {
     "name": "stdout",
     "output_type": "stream",
     "text": [
      "Writing M5_3.in\n"
     ]
    }
   ],
   "source": [
    "%%writefile M5_3.in\n",
    "blackbody T=1e5\n",
    "ionization parameter -2.5\n",
    "hden 5\n",
    "element abundance Helium -1.\n",
    "element abundance Nitrogen -4.17\n",
    "element abundance Carbon -3.57\n",
    "element abundance Oxygen -3.31\n",
    "element abundance Neon -4.07\n",
    "element abundance Sulphur -4.88\n",
    "element abundance Argon -5.600\n",
    "element abundance Iron -4.500\n",
    "save overview \".ovr\"\n",
    "\n"
   ]
  },
  {
   "cell_type": "code",
   "execution_count": 24,
   "metadata": {
    "collapsed": true
   },
   "outputs": [],
   "source": [
    "! cloudy.exe -p M5_3"
   ]
  },
  {
   "cell_type": "markdown",
   "metadata": {},
   "source": [
    "### ??? How were chosen the abundances that you did not specify? What about grains?"
   ]
  },
  {
   "cell_type": "code",
   "execution_count": 25,
   "metadata": {},
   "outputs": [
    {
     "name": "stdout",
     "output_type": "stream",
     "text": [
      "Writing M5_3b.in\n"
     ]
    }
   ],
   "source": [
    "%%writefile M5_3b.in\n",
    "blackbody T=1e5\n",
    "ionization parameter -2.5\n",
    "hden 5\n",
    "abundances all -20\n",
    "element abundance Helium -1.\n",
    "element abundance Nitrogen -4.17\n",
    "element abundance Carbon -3.57\n",
    "element abundance Oxygen -3.31\n",
    "element abundance Neon -4.07\n",
    "element abundance Sulphur -4.88\n",
    "element abundance Argon -5.600\n",
    "element abundance Iron -4.500\n",
    "element abundance Aluminium -5.500\n",
    "save overview \".ovr\"\n",
    "\n"
   ]
  },
  {
   "cell_type": "code",
   "execution_count": 26,
   "metadata": {
    "collapsed": true
   },
   "outputs": [],
   "source": [
    "! cloudy.exe -p M5_3b"
   ]
  },
  {
   "cell_type": "markdown",
   "metadata": {},
   "source": [
    "### __Model 4__. Run the same model as Model 3, now adopting a blackbody temperature of 50,000K."
   ]
  },
  {
   "cell_type": "code",
   "execution_count": 27,
   "metadata": {},
   "outputs": [
    {
     "name": "stdout",
     "output_type": "stream",
     "text": [
      "Writing M5_4.in\n"
     ]
    }
   ],
   "source": [
    "%%writefile M5_4.in\n",
    "blackbody T=5e4\n",
    "ionization parameter -2.5\n",
    "hden 5\n",
    "abundances all -20\n",
    "element abundance Helium -1.\n",
    "element abundance Nitrogen -4.17\n",
    "element abundance Carbon -3.57\n",
    "element abundance Oxygen -3.31\n",
    "element abundance Neon -4.07\n",
    "element abundance Sulphur -4.88\n",
    "element abundance Argon -5.600\n",
    "element abundance Iron -4.500\n",
    "element abundance Aluminium -5.500\n",
    "save overview \".ovr\"\n",
    "\n"
   ]
  },
  {
   "cell_type": "code",
   "execution_count": 28,
   "metadata": {
    "collapsed": true
   },
   "outputs": [],
   "source": [
    "! cloudy.exe -p M5_4"
   ]
  },
  {
   "cell_type": "markdown",
   "metadata": {},
   "source": [
    "### ??? Comment on the ionisation structure and the average electron temperature. Search for the intensities of the following lines: Halpha, [NII] 6584, [OII] 3727, [OIII] 5007, [OIII] 4363, and [OIV] 26m."
   ]
  },
  {
   "cell_type": "raw",
   "metadata": {},
   "source": [
    "MODEL       M5 3b   M5 4\n",
    "T*           1e5     5e4\n",
    "Te         11500    9280 \n",
    "O+/O        0.14    0.37\n",
    "O++/O       0.78    0.61\n",
    "Hbeta       1.00    1.00\n",
    "Halpha      2.80    2.86\n",
    "[NII] 6584  0.41    0.38\n",
    "[OII] 3727  0.25    0.26\n",
    "[OIII] 5007 15.1    5.42\n",
    "[OIII] 4363 .219    0.038\n",
    "[OIV] 26m   .043    NaN\n",
    "4363/5007  0.014    0.007"
   ]
  },
  {
   "cell_type": "markdown",
   "metadata": {},
   "source": [
    "### __Model 5__. Run the same model as Model 4, now adopting an hydrogen density of 10 cm$^{-3}$."
   ]
  },
  {
   "cell_type": "code",
   "execution_count": 29,
   "metadata": {},
   "outputs": [
    {
     "name": "stdout",
     "output_type": "stream",
     "text": [
      "Writing M5_5.in\n"
     ]
    }
   ],
   "source": [
    "%%writefile M5_5.in\n",
    "blackbody T=5e4\n",
    "ionization parameter -2.5\n",
    "hden 1\n",
    "abundances all -20\n",
    "element abundance Helium -1.\n",
    "element abundance Nitrogen -4.17\n",
    "element abundance Carbon -3.57\n",
    "element abundance Oxygen -3.31\n",
    "element abundance Neon -4.07\n",
    "element abundance Sulphur -4.88\n",
    "element abundance Argon -5.600\n",
    "element abundance Iron -4.500\n",
    "element abundance Aluminium -5.500\n",
    "save overview \".ovr\"\n",
    "\n"
   ]
  },
  {
   "cell_type": "code",
   "execution_count": 30,
   "metadata": {
    "collapsed": true
   },
   "outputs": [],
   "source": [
    "! cloudy.exe -p M5_5"
   ]
  },
  {
   "cell_type": "markdown",
   "metadata": {},
   "source": [
    "### ??? How did the intensities of the most important line change with respect to Model 4. Why?"
   ]
  },
  {
   "cell_type": "raw",
   "metadata": {},
   "source": [
    "MODEL       M5 3    M5 4   M5 5\n",
    "nH           1e5     1e5    1e3   \n",
    "T*           1e5     5e4    5e4 \n",
    "Te         11500    9280   6990\n",
    "O+/O        0.14    0.37   0.40\n",
    "O++/O       0.78    0.61   0.58\n",
    "Hbeta       1.00    1.00   1.00\n",
    "Halpha      2.80    2.86   2.98\n",
    "[NII] 6584  0.41    0.38   0.46\n",
    "[OII] 3727  0.25    0.26   1.27\n",
    "[OIII] 5007 15.1    5.42   1.82\n",
    "[OIII] 4363 .219    0.038  0.003\n",
    "[OIV] 26m   .043    NaN    0.007\n",
    "4363/5007  0.014    0.007  0.0016"
   ]
  },
  {
   "cell_type": "markdown",
   "metadata": {},
   "source": [
    "### __Model 6__. Run the same model as Model 5, now trying to save on execution time."
   ]
  },
  {
   "cell_type": "code",
   "execution_count": 31,
   "metadata": {},
   "outputs": [
    {
     "name": "stdout",
     "output_type": "stream",
     "text": [
      "Writing M5_6.in\n"
     ]
    }
   ],
   "source": [
    "%%writefile M5_6.in\n",
    "blackbody T=5e4\n",
    "ionization parameter -2.5\n",
    "hden 1\n",
    "abundances all -20\n",
    "element abundance Helium -1.\n",
    "element abundance Nitrogen -4.17\n",
    "element abundance Carbon -3.57\n",
    "element abundance Oxygen -3.31\n",
    "element abundance Neon -4.07\n",
    "element abundance Sulphur -4.88\n",
    "element abundance Argon -5.600\n",
    "element abundance Iron -4.500\n",
    "element abundance Aluminium -5.500\n",
    "element limit off -7\n",
    "no molecules\n",
    "no level2 lines\n",
    "no fine opacities\n",
    "atom h-like levels small\n",
    "atom he-like levels small\n",
    "save overview \".ovr\"\n",
    "\n"
   ]
  },
  {
   "cell_type": "code",
   "execution_count": 32,
   "metadata": {
    "collapsed": true
   },
   "outputs": [],
   "source": [
    "! cloudy.exe -p M5_6"
   ]
  },
  {
   "cell_type": "markdown",
   "metadata": {},
   "source": [
    "### ??? By how much was your execution time reduced? Are the results virtually identical to the ones of Model 5? In particular, comment on the intensity of the He I $\\lambda$ 5876 line."
   ]
  },
  {
   "cell_type": "raw",
   "metadata": {},
   "source": [
    "MODEL       M5 3    M5 4   M5 5  M5 6 \n",
    "                                 Fast\n",
    "nH         1e5      1e5     1e3   \n",
    "T*           1e5     5e4    5e4 \n",
    "Te         11300    9280   6990  \n",
    "O+/O        0.14    0.37   0.40\n",
    "O++/O       0.78    0.61   0.58\n",
    "Hbeta       1.00    1.00   1.00\n",
    "Halpha      2.80    2.86   2.98  2.98\n",
    "HeI 5876                   0.155 0.165\n",
    "[NII] 6584  0.41    0.38   0.46\n",
    "[OII] 3727  0.25    0.26   1.27\n",
    "[OIII] 5007 15.1    5.42   1.82\n",
    "[OIII] 4363 .219    0.038  0.003\n",
    "[OIV] 26m   .043    NaN    0.007\n",
    "4363/5007  0.014    0.007  0.0016"
   ]
  },
  {
   "cell_type": "markdown",
   "metadata": {},
   "source": [
    "### __Model 7__. Run the same model as Model 6, now adding 0.35 dex to the abundances of the heavy elements."
   ]
  },
  {
   "cell_type": "code",
   "execution_count": 33,
   "metadata": {},
   "outputs": [
    {
     "name": "stdout",
     "output_type": "stream",
     "text": [
      "Writing M5_7.in\n"
     ]
    }
   ],
   "source": [
    "%%writefile M5_7.in\n",
    "blackbody T=5e4\n",
    "ionization parameter -2.5\n",
    "hden 1\n",
    "abundances all -20\n",
    "element abundance Helium -1.\n",
    "element abundance Nitrogen -3.87 #-4.17\n",
    "element abundance Carbon -3.27 #-3.57\n",
    "element abundance Oxygen -3.01 #-3.31\n",
    "element abundance Neon -3.77 # -4.07\n",
    "element abundance Sulphur -4.58 #-4.88\n",
    "element abundance Argon -5.30 #-5.600\n",
    "element abundance Iron -4.20 #-4.500\n",
    "element abundance Aluminium -5.200 #-5.500\n",
    "element limit off -7\n",
    "no molecules\n",
    "no level2 lines\n",
    "no fine opacities\n",
    "atom h-like levels small\n",
    "atom he-like levels small\n",
    "save overview \".ovr\"\n",
    "\n"
   ]
  },
  {
   "cell_type": "code",
   "execution_count": 34,
   "metadata": {
    "collapsed": true
   },
   "outputs": [],
   "source": [
    "! cloudy.exe -p M5_7"
   ]
  },
  {
   "cell_type": "markdown",
   "metadata": {},
   "source": [
    "### ???Comment on the results."
   ]
  },
  {
   "cell_type": "raw",
   "metadata": {},
   "source": [
    "MODEL       M5 3    M5 4   M5 5  M5 7\n",
    "                                 Z*2\n",
    "nH           1e5    1e5    1e3   \n",
    "T*           1e5    5e4    5e4 \n",
    "Te         11300    9280   6990  3840\n",
    "O+/O        0.14    0.37   0.37  0.25 \n",
    "O++/O       0.78    0.61   0.61  0.74\n",
    "Hbeta       1.00    1.00   1.00  1.00\n",
    "Halpha      2.80    2.86   2.98  3.53 \n",
    "[NII] 6584  0.41    0.38   0.46  0.023\n",
    "[OII] 3727  0.25    0.26   1.27  0.048\n",
    "[OIII] 5007 15.1    5.42   1.82  0.15\n",
    "[OIII] 4363 .219    0.038  0.003  NaN\n",
    "[OIV] 26m   .043    NaN    0.007 0.227\n",
    "4363/5007  0.014    0.007  0.0016 NaN    "
   ]
  },
  {
   "cell_type": "markdown",
   "metadata": {},
   "source": [
    "### __Model 8__. Run the same model as Model 7 correcting the problem of Model 7 (if you find there was one),"
   ]
  },
  {
   "cell_type": "code",
   "execution_count": 35,
   "metadata": {},
   "outputs": [
    {
     "name": "stdout",
     "output_type": "stream",
     "text": [
      "Writing M5_8.in\n"
     ]
    }
   ],
   "source": [
    "%%writefile M5_8.in\n",
    "blackbody T=5e4\n",
    "ionization parameter -2.5\n",
    "hden 1\n",
    "abundances all -20\n",
    "element abundance Helium -1.\n",
    "element abundance Nitrogen -3.87 #-4.17\n",
    "element abundance Carbon -3.27 #-3.57\n",
    "element abundance Oxygen -3.01 #-3.31\n",
    "element abundance Neon -3.77 # -4.07\n",
    "element abundance Sulphur -4.58 #-4.88\n",
    "element abundance Argon -5.30 #-5.600\n",
    "element abundance Iron -4.20 #-4.500\n",
    "element abundance Aluminium -5.200 #-5.500\n",
    "no molecules\n",
    "no level2 lines\n",
    "no fine opacities\n",
    "atom h-like levels small\n",
    "atom he-like levels small\n",
    "element limit off -7\n",
    "stop temperature 100\n",
    "save overview \".ovr\"\n",
    "\n"
   ]
  },
  {
   "cell_type": "markdown",
   "metadata": {},
   "source": [
    "MLLD:It is recommended to always put the stop temperature around 100!"
   ]
  },
  {
   "cell_type": "code",
   "execution_count": 36,
   "metadata": {
    "collapsed": true
   },
   "outputs": [],
   "source": [
    "! cloudy.exe -p M5_8"
   ]
  },
  {
   "cell_type": "markdown",
   "metadata": {},
   "source": [
    "### ??? How did the intensities change with respect to Model 7? What is now the execution time?"
   ]
  },
  {
   "cell_type": "raw",
   "metadata": {},
   "source": [
    "MODEL       M5 3    M5 4   M5 5  M5 7   M5 8\n",
    "                                        Tcut=100\n",
    "                                 Z*2   \n",
    "nH         1e5      1e5     1e3   \n",
    "T*           1e5     5e4    5e4 \n",
    "Te         11300    9280   6990   3840   4330\n",
    "O+/O        0.14    0.37   0.37   0.25   0.49\n",
    "O++/O       0.78    0.61   0.61   0.74   0.48\n",
    "Hbeta       1.00    1.00   1.00   1.00   1.00\n",
    "Halpha      2.80    2.86   2.98   3.53   3.13\n",
    "[NII] 6584  0.41    0.38   0.46   0.023  0.20\n",
    "[OI]  6300                        NaN    0.003  \n",
    "[OII] 3727  0.25    0.26   1.27   0.048  0.22\n",
    "[OIII] 5007 15.1    5.42   1.82   0.15   0.20\n",
    "[OIII] 4363 .219    0.038  0.003  NaN    NaN\n",
    "[OIV] 26m   .043    NaN    0.007  0.227  0.0099\n",
    "4363/5007  0.014    0.007  0.0016 NaN    NaN"
   ]
  },
  {
   "cell_type": "markdown",
   "metadata": {},
   "source": [
    "### ??? General comments on this exercise: What are important things you need to check when running Cloudy?"
   ]
  },
  {
   "cell_type": "code",
   "execution_count": null,
   "metadata": {},
   "outputs": [],
   "source": [
    "# the following is to have the nice style in the Notebook.\n",
    "# Don't remove this.\n",
    "from IPython.core.display import HTML\n",
    "def css_styling():\n",
    "    styles = open(\"./styles/custom.css\", \"r\").read()\n",
    "    return HTML(styles)\n",
    "css_styling()"
   ]
  },
  {
   "cell_type": "code",
   "execution_count": null,
   "metadata": {
    "collapsed": true
   },
   "outputs": [],
   "source": []
  }
 ],
 "metadata": {
  "kernelspec": {
   "display_name": "Python 3",
   "language": "python",
   "name": "python3"
  },
  "language_info": {
   "codemirror_mode": {
    "name": "ipython",
    "version": 3
   },
   "file_extension": ".py",
   "mimetype": "text/x-python",
   "name": "python",
   "nbconvert_exporter": "python",
   "pygments_lexer": "ipython3",
   "version": "3.6.0"
  }
 },
 "nbformat": 4,
 "nbformat_minor": 1
}
