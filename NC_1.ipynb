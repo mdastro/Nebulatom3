{
 "cells": [
  {
   "cell_type": "markdown",
   "metadata": {},
   "source": [
    "# Derenning"
   ]
  },
  {
   "cell_type": "markdown",
   "metadata": {},
   "source": [
    "These exercises make use of the PyNeb software (Luridiana et al. 2015)\n",
    "\n",
    "All observations are affected by extinction due to interstellar dust. The first thing an observer must do\n",
    "once the spectra are calibrated and the line intensities measured is to correct the line intensities for extinction. Published data nowadays often give only reddening-corrected line fluxes and the value of the extinction in the\n",
    "V band, A$_V$. \n",
    "It may however be of interest to recover the observed intensities and apply a different extinction law."
   ]
  },
  {
   "cell_type": "markdown",
   "metadata": {},
   "source": [
    "## The effect of different reddening laws"
   ]
  },
  {
   "cell_type": "markdown",
   "metadata": {},
   "source": [
    "### Take the reddening-corrected line intensities of N44C, a compact H II region in the Large Magellanic Cloud, from Table 3 in Garnett et al. (2000). For this object, assuming an intrinsic H$\\alpha$/H$\\beta$ ratio equal to 2.86 the authors find A$_V$ = 0.25 using the classical Cardelli et al. (1989) extinction law with R$_V$ = 3.1."
   ]
  },
  {
   "cell_type": "markdown",
   "metadata": {},
   "source": [
    "##### We first tell the notebook to send figures inside the document, not in separate windows. We then import some needed libraries, with aliases."
   ]
  },
  {
   "cell_type": "code",
   "execution_count": 1,
   "metadata": {
    "collapsed": true
   },
   "outputs": [],
   "source": [
    "%matplotlib inline\n",
    "import numpy as np\n",
    "import matplotlib.pyplot as plt"
   ]
  },
  {
   "cell_type": "code",
   "execution_count": 2,
   "metadata": {
    "collapsed": true
   },
   "outputs": [],
   "source": [
    "import pyneb as pn"
   ]
  },
  {
   "cell_type": "code",
   "execution_count": 3,
   "metadata": {},
   "outputs": [
    {
     "data": {
      "text/plain": [
       "'1.1.1'"
      ]
     },
     "execution_count": 3,
     "metadata": {},
     "output_type": "execute_result"
    }
   ],
   "source": [
    "pn.__version__"
   ]
  },
  {
   "cell_type": "markdown",
   "metadata": {},
   "source": [
    "##### Consider the deep spectrum of the Galactic \\hii\\ region NGC 3603 obtained by Garc\\'ia Rojas et al. (2006) (their Table 2).\n",
    "##### See http://vizier.u-strasbg.fr/viz-bin/VizieR?-source=J/MNRAS/368/253&-to=3\n",
    "##### The table can be downloaded in ; separated values."
   ]
  },
  {
   "cell_type": "markdown",
   "metadata": {},
   "source": [
    "##### We read the file using the numpy genfromtxt utility:"
   ]
  },
  {
   "cell_type": "code",
   "execution_count": 4,
   "metadata": {
    "collapsed": true
   },
   "outputs": [],
   "source": [
    "data = np.genfromtxt('../Data/Garcia-Rojas.tsv', \n",
    "                     delimiter=';', \n",
    "                     dtype=('U8', 'float', 'U9', 'U15', 'float', 'float', 'float', 'int', 'a1','a1'), \n",
    "                     skip_header=47, \n",
    "                     names=('Cluster','Lambda0','Ion','Mult','LambdaObs','F(Lambda)','I(Lambda)','e_F(Lambda)','u_F(Lambda)','Notes'))"
   ]
  },
  {
   "cell_type": "markdown",
   "metadata": {},
   "source": [
    "##### Let's have a look at the __data__ variable."
   ]
  },
  {
   "cell_type": "code",
   "execution_count": 5,
   "metadata": {},
   "outputs": [
    {
     "name": "stdout",
     "output_type": "stream",
     "text": [
      "('M 16    ', 3187.84, 'He I     ', '3              ', 3187.81, 0.693, 1.352, 6, b' ', b'')\n",
      "754\n"
     ]
    }
   ],
   "source": [
    "print(data[0])\n",
    "print(len(data))"
   ]
  },
  {
   "cell_type": "code",
   "execution_count": 6,
   "metadata": {},
   "outputs": [
    {
     "name": "stdout",
     "output_type": "stream",
     "text": [
      "['M 16    ' 'M 16    ' 'M 16    ' 'M 16    ' 'M 16    ' 'M 16    '\n",
      " 'M 16    ' 'M 16    ' 'M 16    ' 'M 16    ']\n"
     ]
    }
   ],
   "source": [
    "print(data['Cluster'][0:10])"
   ]
  },
  {
   "cell_type": "code",
   "execution_count": 7,
   "metadata": {},
   "outputs": [
    {
     "name": "stdout",
     "output_type": "stream",
     "text": [
      "['M 16    ' 'M 20    ' 'NGC 3603']\n"
     ]
    }
   ],
   "source": [
    "print(np.unique(data['Cluster']))"
   ]
  },
  {
   "cell_type": "markdown",
   "metadata": {},
   "source": [
    "##### We will only use the NGC 3606 data"
   ]
  },
  {
   "cell_type": "code",
   "execution_count": 8,
   "metadata": {},
   "outputs": [
    {
     "name": "stdout",
     "output_type": "stream",
     "text": [
      "235\n"
     ]
    }
   ],
   "source": [
    "mask = data['Cluster'] == 'NGC 3603'\n",
    "data = data[mask]\n",
    "print(len(data))"
   ]
  },
  {
   "cell_type": "markdown",
   "metadata": {},
   "source": [
    "### Determine the redenning correction from H$\\beta$/H$\\alpha$."
   ]
  },
  {
   "cell_type": "markdown",
   "metadata": {},
   "source": [
    "##### We instantiate a RedCorr object from the PyNeb library. We then print the list of available extinction laws, using a method (function) of the object."
   ]
  },
  {
   "cell_type": "code",
   "execution_count": 9,
   "metadata": {},
   "outputs": [
    {
     "data": {
      "text/plain": [
       "dict_keys(['No correction', 'CCM89', 'CCM89 Bal07', 'CCM89 oD94', 'S79 H83 CCM89', 'K76', 'SM79 Gal', 'G03 LMC', 'MCC99 FM90 LMC', 'F99-like', 'F99', 'F88 F99 LMC'])"
      ]
     },
     "execution_count": 9,
     "metadata": {},
     "output_type": "execute_result"
    }
   ],
   "source": [
    "rc = pn.RedCorr()\n",
    "rc.getLaws()"
   ]
  },
  {
   "cell_type": "code",
   "execution_count": 10,
   "metadata": {},
   "outputs": [
    {
     "name": "stdout",
     "output_type": "stream",
     "text": [
      "'No correction': \n",
      "        No correction, return 0.0\n",
      "        \n",
      "        \n",
      "'CCM89': \n",
      "        Cardelli, Clayton & Mathis 1989, ApJ 345, 245\n",
      "        http://adsabs.harvard.edu/abs/1989ApJ...345..245C\n",
      "\n",
      "        Comments: Depends on R_V, default value being 3.1\n",
      "\n",
      "        Scope: Applicable to both dense and diffuse ISM\n",
      "        Range: UV through IR\n",
      "        \n",
      "        \n",
      "'CCM89 Bal07': \n",
      "        Galactic extinction law based on Cardelli et al 1989, modified by Blagrave et al 2007 \n",
      "        for 3.3 < x < 8 (1250 < lambda < 3030)\n",
      "        \n",
      "        Blagrave et al 2007, ApJ, 655, 299 \n",
      "        http://adsabs.harvard.edu/abs/2007ApJ...655..299B\n",
      "        Cardelli, Clayton & Mathis 1989, ApJ 345, 245\n",
      "        http://adsabs.harvard.edu/abs/1989ApJ...345..245C\n",
      "\n",
      "        Comments:\n",
      "        Same as CCM89 for x<3.3 and x>8\n",
      "        Revised values for 3.3<x<8\n",
      "        Based on observation of Orion stars\n",
      "        Depends on R_V, default value being 3.1\n",
      "\n",
      "        Range: UV through IR\n",
      "        \n",
      "        \n",
      "'CCM89 oD94': \n",
      "        Galactic extinction law based on Cardelli et al 1989, modified by O'Donnell 1994\n",
      "        for 1.1 < x < 3.3 (9100 < lambda < 3030)\n",
      "        \n",
      "        O'Donnell 1994, ApJ, 422, 1580\n",
      "        http://adsabs.harvard.edu/abs/1994ApJ...422..158O\n",
      "        Cardelli, Clayton & Mathis 1989, ApJ 345, 245\n",
      "        http://adsabs.harvard.edu/abs/1989ApJ...345..245C\n",
      "\n",
      "        Comments:\n",
      "        Same as CCM89 for x<1.1 and x>3.3\n",
      "        Revised values for 1.1<x<3.3\n",
      "        Produces lower correction in the near UV at low R_V\n",
      "        \n",
      "        Scope: Galactic\n",
      "        Range: UV through IR\n",
      "        \n",
      "        \n",
      "'S79 H83 CCM89': \n",
      "        Galactic extinction law (0-33000 A range):\n",
      "        - In the UV, from Seaton 1979\n",
      "        - In the opt/NIR (3600-9100) Howarth 1983\n",
      "        - In the FIR (9100-33000) Cardelly et al 1989\n",
      "        \n",
      "        Seaton 1979, MNRAS, 187, 73) and \n",
      "        http://adsabs.harvard.edu/abs/1979MNRAS.187P..73S\n",
      "        Howarth 1983, MNRAS, 203, 301) Galactic law\n",
      "        http://adsabs.harvard.edu/abs/1983MNRAS.204.1091H\n",
      "        Cardelli, Clayton and Mathis 1989, ApJ, 345, 245\n",
      "        http://adsabs.harvard.edu/abs/1989ApJ...345..245C\n",
      "        \n",
      "        Scope: Galactic\n",
      "        Range: UV through IR\n",
      "        \n",
      "        \n",
      "'K76': \n",
      "        Kaler 1976, ApJS, 31, 517\n",
      "        http://adsabs.harvard.edu/abs/1976ApJS...31..517K\n",
      "        \n",
      "        Comments:\n",
      "        This function returns the correction relative to Hbeta (f_lambda) and not\n",
      "        the extinction law (X(1/lambda)).\n",
      "        It cannot be used for absolute correction.\n",
      "        \n",
      "        Range: 3000 to >20000\n",
      "        \n",
      "        \n",
      "'SM79 Gal': \n",
      "        Galactic extinction law\n",
      "        Savage & Mathis 1979, ARA&A, 17, 73\n",
      "        http://adsabs.harvard.edu/abs/1979ARA%26A..17...73S\n",
      "        \n",
      "        Comments:\n",
      "        Average of several extinction laws\n",
      "        R_V=3.1\n",
      "        \n",
      "        Scope: Galactic\n",
      "        Range: UV through IR\n",
      "        \n",
      "        \n",
      "'G03 LMC': \n",
      "        Extinction curve for the LMC\n",
      "        Gordon et al. (2003, ApJ, 594,279)\n",
      "        http://adsabs.harvard.edu/abs/2003ApJ...594..279G\n",
      "        \n",
      "        Comments:\n",
      "        Average curve for the LMC\n",
      "        R_V = 3.41\n",
      "\n",
      "        Scope: LMC\n",
      "        Range: 1200 through fIR   \n",
      "\n",
      "        \n",
      "'MCC99 FM90 LMC': \n",
      "        In the UV, this method returns the extinction curve proposed for the LMC \n",
      "        by Misselt et al 1999 based on the 1990 variant of the Fitzpatrick & Massa law\n",
      "        In the opt/IR, it returns the Fitzpatrick & Massa 1990 law.\n",
      "\n",
      "        Misselt, Clayton & Gordon 1999 , ApJ, 515, 128 \n",
      "        http://adsabs.harvard.edu/abs/1999ApJ...515..128M\n",
      "        Fitzpatrick & Massa 1990, ApJS, 72, 163\n",
      "        http://adsabs.harvard.edu/abs/1990ApJS...72..163F\n",
      "        \n",
      "        Comments:\n",
      "        The Fitzpatrick & Massa 1990 law in the UV depends on 6 parameters, stored in RedCorr.FitzParams.\n",
      "        The method sets RedCorr.FitzParams to the values of set in the Fitzpatrick 1999 paper, \n",
      "        which includes an explicit dependence on R_V.\n",
      "        R_V must be provided, as the law depends on its value.\n",
      "        We refer to FM90 and not to the original FM88 because the value of a constant in F(lambda) slightly changed (0.0564 -> 0.05644)\n",
      "        The value of another constant of F(lambda) appears to change from FM90 to MCC99, but it is probably a typo (0.5392 -> 0.5329) \n",
      "        \n",
      "        Scope: LMC\n",
      "\n",
      "        \n",
      "'F99-like': \n",
      "        In the UV, it returns the Fitzpatrick & Massa 1990 law.\n",
      "        In the opt/IR, it returns the Fitzpatrick & Massa 1990 law. \n",
      "        \n",
      "        Fitzpatrick 1999, PASP, 11, 63\n",
      "        http://adsabs.harvard.edu/abs/1999PASP..111...63F\n",
      "        Fitzpatrick & Massa 1990, ApJS, 72, 163\n",
      "        http://adsabs.harvard.edu/abs/1990ApJS...72..163F\n",
      "        \n",
      "        Comments:\n",
      "        The FM90 depends on 6 parameters which must be set by the user and are stored in RedCorr.FitzParams.\n",
      "        For the predefined set of parameters defined in FM99, use instead the F99 law.\n",
      "        R_V must be provided, as the law depends on it. The dependence with R_V follows Table 4 in the F99 paper \n",
      "\n",
      "        Range: UV through IR\n",
      "        \n",
      "        \n",
      "'F99': \n",
      "        This method returns the R-dependent IR-through-UV extinction curve proposed by Fitzpatrick 1999.\n",
      "\n",
      "        Fitzpatrick 1999, PASP, 11, 63\n",
      "        http://adsabs.harvard.edu/abs/1999PASP..111...63F\n",
      "        based on: \n",
      "        Fitzpatrick & Massa 1990, ApJS, 72, 163\n",
      "        http://adsabs.harvard.edu/abs/1990ApJS...72..163F\n",
      "        \n",
      "        Comments:\n",
      "        The Fitzpatrick & Massa 1990 law in the UV depends on 6 parameters, stored in RedCorr.FitzParams.\n",
      "        The method sets RedCorr.FitzParams to the values of set in the Fitzpatrick 1999 paper, \n",
      "        which includes an explicit dependence on R_V.\n",
      "        R_V must be provided, as the law depends on its value.\n",
      "        \n",
      "        Range: UV through IR\n",
      "\n",
      "        \n",
      "'F88 F99 LMC': \n",
      "        This method returns:\n",
      "        - in the UV, the average LMC extinction curve derived by Fitzpatrick & Massa 1988\n",
      "        - in the opt/IR, the R-dependent extinction curve proposed by Fitzpatrick 1999.\n",
      "        \n",
      "        Fitzpatrick 1999, PASP, 11, 63\n",
      "        http://adsabs.harvard.edu/abs/1999PASP..111...63F\n",
      "        Fitzpatrick & Massa 1988, ApJ, 328, 734\n",
      "        http://adsabs.harvard.edu/abs/1988ApJ...328..734F\n",
      "        \n",
      "        Comments:\n",
      "        The Fitzpatrick and Massa law in the UV depends on 6 parameters, stored in RedCorr.FitzParams and \n",
      "        here set to the LMC values derived in FM88\n",
      "        R_V must be provided, as the law depends on it\n",
      "        \n",
      "        Scope: LMC\n",
      "        Range: UV through IR\n",
      "\n",
      "        \n"
     ]
    }
   ],
   "source": [
    "rc.printLaws()"
   ]
  },
  {
   "cell_type": "markdown",
   "metadata": {},
   "source": [
    "##### We define the value of visual attenuation."
   ]
  },
  {
   "cell_type": "markdown",
   "metadata": {},
   "source": [
    "##### Using the Fitzpatrick (1999) extinction law with  $R_V=3.1$, compute the reddening-corrected intensities for the hydrogen lines and for all the forbidden lines assuming an intrinsic value for H$\\alpha$/H$\\beta$ of 2.83."
   ]
  },
  {
   "cell_type": "code",
   "execution_count": 11,
   "metadata": {
    "collapsed": true
   },
   "outputs": [],
   "source": [
    "rc.law = 'F99' #Selecting Fitzpatrick (1999) extinction law as 'F99'\n",
    "rc.R_V = 3.1"
   ]
  },
  {
   "cell_type": "code",
   "execution_count": 12,
   "metadata": {},
   "outputs": [
    {
     "data": {
      "text/plain": [
       "('Cluster',\n",
       " 'Lambda0',\n",
       " 'Ion',\n",
       " 'Mult',\n",
       " 'LambdaObs',\n",
       " 'FLambda',\n",
       " 'ILambda',\n",
       " 'e_FLambda',\n",
       " 'u_FLambda',\n",
       " 'Notes')"
      ]
     },
     "execution_count": 12,
     "metadata": {},
     "output_type": "execute_result"
    }
   ],
   "source": [
    "data.dtype.names"
   ]
  },
  {
   "cell_type": "code",
   "execution_count": 13,
   "metadata": {},
   "outputs": [
    {
     "name": "stdout",
     "output_type": "stream",
     "text": [
      "16.394\n"
     ]
    }
   ],
   "source": [
    "print(data[data['Lambda0'] == 6562.82]['FLambda'][0] / 100) # Extracting the column where Halpha = 6562.82 \n",
    "#and getting the column of Flambda, removing brackets and dividing by zero"
   ]
  },
  {
   "cell_type": "code",
   "execution_count": 14,
   "metadata": {
    "collapsed": true
   },
   "outputs": [],
   "source": [
    "obs_ratio = data[data['Lambda0'] == 6562.82]['FLambda'][0] / 100\n",
    "rc.setCorr(obs_ratio/2.83, 6563., 4861.) #2.83 was assumed in the upper explanation. 6563 and 4861 are the wavelength \n",
    "# range to consider in order to correct it."
   ]
  },
  {
   "cell_type": "markdown",
   "metadata": {},
   "source": [
    "##### We can print out the values of E$_{B-V}$ and cH$\\beta$."
   ]
  },
  {
   "cell_type": "code",
   "execution_count": 15,
   "metadata": {},
   "outputs": [
    {
     "name": "stdout",
     "output_type": "stream",
     "text": [
      "1.5155294221729954\n",
      "2.19160098053\n",
      "4.69814120874\n"
     ]
    }
   ],
   "source": [
    "print(rc.E_BV)\n",
    "print(rc.cHbeta)\n",
    "print(rc.AV)"
   ]
  },
  {
   "cell_type": "markdown",
   "metadata": {},
   "source": [
    "##### We get the extinction relative to H$\\beta$ for the wavelength vector."
   ]
  },
  {
   "cell_type": "code",
   "execution_count": 16,
   "metadata": {},
   "outputs": [
    {
     "name": "stdout",
     "output_type": "stream",
     "text": [
      "0.172704335816\n",
      "1.00046462239\n",
      "2.83062406403\n"
     ]
    }
   ],
   "source": [
    "print(rc.getCorrHb(6563))\n",
    "print(rc.getCorrHb(4861)) # relative correction of Hbeta to Hbeta \n",
    "print(rc.getCorrHb(6563) * 16.39)"
   ]
  },
  {
   "cell_type": "code",
   "execution_count": 17,
   "metadata": {},
   "outputs": [
    {
     "name": "stdout",
     "output_type": "stream",
     "text": [
      "[ 4.58480333  4.55505549  4.52022118  4.47886179  4.47163911  4.42952302\n",
      "  4.37047601  4.36982298  4.34563099  4.3292267   4.29682916  4.20638746\n",
      "  4.09257319  3.94696277  3.83562945  3.75713374  3.59756286  3.50629038\n",
      "  3.50448459  3.18194062  3.17097822  3.1605391   3.00867038  2.95362719\n",
      "  2.94589079  2.94541264  2.79414813  2.7674645   2.69693756  2.69690431\n",
      "  2.68205345  2.61976567  2.54712871  2.51753979  2.19012749  2.05939667\n",
      "  2.03758685  2.00075872  1.98818112  1.98815642  1.97861963  1.94497268\n",
      "  1.93278614  1.88580206  1.77143462  1.69644925  1.50714846  1.49034706\n",
      "  1.37675751  1.36139206  1.35812147  1.35597491  1.34260273  1.33949317\n",
      "  1.32635115  1.31999614  1.29393608  1.25869403  1.24960682  1.23290334\n",
      "  0.00643278  1.22989076  1.19499853  1.184666    0.00643278  1.16072055\n",
      "  1.00000232  0.97284352  0.918807    0.91552423  0.91552423  0.90687514\n",
      "  0.8728013   0.84086431  0.83936028  0.81701467  0.80718516  0.77547109\n",
      "  0.77269918  0.76412455  0.76378357  0.63360392  0.63168901  0.57827655\n",
      "  0.43434816  0.42512905  0.37280972  0.34241373  0.30608551  0.29157819\n",
      "  0.21243879  0.21040696  0.20180389  0.17468694  0.17272799  0.17074179\n",
      "  0.17005016  0.15843173  0.1540412   0.1524369   0.12716812  0.12607885\n",
      "  0.12112899  0.12088737  0.11732017  0.11543834  0.11400406  0.11360569\n",
      "  0.10860308  0.10827202  0.10705885  0.10703875  0.10703339  0.1052591\n",
      "  0.10417603  0.1028789   0.10277787  0.10217041  0.10210351  0.09922203\n",
      "  0.09860559  0.09722908  0.09653369  0.09546965  0.09489316  0.09401548\n",
      "  0.09229623  0.0920232   0.09066826  0.00643278  0.08015156  0.07740624\n",
      "  0.0688037   0.00643278  0.06841724  0.06646637  0.06520457  0.06420364\n",
      "  0.06372256  0.06351571  0.06334911  0.06314452  0.06248097  0.06241991\n",
      "  0.06237702  0.06228382  0.06220768  0.06212561  0.06203649  0.0619398\n",
      "  0.06189859  0.06189859  0.06183443  0.0617199   0.06159457  0.06145741\n",
      "  0.06130658  0.06114025  0.06095669  0.06075278  0.06052584  0.06027241\n",
      "  0.05998788  0.05975472  0.05966729  0.05930437  0.05923276  0.05889115\n",
      "  0.05885084  0.0584187   0.05829843  0.05787502  0.05765189  0.05734956\n",
      "  0.05724532  0.05708412  0.05703601  0.05703324  0.05651144  0.05617476\n",
      "  0.05604983  0.05600096  0.05570924  0.05564927  0.05527544  0.05501488\n",
      "  0.05495591  0.05194273  0.05161622  0.0515499   0.05149156  0.05113129\n",
      "  0.05095485  0.05059891  0.05059891  0.05050587  0.0504524   0.05015851\n",
      "  0.04963036  0.04884426  0.04860176  0.04829672  0.04824607  0.04813147\n",
      "  0.04796813  0.04700986  0.04671801  0.04556079  0.04525536  0.04444856\n",
      "  0.04435666  0.04347796  0.04214772  0.04210419  0.04190514  0.04186987\n",
      "  0.00643278  0.03865374  0.03787143  0.03781706  0.03762995  0.03694547\n",
      "  0.03581797  0.03452312  0.03425657  0.03372544  0.03372131  0.0325461\n",
      "  0.03251405  0.03234867  0.03156176  0.03013711  0.03006691  0.02994302\n",
      "  0.0296812 ]\n"
     ]
    },
    {
     "name": "stderr",
     "output_type": "stream",
     "text": [
      "/home/mldantas/anaconda3/lib/python3.6/site-packages/pyneb/extinction/red_corr.py:704: RuntimeWarning: invalid value encountered in greater_equal\n",
      "  tt = (x >= xcutuv)\n",
      "/home/mldantas/anaconda3/lib/python3.6/site-packages/pyneb/extinction/red_corr.py:716: RuntimeWarning: invalid value encountered in less\n",
      "  tt = x < xcutuv\n"
     ]
    }
   ],
   "source": [
    "correction = rc.getCorrHb(data['Lambda0'])\n",
    "print(correction)"
   ]
  },
  {
   "cell_type": "markdown",
   "metadata": {},
   "source": [
    "##### We make a copy of the original data not to loose them. We apply the correction to the new data set. As we want to correct for extinction, we divide by the values obtained from PyNeb."
   ]
  },
  {
   "cell_type": "code",
   "execution_count": 18,
   "metadata": {
    "collapsed": true
   },
   "outputs": [],
   "source": [
    "data2 = data.copy()\n",
    "# data2['intens'] = data2['intens'] / extinction\n",
    "data2['FLambda'] *= correction"
   ]
  },
  {
   "cell_type": "markdown",
   "metadata": {},
   "source": [
    "##### We can print all the corrected intensities and compare with what Garci-Rojas obtained."
   ]
  },
  {
   "cell_type": "code",
   "execution_count": 19,
   "metadata": {},
   "outputs": [
    {
     "name": "stdout",
     "output_type": "stream",
     "text": [
      "Line      wl  uncor. intensity\n",
      "H I       3687 1.284 1.195\n",
      "H I       3692 1.408 1.311\n",
      "H I       3697 1.487 1.382\n",
      "H I       3704 1.612 1.485\n",
      "He I      3705 0.626 0.576\n",
      "H I       3712 1.533 1.411\n",
      "[S III]   3722 3.383 3.119\n",
      "H I       3722 nan nan\n",
      "[O II]    3726 43.761 40.360\n",
      "[O II]    3729 27.084 24.990\n",
      "H I       3734 3.072 2.835\n",
      "H I       3750 4.278 3.951\n",
      "H I       3771 4.739 4.385\n",
      "H I       3798 5.988 5.553\n",
      "He I      3820 1.454 1.352\n",
      "H I       3835 8.807 8.205\n",
      "[Ne III]  3869 39.195 36.682\n",
      "He I      3889 16.224 15.221\n",
      "H I       3889 nan nan\n",
      "He I      3965 0.948 0.899\n",
      "[Ne III]  3967 10.924 10.363\n",
      "H I       3970 17.573 16.672\n",
      "He I      4009 0.295 0.281\n",
      "He I      4024 0.068 0.065\n",
      "N II      4026 2.619 2.489\n",
      "He I      4026 nan nan\n",
      "[S II]    4069 0.956 0.906\n",
      "[S II]    4076 0.318 0.303\n",
      "O II      4097 0.089 0.085\n",
      "O II      4097 nan nan\n",
      "H I       4102 27.521 26.083\n",
      "He I      4121 0.341 0.323\n",
      "He I      4144 0.395 0.374\n",
      "O II      4153 0.113 0.107\n",
      "C II      4267 0.329 0.325\n",
      "O II      4317 0.076 0.076\n",
      "O II      4326 0.061 0.061\n",
      "H I       4340 51.393 51.824\n",
      "O II      4346 0.119 0.121\n",
      "O II      4346 nan nan\n",
      "O II      4349 0.146 0.148\n",
      "[O III]   4363 2.458 2.483\n",
      "O I       4368 0.116 0.116\n",
      "He I      4388 0.666 0.671\n",
      "He I      4438 0.087 0.087\n",
      "He I      4471 5.308 5.274\n",
      "Mg I]     4563 0.042 0.041\n",
      "Mg I]     4571 0.048 0.047\n",
      "N II      4631 0.040 0.040\n",
      "O II      4639 0.059 0.057\n",
      "N III     4641 0.090 0.088\n",
      "O II      4642 0.133 0.131\n",
      "O II      4649 0.175 0.172\n",
      "O II      4651 0.088 0.086\n",
      "[Fe III]  4658 0.286 0.264\n",
      "O II      4662 0.112 0.111\n",
      "O II      4676 0.041 0.040\n",
      "O II      4696 0.038 0.037\n",
      "[Fe III]  4702 0.089 0.083\n",
      "[Ar Iv]   4711 0.252 0.249\n",
      "[Ar Iv]    nan 0.000 0.054\n",
      "He I      4713 0.705 0.697\n",
      "[Fe III]  4734 0.048 0.048\n",
      "[Ar Iv]   4740 0.205 0.203\n",
      "[Ar Iv]    nan 0.000 0.047\n",
      "[Fe III]  4755 0.058 0.055\n",
      "H I       4861 100.000 100.000\n",
      "[Fe III]  4881 0.112 0.113\n",
      "He I      4922 1.270 1.278\n",
      "[Fe III]  4924 0.070 0.070\n",
      "O II      4924 nan nan\n",
      "[O III]   4931 0.041 0.040\n",
      "[O III]   4959 178.705 180.464\n",
      "[Fe III]  4986 0.138 0.139\n",
      "[Fe III]  4987 0.235 0.238\n",
      "[O III]   5007 524.447 533.117\n",
      "He I      5016 2.150 2.188\n",
      "N II      5045 0.618 0.633\n",
      "He I      5048 1.443 1.479\n",
      "Si II     5056 0.225 0.230\n",
      "Si II     5056 nan nan\n",
      "[N I]     5198 0.278 0.294\n",
      "[N I]     5200 0.133 0.140\n",
      "[Fe III]  5270 0.126 0.151\n",
      "[Cl III]  5518 0.473 0.512\n",
      "[Cl III]  5538 0.606 0.655\n",
      "N II      5667 0.041 0.043\n",
      "[N II]    5755 0.391 0.404\n",
      "He I      5876 14.285 14.418\n",
      "[Mn II]   5930 0.101 0.102\n",
      "[O I]     6300 1.728 1.729\n",
      "[S III]   6312 1.848 1.849\n",
      "[O I]     6364 0.549 0.549\n",
      "[N II]    6548 6.231 6.227\n",
      "H I       6563 283.170 283.100\n",
      "C II      6578 0.250 0.250\n",
      "[N II]    6583 19.454 19.455\n",
      "He I      6678 3.838 3.850\n",
      "[S II]    6716 1.402 1.409\n",
      "[S II]    6731 2.303 2.317\n",
      "He I      6989 0.017 0.017\n",
      "O I       7002 0.021 0.022\n",
      "He I      7062 0.016 0.016\n",
      "He I      7065 7.144 7.369\n",
      "[Cr Iv]   7111 0.004 0.004\n",
      "[Ar III]  7136 17.797 18.457\n",
      "[Fe II]   7155 0.020 0.021\n",
      "He I      7161 0.032 0.033\n",
      "C II      7231 0.083 0.086\n",
      "C II      7236 0.171 0.179\n",
      "O I       7254 0.032 0.034\n",
      "O I       7254 nan nan\n",
      "O I       7255 nan nan\n",
      "He I      7281 0.720 0.754\n",
      "He I      7298 0.037 0.039\n",
      "[O II]    7318 1.042 1.093\n",
      "[O II]    7320 3.137 3.293\n",
      "[O II]    7330 1.714 1.800\n",
      "[O II]    7331 1.696 1.781\n",
      "[NI II]   7378 0.021 0.022\n",
      "[Fe II]   7388 0.003 0.003\n",
      "[NI II]   7412 0.007 0.007\n",
      "N I       7424 0.004 0.004\n",
      "N I       7442 0.007 0.007\n",
      "[Fe II]   7453 0.006 0.007\n",
      "N I       7468 0.007 0.008\n",
      "He I      7500 0.054 0.057\n",
      "O II      7505 0.007 0.007\n",
      "[Cl Iv]   7531 0.061 0.065\n",
      "[Cl Iv]    nan 0.001 0.010\n",
      "[Ar III]  7751 4.312 4.658\n",
      "He I      7816 0.079 0.086\n",
      "[Cl Iv]   8046 0.072 0.080\n",
      "[Cl Iv]    nan 0.003 0.030\n",
      "He I      8057 0.010 0.011\n",
      "He I      8116 0.011 0.013\n",
      "He I      8156 0.011 0.013\n",
      "N I       8188 0.013 0.014\n",
      "He I      8204 0.011 0.013\n",
      "N I       8211 0.004 0.005\n",
      "N I       8216 0.010 0.012\n",
      "N I       8223 0.011 0.013\n",
      "H I       8246 0.037 0.041\n",
      "H I       8248 0.041 0.045\n",
      "H I       8249 0.044 0.049\n",
      "H I       8252 0.047 0.052\n",
      "H I       8255 0.064 0.071\n",
      "H I       8258 0.079 0.088\n",
      "H I       8261 0.076 0.085\n",
      "H I       8264 0.084 0.094\n",
      "He I      8266 0.015 0.017\n",
      "He I      8266 nan nan\n",
      "H I       8268 0.073 0.081\n",
      "H I       8272 0.066 0.073\n",
      "H I       8276 0.076 0.085\n",
      "H I       8281 0.117 0.130\n",
      "H I       8286 0.080 0.089\n",
      "H I       8292 0.110 0.122\n",
      "H I       8299 0.177 0.196\n",
      "H I       8306 0.131 0.145\n",
      "H I       8314 0.146 0.162\n",
      "H I       8323 0.161 0.177\n",
      "H I       8334 0.172 0.189\n",
      "He I      8342 0.059 0.065\n",
      "H I       8346 0.191 0.210\n",
      "H I       8359 0.229 0.250\n",
      "He I      8362 0.136 0.149\n",
      "H I       8374 0.238 0.259\n",
      "He I      8376 0.017 0.019\n",
      "H I       8392 0.281 0.303\n",
      "He I      8397 0.016 0.017\n",
      "H I       8413 0.329 0.352\n",
      "He I      8422 0.012 0.013\n",
      "[Cl III]  8434 0.016 0.017\n",
      "H I       8438 0.376 0.400\n",
      "He I      8444 0.028 0.029\n",
      "O I       8446 0.185 0.196\n",
      "O I       8446 nan nan\n",
      "H I       8467 0.444 0.466\n",
      "[Cl III]  8481 0.014 0.015\n",
      "He I      8486 0.020 0.020\n",
      "He I      8488 0.008 0.008\n",
      "[Cl III]  8500 0.027 0.028\n",
      "H I       8502 0.525 0.543\n",
      "He I      8518 0.014 0.014\n",
      "He I      8529 0.025 0.026\n",
      "He I      8531 0.015 0.015\n",
      "H I       8665 1.074 1.030\n",
      "N I       8680 0.023 0.022\n",
      "N I       8683 0.009 0.009\n",
      "N I       8686 0.005 0.004\n",
      "N I       8703 0.007 0.007\n",
      "N I       8712 0.009 0.009\n",
      "[Fe III]  8729 0.008 0.008\n",
      "N I       8729 nan nan\n",
      "He I      8733 0.050 0.047\n",
      "He I      8736 0.018 0.016\n",
      "H I       8750 1.338 1.234\n",
      "He I      8777 0.041 0.037\n",
      "He I      8817 0.008 0.007\n",
      "[S III]   8829 0.018 0.016\n",
      "He I      8845 0.073 0.065\n",
      "He I      8848 0.022 0.019\n",
      "He I      8854 0.014 0.012\n",
      "H I       8863 1.772 1.563\n",
      "He I      8915 0.024 0.021\n",
      "He I      8931 0.009 0.007\n",
      "He I      8997 0.095 0.081\n",
      "H I       9015 2.334 1.967\n",
      "He I      9063 0.087 0.073\n",
      "[S III]   9069 35.203 29.363\n",
      "[Cl II]   9124 0.012 0.010\n",
      "He I      9210 0.125 0.103\n",
      "He I      9213 0.037 0.031\n",
      "[Fe II]   9227 0.006 0.005\n",
      "H I       9229 3.339 2.759\n",
      "?          nan 0.002 0.013\n",
      "He I      9464 0.235 0.200\n",
      "He I      9526 0.242 0.209\n",
      "[S III]   9531 110.123 95.058\n",
      "H I       9546 4.141 3.588\n",
      "He I      9603 0.025 0.022\n",
      "He I      9703 0.027 0.024\n",
      "[C I]     9824 0.019 0.017\n",
      "[C I]     9850 0.078 0.074\n",
      "C II      9903 0.115 0.111\n",
      "C II      9904 nan nan\n",
      "He I      10028 0.365 0.365\n",
      "He I      10031 0.116 0.116\n",
      "H I       10049 9.475 9.539\n",
      "He I      10138 0.049 0.051\n",
      "He I      10312 0.261 0.283\n",
      "[S II]    10320 0.453 0.492\n",
      "[S II]    10336 0.347 0.379\n",
      "[S II]    10370 0.198 0.217\n"
     ]
    }
   ],
   "source": [
    "print('Line      wl  uncor. intensity')\n",
    "for d2 in data2:\n",
    "    print('{:8s} {:4.0f} {:.3f} {:.3f}'.format(d2['Ion'], \n",
    "                                               d2['Lambda0'], \n",
    "                                               d2['FLambda'],\n",
    "                                               d2['ILambda']))"
   ]
  },
  {
   "cell_type": "markdown",
   "metadata": {},
   "source": [
    "### Do the same, but for $R_V=5$."
   ]
  },
  {
   "cell_type": "markdown",
   "metadata": {},
   "source": [
    "##### We change the extinction law and the value of R$_V$. We store the observed value of H$\\alpha$/H$\\beta$."
   ]
  },
  {
   "cell_type": "code",
   "execution_count": 20,
   "metadata": {
    "collapsed": true
   },
   "outputs": [],
   "source": [
    "rc2 = pn.RedCorr(law='F99')\n",
    "rc2.R_V = 5.0"
   ]
  },
  {
   "cell_type": "code",
   "execution_count": 21,
   "metadata": {
    "collapsed": true
   },
   "outputs": [],
   "source": [
    "# rc.R_V = 5.0"
   ]
  },
  {
   "cell_type": "markdown",
   "metadata": {},
   "source": [
    "##### We define a new correction using the observed and theoritical values of H$\\alpha$/H$\\beta$ and the vector of wavelengths."
   ]
  },
  {
   "cell_type": "code",
   "execution_count": 31,
   "metadata": {},
   "outputs": [
    {
     "name": "stdout",
     "output_type": "stream",
     "text": [
      "7.03536630974\n",
      "7.57764711086\n"
     ]
    }
   ],
   "source": [
    "rc2.setCorr(obs_ratio/ 2.83, 6563., 4861)\n",
    "print(rc2.AV) #for R_V=5.0\n",
    "print(rc.AV)  #for R_V=3.1"
   ]
  },
  {
   "cell_type": "code",
   "execution_count": 23,
   "metadata": {},
   "outputs": [
    {
     "name": "stderr",
     "output_type": "stream",
     "text": [
      "/home/mldantas/anaconda3/lib/python3.6/site-packages/pyneb/extinction/red_corr.py:704: RuntimeWarning: invalid value encountered in greater_equal\n",
      "  tt = (x >= xcutuv)\n",
      "/home/mldantas/anaconda3/lib/python3.6/site-packages/pyneb/extinction/red_corr.py:716: RuntimeWarning: invalid value encountered in less\n",
      "  tt = x < xcutuv\n"
     ]
    },
    {
     "name": "stdout",
     "output_type": "stream",
     "text": [
      "[  3.94427667e+00   3.92369156e+00   3.89951852e+00   3.87072124e+00\n",
      "   3.86568153e+00   3.83623035e+00   3.79475367e+00   3.79429374e+00\n",
      "   3.77723621e+00   3.76564866e+00   3.74271366e+00   3.67833143e+00\n",
      "   3.59655347e+00   3.49066934e+00   3.40873332e+00   3.35044421e+00\n",
      "   3.23059595e+00   3.16121161e+00   3.15983266e+00   2.90957734e+00\n",
      "   2.90093117e+00   2.89268897e+00   2.77180744e+00   2.72754059e+00\n",
      "   2.72129924e+00   2.72091333e+00   2.59789565e+00   2.57600005e+00\n",
      "   2.51784416e+00   2.51781664e+00   2.50551794e+00   2.45373340e+00\n",
      "   2.39293315e+00   2.36803858e+00   2.08765958e+00   1.97322674e+00\n",
      "   1.95400131e+00   1.92145096e+00   1.91030963e+00   1.91028775e+00\n",
      "   1.90183163e+00   1.87194030e+00   1.86109213e+00   1.81916001e+00\n",
      "   1.71638467e+00   1.64846966e+00   1.47522443e+00   1.45972772e+00\n",
      "   1.35446210e+00   1.34015721e+00   1.33711038e+00   1.33511031e+00\n",
      "   1.32264391e+00   1.31974332e+00   1.30747759e+00   1.30154232e+00\n",
      "   1.27717648e+00   1.24415885e+00   1.23563345e+00   1.21995070e+00\n",
      "   7.88078662e-04   1.21712061e+00   1.18430786e+00   1.17457957e+00\n",
      "   7.88078662e-04   1.15201540e+00   1.00000220e+00   9.74239477e-01\n",
      "   9.22938206e-01   9.19820124e-01   9.19820124e-01   9.11604268e-01\n",
      "   8.79229382e-01   8.48877124e-01   8.47447623e-01   8.26209012e-01\n",
      "   8.16866542e-01   7.86726594e-01   7.84092590e-01   7.75945006e-01\n",
      "   7.75621023e-01   6.52101863e-01   6.50288915e-01   5.99797528e-01\n",
      "   4.65041176e-01   4.56483515e-01   4.07337140e-01   3.77697263e-01\n",
      "   3.40224873e-01   3.24391201e-01   2.26912641e-01   2.24195507e-01\n",
      "   2.12608384e-01   1.75440900e-01   1.72732899e-01   1.69985933e-01\n",
      "   1.69029155e-01   1.52956744e-01   1.46893933e-01   1.44681716e-01\n",
      "   1.10288138e-01   1.08834037e-01   1.02268026e-01   1.01949373e-01\n",
      "   9.72667706e-02   9.48138615e-02   9.29528571e-02   9.24373084e-02\n",
      "   8.60161842e-02   8.55948692e-02   8.40549795e-02   8.40295264e-02\n",
      "   8.40227404e-02   8.17825283e-02   8.04221048e-02   7.88000524e-02\n",
      "   7.86740594e-02   7.79175031e-02   7.78343048e-02   7.42716073e-02\n",
      "   7.35149661e-02   7.18326467e-02   7.09866697e-02   6.96973617e-02\n",
      "   6.90014800e-02   6.79456597e-02   6.58904422e-02   6.55656720e-02\n",
      "   6.39606423e-02   7.88078662e-04   5.19111338e-02   4.88958159e-02\n",
      "   3.98431744e-02   7.88078662e-04   3.94515314e-02   3.74954438e-02\n",
      "   3.62492495e-02   3.52715412e-02   3.48050810e-02   3.46052243e-02\n",
      "   3.44445514e-02   3.42476252e-02   3.36117783e-02   3.35534871e-02\n",
      "   3.35125658e-02   3.34237070e-02   3.33511792e-02   3.32730653e-02\n",
      "   3.31883181e-02   3.30964568e-02   3.30573441e-02   3.30573441e-02\n",
      "   3.29964687e-02   3.28879078e-02   3.27692649e-02   3.26396091e-02\n",
      "   3.24972426e-02   3.23405270e-02   3.21678926e-02   3.19765391e-02\n",
      "   3.17640597e-02   3.15274236e-02   3.12625306e-02   3.10460864e-02\n",
      "   3.09650758e-02   3.06296448e-02   3.05636197e-02   3.02494090e-02\n",
      "   3.02124051e-02   2.98168768e-02   2.97071495e-02   2.93220817e-02\n",
      "   2.91199331e-02   2.88468916e-02   2.87529744e-02   2.86079776e-02\n",
      "   2.85647560e-02   2.85622694e-02   2.80951455e-02   2.77953267e-02\n",
      "   2.76843868e-02   2.76410401e-02   2.73828284e-02   2.73298615e-02\n",
      "   2.70006025e-02   2.67720283e-02   2.67204085e-02   2.41352580e-02\n",
      "   2.38614455e-02   2.38059768e-02   2.37572297e-02   2.34571019e-02\n",
      "   2.33106749e-02   2.30164051e-02   2.30164051e-02   2.29397369e-02\n",
      "   2.28957203e-02   2.26544117e-02   2.22233783e-02   2.15880999e-02\n",
      "   2.13936568e-02   2.11500881e-02   2.11097611e-02   2.10186214e-02\n",
      "   2.08890123e-02   2.01353050e-02   1.99080470e-02   1.90176115e-02\n",
      "   1.87854506e-02   1.81780184e-02   1.81093615e-02   1.74585428e-02\n",
      "   1.64927826e-02   1.64615763e-02   1.63192274e-02   1.62940595e-02\n",
      "   7.88078662e-04   1.40710263e-02   1.35521902e-02   1.35164529e-02\n",
      "   1.33938024e-02   1.29494105e-02   1.22322277e-02   1.14317024e-02\n",
      "   1.12700149e-02   1.09510251e-02   1.09485627e-02   1.02580409e-02\n",
      "   1.02395064e-02   1.01441147e-02   9.69601648e-03   8.90940282e-03\n",
      "   8.87147493e-03   8.80472078e-03   8.66446431e-03]\n"
     ]
    }
   ],
   "source": [
    "correction2 = rc2.getCorrHb(data2['Lambda0'])\n",
    "# corr_teste = rc2.getCorr(data2['Lambda0'])\n",
    "# print (corr_teste)\n",
    "\n",
    "\n",
    "print(correction2)"
   ]
  },
  {
   "cell_type": "code",
   "execution_count": 24,
   "metadata": {
    "collapsed": true
   },
   "outputs": [],
   "source": [
    "corr_teste = rc2.getCorr"
   ]
  },
  {
   "cell_type": "markdown",
   "metadata": {},
   "source": [
    "##### We now correct the data sample from the extinction."
   ]
  },
  {
   "cell_type": "code",
   "execution_count": 25,
   "metadata": {
    "collapsed": true
   },
   "outputs": [],
   "source": [
    "data3 = data.copy()\n",
    "data3['FLambda'] *= correction2"
   ]
  },
  {
   "cell_type": "markdown",
   "metadata": {},
   "source": [
    "##### We print the comparison between results obtained applying the two corrections."
   ]
  },
  {
   "cell_type": "code",
   "execution_count": 26,
   "metadata": {},
   "outputs": [
    {
     "name": "stdout",
     "output_type": "stream",
     "text": [
      "Line      wl    RV=3.1  5.0 GS\n",
      "H I       3687 1.284 1.104 1.195\n",
      "H I       3692 1.408 1.212 1.311\n",
      "H I       3697 1.487 1.283 1.382\n",
      "H I       3704 1.612 1.393 1.485\n",
      "He I      3705 0.626 0.541 0.576\n",
      "H I       3712 1.533 1.327 1.411\n",
      "[S III]   3722 3.383 2.937 3.119\n",
      "H I       3722 nan nan nan\n",
      "[O II]    3726 43.761 38.037 40.360\n",
      "[O II]    3729 27.084 23.558 24.990\n",
      "H I       3734 3.072 2.676 2.835\n",
      "H I       3750 4.278 3.741 3.951\n",
      "H I       3771 4.739 4.165 4.385\n",
      "H I       3798 5.988 5.295 5.553\n",
      "He I      3820 1.454 1.292 1.352\n",
      "H I       3835 8.807 7.853 8.205\n",
      "[Ne III]  3869 39.195 35.197 36.682\n",
      "He I      3889 16.224 14.627 15.221\n",
      "H I       3889 nan nan nan\n",
      "He I      3965 0.948 0.867 0.899\n",
      "[Ne III]  3967 10.924 9.994 10.363\n",
      "H I       3970 17.573 16.083 16.672\n",
      "He I      4009 0.295 0.272 0.281\n",
      "He I      4024 0.068 0.063 0.065\n",
      "N II      4026 2.619 2.419 2.489\n",
      "He I      4026 nan nan nan\n",
      "[S II]    4069 0.956 0.888 0.906\n",
      "[S II]    4076 0.318 0.296 0.303\n",
      "O II      4097 0.089 0.083 0.085\n",
      "O II      4097 nan nan nan\n",
      "H I       4102 27.521 25.709 26.083\n",
      "He I      4121 0.341 0.319 0.323\n",
      "He I      4144 0.395 0.371 0.374\n",
      "O II      4153 0.113 0.107 0.107\n",
      "C II      4267 0.329 0.313 0.325\n",
      "O II      4317 0.076 0.073 0.076\n",
      "O II      4326 0.061 0.059 0.061\n",
      "H I       4340 51.393 49.356 51.824\n",
      "O II      4346 0.119 0.115 0.121\n",
      "O II      4346 nan nan nan\n",
      "O II      4349 0.146 0.141 0.148\n",
      "[O III]   4363 2.458 2.366 2.483\n",
      "O I       4368 0.116 0.112 0.116\n",
      "He I      4388 0.666 0.642 0.671\n",
      "He I      4438 0.087 0.084 0.087\n",
      "He I      4471 5.308 5.158 5.274\n",
      "Mg I]     4563 0.042 0.041 0.041\n",
      "Mg I]     4571 0.048 0.047 0.047\n",
      "N II      4631 0.040 0.039 0.040\n",
      "O II      4639 0.059 0.058 0.057\n",
      "N III     4641 0.090 0.088 0.088\n",
      "O II      4642 0.133 0.131 0.131\n",
      "O II      4649 0.175 0.172 0.172\n",
      "O II      4651 0.088 0.087 0.086\n",
      "[Fe III]  4658 0.286 0.282 0.264\n",
      "O II      4662 0.112 0.111 0.111\n",
      "O II      4676 0.041 0.041 0.040\n",
      "O II      4696 0.038 0.037 0.037\n",
      "[Fe III]  4702 0.089 0.088 0.083\n",
      "[Ar Iv]   4711 0.252 0.249 0.249\n",
      "[Ar Iv]    nan 0.000 0.000 0.054\n",
      "He I      4713 0.705 0.697 0.697\n",
      "[Fe III]  4734 0.048 0.047 0.048\n",
      "[Ar Iv]   4740 0.205 0.203 0.203\n",
      "[Ar Iv]    nan 0.000 0.000 0.047\n",
      "[Fe III]  4755 0.058 0.058 0.055\n",
      "H I       4861 100.000 100.000 100.000\n",
      "[Fe III]  4881 0.112 0.112 0.113\n",
      "He I      4922 1.270 1.276 1.278\n",
      "[Fe III]  4924 0.070 0.070 0.070\n",
      "O II      4924 nan nan nan\n",
      "[O III]   4931 0.041 0.041 0.040\n",
      "[O III]   4959 178.705 180.021 180.464\n",
      "[Fe III]  4986 0.138 0.139 0.139\n",
      "[Fe III]  4987 0.235 0.237 0.238\n",
      "[O III]   5007 524.447 530.349 533.117\n",
      "He I      5016 2.150 2.175 2.188\n",
      "N II      5045 0.618 0.627 0.633\n",
      "He I      5048 1.443 1.465 1.479\n",
      "Si II     5056 0.225 0.228 0.230\n",
      "Si II     5056 nan nan nan\n",
      "[N I]     5198 0.278 0.286 0.294\n",
      "[N I]     5200 0.133 0.137 0.140\n",
      "[Fe III]  5270 0.126 0.131 0.151\n",
      "[Cl III]  5518 0.473 0.507 0.512\n",
      "[Cl III]  5538 0.606 0.650 0.655\n",
      "N II      5667 0.041 0.044 0.043\n",
      "[N II]    5755 0.391 0.431 0.404\n",
      "He I      5876 14.285 15.879 14.418\n",
      "[Mn II]   5930 0.101 0.113 0.102\n",
      "[O I]     6300 1.728 1.845 1.729\n",
      "[S III]   6312 1.848 1.969 1.849\n",
      "[O I]     6364 0.549 0.578 0.549\n",
      "[N II]    6548 6.231 6.258 6.227\n",
      "H I       6563 283.170 283.178 283.100\n",
      "C II      6578 0.250 0.249 0.250\n",
      "[N II]    6583 19.454 19.337 19.455\n",
      "He I      6678 3.838 3.706 3.850\n",
      "[S II]    6716 1.402 1.337 1.409\n",
      "[S II]    6731 2.303 2.186 2.317\n",
      "He I      6989 0.017 0.015 0.017\n",
      "O I       7002 0.021 0.018 0.022\n",
      "He I      7062 0.016 0.013 0.016\n",
      "He I      7065 7.144 6.025 7.369\n",
      "[Cr Iv]   7111 0.004 0.004 0.004\n",
      "[Ar III]  7136 17.797 14.617 18.457\n",
      "[Fe II]   7155 0.020 0.017 0.021\n",
      "He I      7161 0.032 0.026 0.033\n",
      "C II      7231 0.083 0.065 0.086\n",
      "C II      7236 0.171 0.135 0.179\n",
      "O I       7254 0.032 0.025 0.034\n",
      "O I       7254 nan nan nan\n",
      "O I       7255 nan nan nan\n",
      "He I      7281 0.720 0.560 0.754\n",
      "He I      7298 0.037 0.029 0.039\n",
      "[O II]    7318 1.042 0.798 1.093\n",
      "[O II]    7320 3.137 2.401 3.293\n",
      "[O II]    7330 1.714 1.307 1.800\n",
      "[O II]    7331 1.696 1.293 1.781\n",
      "[NI II]   7378 0.021 0.016 0.022\n",
      "[Fe II]   7388 0.003 0.002 0.003\n",
      "[NI II]   7412 0.007 0.005 0.007\n",
      "N I       7424 0.004 0.003 0.004\n",
      "N I       7442 0.007 0.005 0.007\n",
      "[Fe II]   7453 0.006 0.005 0.007\n",
      "N I       7468 0.007 0.005 0.008\n",
      "He I      7500 0.054 0.038 0.057\n",
      "O II      7505 0.007 0.005 0.007\n",
      "[Cl Iv]   7531 0.061 0.043 0.065\n",
      "[Cl Iv]    nan 0.001 0.000 0.010\n",
      "[Ar III]  7751 4.312 2.793 4.658\n",
      "He I      7816 0.079 0.050 0.086\n",
      "[Cl Iv]   8046 0.072 0.042 0.080\n",
      "[Cl Iv]    nan 0.003 0.000 0.030\n",
      "He I      8057 0.010 0.006 0.011\n",
      "He I      8116 0.011 0.006 0.013\n",
      "He I      8156 0.011 0.006 0.013\n",
      "N I       8188 0.013 0.007 0.014\n",
      "He I      8204 0.011 0.006 0.013\n",
      "N I       8211 0.004 0.002 0.005\n",
      "N I       8216 0.010 0.006 0.012\n",
      "N I       8223 0.011 0.006 0.013\n",
      "H I       8246 0.037 0.020 0.041\n",
      "H I       8248 0.041 0.022 0.045\n",
      "H I       8249 0.044 0.024 0.049\n",
      "H I       8252 0.047 0.025 0.052\n",
      "H I       8255 0.064 0.034 0.071\n",
      "H I       8258 0.079 0.042 0.088\n",
      "H I       8261 0.076 0.041 0.085\n",
      "H I       8264 0.084 0.045 0.094\n",
      "He I      8266 0.015 0.008 0.017\n",
      "He I      8266 nan nan nan\n",
      "H I       8268 0.073 0.039 0.081\n",
      "H I       8272 0.066 0.035 0.073\n",
      "H I       8276 0.076 0.041 0.085\n",
      "H I       8281 0.117 0.062 0.130\n",
      "H I       8286 0.080 0.042 0.089\n",
      "H I       8292 0.110 0.058 0.122\n",
      "H I       8299 0.177 0.093 0.196\n",
      "H I       8306 0.131 0.069 0.145\n",
      "H I       8314 0.146 0.077 0.162\n",
      "H I       8323 0.161 0.084 0.177\n",
      "H I       8334 0.172 0.090 0.189\n",
      "He I      8342 0.059 0.031 0.065\n",
      "H I       8346 0.191 0.099 0.210\n",
      "H I       8359 0.229 0.118 0.250\n",
      "He I      8362 0.136 0.070 0.149\n",
      "H I       8374 0.238 0.122 0.259\n",
      "He I      8376 0.017 0.009 0.019\n",
      "H I       8392 0.281 0.143 0.303\n",
      "He I      8397 0.016 0.008 0.017\n",
      "H I       8413 0.329 0.167 0.352\n",
      "He I      8422 0.012 0.006 0.013\n",
      "[Cl III]  8434 0.016 0.008 0.017\n",
      "H I       8438 0.376 0.189 0.400\n",
      "He I      8444 0.028 0.014 0.029\n",
      "O I       8446 0.185 0.093 0.196\n",
      "O I       8446 nan nan nan\n",
      "H I       8467 0.444 0.221 0.466\n",
      "[Cl III]  8481 0.014 0.007 0.015\n",
      "He I      8486 0.020 0.010 0.020\n",
      "He I      8488 0.008 0.004 0.008\n",
      "[Cl III]  8500 0.027 0.013 0.028\n",
      "H I       8502 0.525 0.258 0.543\n",
      "He I      8518 0.014 0.007 0.014\n",
      "He I      8529 0.025 0.012 0.026\n",
      "He I      8531 0.015 0.007 0.015\n",
      "H I       8665 1.074 0.499 1.030\n",
      "N I       8680 0.023 0.011 0.022\n",
      "N I       8683 0.009 0.004 0.009\n",
      "N I       8686 0.005 0.002 0.004\n",
      "N I       8703 0.007 0.003 0.007\n",
      "N I       8712 0.009 0.004 0.009\n",
      "[Fe III]  8729 0.008 0.004 0.008\n",
      "N I       8729 nan nan nan\n",
      "He I      8733 0.050 0.023 0.047\n",
      "He I      8736 0.018 0.008 0.016\n",
      "H I       8750 1.338 0.604 1.234\n",
      "He I      8777 0.041 0.018 0.037\n",
      "He I      8817 0.008 0.004 0.007\n",
      "[S III]   8829 0.018 0.008 0.016\n",
      "He I      8845 0.073 0.032 0.065\n",
      "He I      8848 0.022 0.010 0.019\n",
      "He I      8854 0.014 0.006 0.012\n",
      "H I       8863 1.772 0.772 1.563\n",
      "He I      8915 0.024 0.010 0.021\n",
      "He I      8931 0.009 0.004 0.007\n",
      "He I      8997 0.095 0.040 0.081\n",
      "H I       9015 2.334 0.969 1.967\n",
      "He I      9063 0.087 0.036 0.073\n",
      "[S III]   9069 35.203 14.372 29.363\n",
      "[Cl II]   9124 0.012 0.005 0.010\n",
      "He I      9210 0.125 0.049 0.103\n",
      "He I      9213 0.037 0.015 0.031\n",
      "[Fe II]   9227 0.006 0.002 0.005\n",
      "H I       9229 3.339 1.299 2.759\n",
      "?          nan 0.002 0.000 0.013\n",
      "He I      9464 0.235 0.086 0.200\n",
      "He I      9526 0.242 0.087 0.209\n",
      "[S III]   9531 110.123 39.360 95.058\n",
      "H I       9546 4.141 1.474 3.588\n",
      "He I      9603 0.025 0.009 0.022\n",
      "He I      9703 0.027 0.009 0.024\n",
      "[C I]     9824 0.019 0.006 0.017\n",
      "[C I]     9850 0.078 0.026 0.074\n",
      "C II      9903 0.115 0.037 0.111\n",
      "C II      9904 nan nan nan\n",
      "He I      10028 0.365 0.115 0.365\n",
      "He I      10031 0.116 0.037 0.116\n",
      "H I       10049 9.475 2.971 9.539\n",
      "He I      10138 0.049 0.015 0.051\n",
      "He I      10312 0.261 0.077 0.283\n",
      "[S II]    10320 0.453 0.134 0.492\n",
      "[S II]    10336 0.347 0.102 0.379\n",
      "[S II]    10370 0.198 0.058 0.217\n"
     ]
    }
   ],
   "source": [
    "print('Line      wl    RV=3.1  5.0 GS')\n",
    "for d2, d3 in zip(data2, data3):\n",
    "    print('{:8s} {:4.0f} {:.3f} {:.3f} {:.3f}'.format(d2['Ion'], \n",
    "                                               d2['Lambda0'], \n",
    "                                               d2['FLambda'], \n",
    "                                               d3['FLambda'],\n",
    "                                              d3['ILambda']))"
   ]
  },
  {
   "cell_type": "markdown",
   "metadata": {},
   "source": [
    "### Compute the reddening-corrected values of  H$\\gamma$/H$\\beta$, H$\\delta$/H$\\beta$, [OIII]$\\lambda$4363/[OIII]$\\lambda$5007, and [OII]$\\lambda$3727/[OII]$\\lambda$7325 for both cases of $R_V$."
   ]
  },
  {
   "cell_type": "code",
   "execution_count": 27,
   "metadata": {},
   "outputs": [
    {
     "name": "stdout",
     "output_type": "stream",
     "text": [
      "2.00099608506 1.92163746416\n",
      "2.68325339774 2.50644107066\n",
      "2.3817302304 2.26671368483\n",
      "42.3561736983 48.2007284559\n"
     ]
    }
   ],
   "source": [
    "print (rc.getCorr(4340)/rc.getCorr(4861), rc2.getCorr(4340)/rc2.getCorr(4861))\n",
    "print (rc.getCorr(4101)/rc.getCorr(4861), rc2.getCorr(4101)/rc2.getCorr(4861))\n",
    "print (rc.getCorr(4363)/rc.getCorr(5007), rc2.getCorr(4363)/rc2.getCorr(5007))\n",
    "print (rc.getCorr(3727)/rc.getCorr(7325), rc2.getCorr(3727)/rc2.getCorr(7325))"
   ]
  },
  {
   "cell_type": "markdown",
   "metadata": {},
   "source": [
    "### ??? Comment on the results."
   ]
  },
  {
   "cell_type": "markdown",
   "metadata": {},
   "source": [
    "Comments: pegamos uma tabela publicada em Garcia-Rojas (2006) que continha dados de linhas para 3 galáxias distintas. Escolhemos uma dessas galáxias para calcular o valor da correção para a extinção usando a lei de Fitzpatrick (1999), tendo como referência a emissão em Hbeta. Variamos a escolha do parâmetro R_V com o objetivo de verificar como a lei de extinção muda. Ao analisar os resultados, percebemos que ao aumentar o valor de R_V, a curva da correção diminui. Ao compararmos com a lei de extinção de Cardelli et al. (1989), percebemos semelhanças para R_V=3.1. No entanto, quando aumentamos R_V, as diferenças se acentuam nos extremos (i.e. UV, IR), enquanto no visível permanecem semelhantes."
   ]
  },
  {
   "cell_type": "markdown",
   "metadata": {},
   "source": [
    "### Plot the different extinction laws using the PyNeb RedCorr plot facility."
   ]
  },
  {
   "cell_type": "code",
   "execution_count": 28,
   "metadata": {},
   "outputs": [
    {
     "data": {
      "image/png": "[encoded data removed]",
      "text/plain": [
       "<matplotlib.figure.Figure at 0x7fdb3688b208>"
      ]
     },
     "metadata": {},
     "output_type": "display_data"
    }
   ],
   "source": [
    "f, axes =plt.subplots(2, 1, figsize=(10,16))\n",
    "rc.R_V = 3.1\n",
    "rc.plot(laws=['F99', 'CCM89'], ax=axes[0])\n",
    "axes[0].set_title('R_V = 3.1')\n",
    "rc.R_V = 5\n",
    "rc.plot(laws=['F99', 'CCM89'], ax=axes[1])\n",
    "axes[1].set_title('R_V = 5.0');"
   ]
  },
  {
   "cell_type": "code",
   "execution_count": 29,
   "metadata": {},
   "outputs": [
    {
     "data": {
      "text/html": [
       "<style>\n",
       "    @font-face {\n",
       "        font-family: \"Computer Modern\";\n",
       "        src: url('http://9dbb143991406a7c655e-aa5fcb0a5a4ec34cff238a2d56ca4144.r56.cf5.rackcdn.com/cmunss.otf');\n",
       "    }\n",
       "    @font-face {\n",
       "        font-family: \"Computer Modern\";\n",
       "        font-weight: bold;\n",
       "        src: url('http://9dbb143991406a7c655e-aa5fcb0a5a4ec34cff238a2d56ca4144.r56.cf5.rackcdn.com/cmunsx.otf');\n",
       "    }\n",
       "    @font-face {\n",
       "        font-family: \"Computer Modern\";\n",
       "        font-style: oblique;\n",
       "        src: url('http://9dbb143991406a7c655e-aa5fcb0a5a4ec34cff238a2d56ca4144.r56.cf5.rackcdn.com/cmunsi.otf');\n",
       "    }\n",
       "    @font-face {\n",
       "        font-family: \"Computer Modern\";\n",
       "        font-weight: bold;\n",
       "        font-style: oblique;\n",
       "        src: url('http://9dbb143991406a7c655e-aa5fcb0a5a4ec34cff238a2d56ca4144.r56.cf5.rackcdn.com/cmunso.otf');\n",
       "    }\n",
       "    div.cell{\n",
       "        width:800px;\n",
       "        margin-left:16% !important;\n",
       "        margin-right:auto;\n",
       "    }\n",
       "    div.text_cell_render{\n",
       "        font-family: Computer Modern, \"Helvetica Neue\", Arial, Helvetica, Geneva, sans-serif;\n",
       "        line-height: 145%;\n",
       "        font-size: 130%;\n",
       "        width:800px;\n",
       "        margin-left:auto;\n",
       "        margin-right:auto;\n",
       "    }\n",
       "    h1 {\n",
       "        font-family: Helvetica, serif;\n",
       "    }\n",
       "    \n",
       "    h3{\n",
       "        margin-top:12px;\n",
       "        margin-bottom: 3px;\n",
       "        margin-left: -10px;\n",
       "        background-color: #fcf2f2;\n",
       "        border-color: #dFb5b4;\n",
       "        border-left: 5px solid #dfb5b4;\n",
       "        padding: 0.5em;\n",
       "        font-weight:normal;\n",
       "    }\n",
       "    div.text_cell_render h3 {\n",
       "     font-size: 14pt;\n",
       "     font-weight:normal;\n",
       "    }\n",
       "    div.text_cell_render h5 {\n",
       "        font-size: 12pt;\n",
       "        color: #4057A1;\n",
       "        font-style: italic;\n",
       "        font-weight:normal;\n",
       "        margin-bottom: .0em;\n",
       "        margin-top: 0.0em;\n",
       "        display: block;\n",
       "    }\n",
       "    .CodeMirror{\n",
       "            font-family: \"Source Code Pro\", source-code-pro,Consolas, monospace;\n",
       "    }\n",
       "#    .prompt{\n",
       "#        display: None;\n",
       "#    }\n",
       "    .warning{\n",
       "        color: rgb( 240, 20, 20 )\n",
       "        }  \n",
       "</style>\n",
       "<script>\n",
       "    MathJax.Hub.Config({\n",
       "                        TeX: {\n",
       "                           extensions: [\"AMSmath.js\"]\n",
       "                           },\n",
       "                tex2jax: {\n",
       "                    inlineMath: [ ['$','$'], [\"\\\\(\",\"\\\\)\"] ],\n",
       "                    displayMath: [ ['$$','$$'], [\"\\\\[\",\"\\\\]\"] ]\n",
       "                },\n",
       "                displayAlign: 'center', // Change this to 'center' to center equations.\n",
       "                \"HTML-CSS\": {\n",
       "                    styles: {'.MathJax_Display': {\"margin\": 4}}\n",
       "                }\n",
       "        });\n",
       "</script>\n"
      ],
      "text/plain": [
       "<IPython.core.display.HTML object>"
      ]
     },
     "execution_count": 29,
     "metadata": {},
     "output_type": "execute_result"
    }
   ],
   "source": [
    "# the following is to have the nice style in the Notebook.\n",
    "# Don't remove this.\n",
    "# You will need a directory named style containing the custom.css file, \n",
    "# downlodable from the same place than this notebook\n",
    "from IPython.core.display import HTML\n",
    "def css_styling():\n",
    "    styles = open(\"./styles/custom.css\", \"r\").read()\n",
    "    return HTML(styles)\n",
    "css_styling()"
   ]
  },
  {
   "cell_type": "code",
   "execution_count": null,
   "metadata": {
    "collapsed": true
   },
   "outputs": [],
   "source": []
  }
 ],
 "metadata": {
  "kernelspec": {
   "display_name": "Python 3",
   "language": "python",
   "name": "python3"
  },
  "language_info": {
   "codemirror_mode": {
    "name": "ipython",
    "version": 3
   },
   "file_extension": ".py",
   "mimetype": "text/x-python",
   "name": "python",
   "nbconvert_exporter": "python",
   "pygments_lexer": "ipython3",
   "version": "3.6.0"
  }
 },
 "nbformat": 4,
 "nbformat_minor": 1
}
