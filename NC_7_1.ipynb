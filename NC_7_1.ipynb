{
 "cells": [
  {
   "cell_type": "markdown",
   "metadata": {},
   "source": [
    "# MODEL GRIDS WITH PYCLOUDY"
   ]
  },
  {
   "cell_type": "markdown",
   "metadata": {},
   "source": [
    "## Global budget"
   ]
  },
  {
   "cell_type": "code",
   "execution_count": 1,
   "metadata": {},
   "outputs": [],
   "source": [
    "%matplotlib inline\n",
    "import numpy as np\n",
    "import matplotlib.pyplot as plt\n",
    "import pyCloudy as pc\n",
    "pc.config.cloudy_exe = 'cloudy.exe'\n",
    "models_dir = './Models/'"
   ]
  },
  {
   "cell_type": "markdown",
   "metadata": {},
   "source": [
    "### Construct a series of plane-parallel models of density n = 100 cm$^{-3}$ ionized by a blackbody at 50,000 K, varying log U between -3.5 and -1.5 by steps of 0.5 dex and the metallicity as 12 + log O/H from 7 to 9 by steps of 0.5 dex (take He/H =0.1 for all the models and adopt the solar abundance ratios from Asplund et al. (2009) for all the heavy elements)."
   ]
  },
  {
   "cell_type": "markdown",
   "metadata": {},
   "source": [
    "##### We define some function to prepare and run the grid of Cloudy models."
   ]
  },
  {
   "cell_type": "code",
   "execution_count": 2,
   "metadata": {},
   "outputs": [],
   "source": [
    "options = ('no molecules',\n",
    "           'no level2 lines',\n",
    "           'no fine opacities',\n",
    "           'atom h-like levels small',\n",
    "           'atom he-like levels small',\n",
    "           'element limit off -7',\n",
    "            )\n",
    "from pyCloudy.utils.physics import abund_Asplund_2009\n",
    "\n",
    "def get_R_in_Q0(logU, fr, NH=100, ff=1.0):\n",
    "    c = pc.CST.CLIGHT\n",
    "    U_mean = 10**logU\n",
    "    w = (1 + fr**3.)**(1./3) - fr\n",
    "    alpha_B = 2.6e-13\n",
    "    Q0 = 4. * np.pi * c**3 * U_mean**3 / (3. * NH * ff**2 * alpha_B**2 * w**3)\n",
    "    R_str = (3. * Q0 / (4 * np.pi * NH**2 * alpha_B * ff))**(1./3)\n",
    "    R_in = fr * R_str\n",
    "    return R_in, Q0\n",
    "\n",
    "def make_mod(name, logU, ab_O):\n",
    "    NH = 100\n",
    "    ff = 0.1\n",
    "    fr = 10.00\n",
    "    R_in, Q0 = get_R_in_Q0(logU, fr=fr, NH=NH, ff=ff)\n",
    "    c_input = pc.CloudyInput('{0}/{1}'.format(models_dir, name))\n",
    "    c_input.set_BB(Teff = 50000., lumi_unit = 'q(H)', lumi_value = np.log10(Q0))\n",
    "    c_input.set_cste_density(np.log10(NH), ff = ff)\n",
    "    c_input.set_radius(r_in = np.log10(R_in))\n",
    "    abund = abund_Asplund_2009.copy()\n",
    "    delta_O = ab_O - 12 - abund['O']\n",
    "    for elem in abund:\n",
    "        if elem != 'He':\n",
    "            abund[elem] += delta_O\n",
    "    c_input.set_abund(ab_dict = abund)\n",
    "    c_input.set_grains('Orion {}'.format(10**delta_O))\n",
    "    c_input.set_distance(dist=1., unit='kpc', linear=True)\n",
    "    c_input.set_other(options)\n",
    "    c_input.set_stop(('temperature off', 'pfrac 0.02'))\n",
    "    c_input.print_input()"
   ]
  },
  {
   "cell_type": "code",
   "execution_count": 3,
   "metadata": {},
   "outputs": [],
   "source": [
    "generic_name = 'M7_'"
   ]
  },
  {
   "cell_type": "markdown",
   "metadata": {},
   "source": [
    "##### We prepare the models"
   ]
  },
  {
   "cell_type": "code",
   "execution_count": 4,
   "metadata": {},
   "outputs": [],
   "source": [
    "for logU in np.arange(-3.5, -1.49, 0.5):\n",
    "    for ab_O in np.arange(7, 9.1, 0.5):\n",
    "        name = '{}{:.1f}_{:.1f}'.format(generic_name, logU, ab_O)\n",
    "        make_mod(name, logU, ab_O)"
   ]
  },
  {
   "cell_type": "markdown",
   "metadata": {},
   "source": [
    "##### We run the models."
   ]
  },
  {
   "cell_type": "code",
   "execution_count": 5,
   "metadata": {},
   "outputs": [],
   "source": [
    "pc.run_cloudy(dir_=models_dir, n_proc=8, model_name=generic_name)"
   ]
  },
  {
   "cell_type": "markdown",
   "metadata": {},
   "source": [
    "##### We read the models in a list."
   ]
  },
  {
   "cell_type": "code",
   "execution_count": 6,
   "metadata": {},
   "outputs": [],
   "source": [
    "Ms = pc.load_models('{}/{}'.format(models_dir, generic_name),\n",
    "                    read_emis = False)"
   ]
  },
  {
   "cell_type": "markdown",
   "metadata": {},
   "source": [
    "##### We verify that the Hbeta flux is available from the CloudyModel object."
   ]
  },
  {
   "cell_type": "code",
   "execution_count": 7,
   "metadata": {},
   "outputs": [
    {
     "name": "stdout",
     "output_type": "stream",
     "text": [
      "41.794\n"
     ]
    }
   ],
   "source": [
    "print(np.float(pc.sextract(Ms[0].out['Hbeta'], 'H  1      4861.36A', '1.000').strip()))"
   ]
  },
  {
   "cell_type": "code",
   "execution_count": 11,
   "metadata": {
    "collapsed": true
   },
   "outputs": [],
   "source": [
    "pc.sextract??"
   ]
  },
  {
   "cell_type": "code",
   "execution_count": 12,
   "metadata": {},
   "outputs": [
    {
     "name": "stdout",
     "output_type": "stream",
     "text": [
      "./Models/M7_-1.5_7.0.cont    ./Models/M7_-2.5_8.0.ele_Si\r\n",
      "./Models/M7_-1.5_7.0.cool    ./Models/M7_-2.5_8.0.gabund\r\n",
      "./Models/M7_-1.5_7.0.ele_Ar  ./Models/M7_-2.5_8.0.gdgrat\r\n",
      "./Models/M7_-1.5_7.0.ele_C   ./Models/M7_-2.5_8.0.gtemp\r\n",
      "./Models/M7_-1.5_7.0.ele_Cl  ./Models/M7_-2.5_8.0.heat\r\n",
      "./Models/M7_-1.5_7.0.ele_Fe  ./Models/M7_-2.5_8.0.in\r\n",
      "./Models/M7_-1.5_7.0.ele_H   ./Models/M7_-2.5_8.0.opd\r\n",
      "./Models/M7_-1.5_7.0.ele_He  ./Models/M7_-2.5_8.0.out\r\n",
      "./Models/M7_-1.5_7.0.ele_N   ./Models/M7_-2.5_8.0.ovr\r\n",
      "./Models/M7_-1.5_7.0.ele_Ne  ./Models/M7_-2.5_8.0.phy\r\n",
      "./Models/M7_-1.5_7.0.ele_O   ./Models/M7_-2.5_8.0.rad\r\n",
      "./Models/M7_-1.5_7.0.ele_S   ./Models/M7_-2.5_8.5.cont\r\n",
      "./Models/M7_-1.5_7.0.ele_Si  ./Models/M7_-2.5_8.5.cool\r\n",
      "./Models/M7_-1.5_7.0.gabund  ./Models/M7_-2.5_8.5.ele_Ar\r\n",
      "./Models/M7_-1.5_7.0.gdgrat  ./Models/M7_-2.5_8.5.ele_C\r\n",
      "./Models/M7_-1.5_7.0.gtemp   ./Models/M7_-2.5_8.5.ele_Cl\r\n",
      "./Models/M7_-1.5_7.0.heat    ./Models/M7_-2.5_8.5.ele_Fe\r\n",
      "./Models/M7_-1.5_7.0.in      ./Models/M7_-2.5_8.5.ele_H\r\n",
      "./Models/M7_-1.5_7.0.opd     ./Models/M7_-2.5_8.5.ele_He\r\n",
      "./Models/M7_-1.5_7.0.out     ./Models/M7_-2.5_8.5.ele_N\r\n",
      "./Models/M7_-1.5_7.0.ovr     ./Models/M7_-2.5_8.5.ele_Ne\r\n",
      "./Models/M7_-1.5_7.0.phy     ./Models/M7_-2.5_8.5.ele_O\r\n",
      "./Models/M7_-1.5_7.0.rad     ./Models/M7_-2.5_8.5.ele_S\r\n",
      "./Models/M7_-1.5_7.5.cont    ./Models/M7_-2.5_8.5.ele_Si\r\n",
      "./Models/M7_-1.5_7.5.cool    ./Models/M7_-2.5_8.5.gabund\r\n",
      "./Models/M7_-1.5_7.5.ele_Ar  ./Models/M7_-2.5_8.5.gdgrat\r\n",
      "./Models/M7_-1.5_7.5.ele_C   ./Models/M7_-2.5_8.5.gtemp\r\n",
      "./Models/M7_-1.5_7.5.ele_Cl  ./Models/M7_-2.5_8.5.heat\r\n",
      "./Models/M7_-1.5_7.5.ele_Fe  ./Models/M7_-2.5_8.5.in\r\n",
      "./Models/M7_-1.5_7.5.ele_H   ./Models/M7_-2.5_8.5.opd\r\n",
      "./Models/M7_-1.5_7.5.ele_He  ./Models/M7_-2.5_8.5.out\r\n",
      "./Models/M7_-1.5_7.5.ele_N   ./Models/M7_-2.5_8.5.ovr\r\n",
      "./Models/M7_-1.5_7.5.ele_Ne  ./Models/M7_-2.5_8.5.phy\r\n",
      "./Models/M7_-1.5_7.5.ele_O   ./Models/M7_-2.5_8.5.rad\r\n",
      "./Models/M7_-1.5_7.5.ele_S   ./Models/M7_-2.5_9.0.cont\r\n",
      "./Models/M7_-1.5_7.5.ele_Si  ./Models/M7_-2.5_9.0.cool\r\n",
      "./Models/M7_-1.5_7.5.gabund  ./Models/M7_-2.5_9.0.ele_Ar\r\n",
      "./Models/M7_-1.5_7.5.gdgrat  ./Models/M7_-2.5_9.0.ele_C\r\n",
      "./Models/M7_-1.5_7.5.gtemp   ./Models/M7_-2.5_9.0.ele_Cl\r\n",
      "./Models/M7_-1.5_7.5.heat    ./Models/M7_-2.5_9.0.ele_Fe\r\n",
      "./Models/M7_-1.5_7.5.in      ./Models/M7_-2.5_9.0.ele_H\r\n",
      "./Models/M7_-1.5_7.5.opd     ./Models/M7_-2.5_9.0.ele_He\r\n",
      "./Models/M7_-1.5_7.5.out     ./Models/M7_-2.5_9.0.ele_N\r\n",
      "./Models/M7_-1.5_7.5.ovr     ./Models/M7_-2.5_9.0.ele_Ne\r\n",
      "./Models/M7_-1.5_7.5.phy     ./Models/M7_-2.5_9.0.ele_O\r\n",
      "./Models/M7_-1.5_7.5.rad     ./Models/M7_-2.5_9.0.ele_S\r\n",
      "./Models/M7_-1.5_8.0.cont    ./Models/M7_-2.5_9.0.ele_Si\r\n",
      "./Models/M7_-1.5_8.0.cool    ./Models/M7_-2.5_9.0.gabund\r\n",
      "./Models/M7_-1.5_8.0.ele_Ar  ./Models/M7_-2.5_9.0.gdgrat\r\n",
      "./Models/M7_-1.5_8.0.ele_C   ./Models/M7_-2.5_9.0.gtemp\r\n",
      "./Models/M7_-1.5_8.0.ele_Cl  ./Models/M7_-2.5_9.0.heat\r\n",
      "./Models/M7_-1.5_8.0.ele_Fe  ./Models/M7_-2.5_9.0.in\r\n",
      "./Models/M7_-1.5_8.0.ele_H   ./Models/M7_-2.5_9.0.opd\r\n",
      "./Models/M7_-1.5_8.0.ele_He  ./Models/M7_-2.5_9.0.out\r\n",
      "./Models/M7_-1.5_8.0.ele_N   ./Models/M7_-2.5_9.0.ovr\r\n",
      "./Models/M7_-1.5_8.0.ele_Ne  ./Models/M7_-2.5_9.0.phy\r\n",
      "./Models/M7_-1.5_8.0.ele_O   ./Models/M7_-2.5_9.0.rad\r\n",
      "./Models/M7_-1.5_8.0.ele_S   ./Models/M7_-3.0_7.0.cont\r\n",
      "./Models/M7_-1.5_8.0.ele_Si  ./Models/M7_-3.0_7.0.cool\r\n",
      "./Models/M7_-1.5_8.0.gabund  ./Models/M7_-3.0_7.0.ele_Ar\r\n",
      "./Models/M7_-1.5_8.0.gdgrat  ./Models/M7_-3.0_7.0.ele_C\r\n",
      "./Models/M7_-1.5_8.0.gtemp   ./Models/M7_-3.0_7.0.ele_Cl\r\n",
      "./Models/M7_-1.5_8.0.heat    ./Models/M7_-3.0_7.0.ele_Fe\r\n",
      "./Models/M7_-1.5_8.0.in      ./Models/M7_-3.0_7.0.ele_H\r\n",
      "./Models/M7_-1.5_8.0.opd     ./Models/M7_-3.0_7.0.ele_He\r\n",
      "./Models/M7_-1.5_8.0.out     ./Models/M7_-3.0_7.0.ele_N\r\n",
      "./Models/M7_-1.5_8.0.ovr     ./Models/M7_-3.0_7.0.ele_Ne\r\n",
      "./Models/M7_-1.5_8.0.phy     ./Models/M7_-3.0_7.0.ele_O\r\n",
      "./Models/M7_-1.5_8.0.rad     ./Models/M7_-3.0_7.0.ele_S\r\n",
      "./Models/M7_-1.5_8.5.cont    ./Models/M7_-3.0_7.0.ele_Si\r\n",
      "./Models/M7_-1.5_8.5.cool    ./Models/M7_-3.0_7.0.gabund\r\n",
      "./Models/M7_-1.5_8.5.ele_Ar  ./Models/M7_-3.0_7.0.gdgrat\r\n",
      "./Models/M7_-1.5_8.5.ele_C   ./Models/M7_-3.0_7.0.gtemp\r\n",
      "./Models/M7_-1.5_8.5.ele_Cl  ./Models/M7_-3.0_7.0.heat\r\n",
      "./Models/M7_-1.5_8.5.ele_Fe  ./Models/M7_-3.0_7.0.in\r\n",
      "./Models/M7_-1.5_8.5.ele_H   ./Models/M7_-3.0_7.0.opd\r\n",
      "./Models/M7_-1.5_8.5.ele_He  ./Models/M7_-3.0_7.0.out\r\n",
      "./Models/M7_-1.5_8.5.ele_N   ./Models/M7_-3.0_7.0.ovr\r\n",
      "./Models/M7_-1.5_8.5.ele_Ne  ./Models/M7_-3.0_7.0.phy\r\n",
      "./Models/M7_-1.5_8.5.ele_O   ./Models/M7_-3.0_7.0.rad\r\n",
      "./Models/M7_-1.5_8.5.ele_S   ./Models/M7_-3.0_7.5.cont\r\n",
      "./Models/M7_-1.5_8.5.ele_Si  ./Models/M7_-3.0_7.5.cool\r\n",
      "./Models/M7_-1.5_8.5.gabund  ./Models/M7_-3.0_7.5.ele_Ar\r\n",
      "./Models/M7_-1.5_8.5.gdgrat  ./Models/M7_-3.0_7.5.ele_C\r\n",
      "./Models/M7_-1.5_8.5.gtemp   ./Models/M7_-3.0_7.5.ele_Cl\r\n",
      "./Models/M7_-1.5_8.5.heat    ./Models/M7_-3.0_7.5.ele_Fe\r\n",
      "./Models/M7_-1.5_8.5.in      ./Models/M7_-3.0_7.5.ele_H\r\n",
      "./Models/M7_-1.5_8.5.opd     ./Models/M7_-3.0_7.5.ele_He\r\n",
      "./Models/M7_-1.5_8.5.out     ./Models/M7_-3.0_7.5.ele_N\r\n",
      "./Models/M7_-1.5_8.5.ovr     ./Models/M7_-3.0_7.5.ele_Ne\r\n",
      "./Models/M7_-1.5_8.5.phy     ./Models/M7_-3.0_7.5.ele_O\r\n",
      "./Models/M7_-1.5_8.5.rad     ./Models/M7_-3.0_7.5.ele_S\r\n",
      "./Models/M7_-1.5_9.0.cont    ./Models/M7_-3.0_7.5.ele_Si\r\n",
      "./Models/M7_-1.5_9.0.cool    ./Models/M7_-3.0_7.5.gabund\r\n",
      "./Models/M7_-1.5_9.0.ele_Ar  ./Models/M7_-3.0_7.5.gdgrat\r\n",
      "./Models/M7_-1.5_9.0.ele_C   ./Models/M7_-3.0_7.5.gtemp\r\n",
      "./Models/M7_-1.5_9.0.ele_Cl  ./Models/M7_-3.0_7.5.heat\r\n",
      "./Models/M7_-1.5_9.0.ele_Fe  ./Models/M7_-3.0_7.5.in\r\n",
      "./Models/M7_-1.5_9.0.ele_H   ./Models/M7_-3.0_7.5.opd\r\n",
      "./Models/M7_-1.5_9.0.ele_He  ./Models/M7_-3.0_7.5.out\r\n",
      "./Models/M7_-1.5_9.0.ele_N   ./Models/M7_-3.0_7.5.ovr\r\n",
      "./Models/M7_-1.5_9.0.ele_Ne  ./Models/M7_-3.0_7.5.phy\r\n",
      "./Models/M7_-1.5_9.0.ele_O   ./Models/M7_-3.0_7.5.rad\r\n",
      "./Models/M7_-1.5_9.0.ele_S   ./Models/M7_-3.0_8.0.cont\r\n",
      "./Models/M7_-1.5_9.0.ele_Si  ./Models/M7_-3.0_8.0.cool\r\n",
      "./Models/M7_-1.5_9.0.gabund  ./Models/M7_-3.0_8.0.ele_Ar\r\n",
      "./Models/M7_-1.5_9.0.gdgrat  ./Models/M7_-3.0_8.0.ele_C\r\n",
      "./Models/M7_-1.5_9.0.gtemp   ./Models/M7_-3.0_8.0.ele_Cl\r\n",
      "./Models/M7_-1.5_9.0.heat    ./Models/M7_-3.0_8.0.ele_Fe\r\n",
      "./Models/M7_-1.5_9.0.in      ./Models/M7_-3.0_8.0.ele_H\r\n",
      "./Models/M7_-1.5_9.0.opd     ./Models/M7_-3.0_8.0.ele_He\r\n",
      "./Models/M7_-1.5_9.0.out     ./Models/M7_-3.0_8.0.ele_N\r\n",
      "./Models/M7_-1.5_9.0.ovr     ./Models/M7_-3.0_8.0.ele_Ne\r\n",
      "./Models/M7_-1.5_9.0.phy     ./Models/M7_-3.0_8.0.ele_O\r\n",
      "./Models/M7_-1.5_9.0.rad     ./Models/M7_-3.0_8.0.ele_S\r\n",
      "./Models/M7_-2.0_7.0.cont    ./Models/M7_-3.0_8.0.ele_Si\r\n",
      "./Models/M7_-2.0_7.0.cool    ./Models/M7_-3.0_8.0.gabund\r\n",
      "./Models/M7_-2.0_7.0.ele_Ar  ./Models/M7_-3.0_8.0.gdgrat\r\n",
      "./Models/M7_-2.0_7.0.ele_C   ./Models/M7_-3.0_8.0.gtemp\r\n",
      "./Models/M7_-2.0_7.0.ele_Cl  ./Models/M7_-3.0_8.0.heat\r\n",
      "./Models/M7_-2.0_7.0.ele_Fe  ./Models/M7_-3.0_8.0.in\r\n",
      "./Models/M7_-2.0_7.0.ele_H   ./Models/M7_-3.0_8.0.opd\r\n",
      "./Models/M7_-2.0_7.0.ele_He  ./Models/M7_-3.0_8.0.out\r\n",
      "./Models/M7_-2.0_7.0.ele_N   ./Models/M7_-3.0_8.0.ovr\r\n",
      "./Models/M7_-2.0_7.0.ele_Ne  ./Models/M7_-3.0_8.0.phy\r\n",
      "./Models/M7_-2.0_7.0.ele_O   ./Models/M7_-3.0_8.0.rad\r\n",
      "./Models/M7_-2.0_7.0.ele_S   ./Models/M7_-3.0_8.5.cont\r\n",
      "./Models/M7_-2.0_7.0.ele_Si  ./Models/M7_-3.0_8.5.cool\r\n",
      "./Models/M7_-2.0_7.0.gabund  ./Models/M7_-3.0_8.5.ele_Ar\r\n",
      "./Models/M7_-2.0_7.0.gdgrat  ./Models/M7_-3.0_8.5.ele_C\r\n",
      "./Models/M7_-2.0_7.0.gtemp   ./Models/M7_-3.0_8.5.ele_Cl\r\n",
      "./Models/M7_-2.0_7.0.heat    ./Models/M7_-3.0_8.5.ele_Fe\r\n",
      "./Models/M7_-2.0_7.0.in      ./Models/M7_-3.0_8.5.ele_H\r\n",
      "./Models/M7_-2.0_7.0.opd     ./Models/M7_-3.0_8.5.ele_He\r\n",
      "./Models/M7_-2.0_7.0.out     ./Models/M7_-3.0_8.5.ele_N\r\n",
      "./Models/M7_-2.0_7.0.ovr     ./Models/M7_-3.0_8.5.ele_Ne\r\n",
      "./Models/M7_-2.0_7.0.phy     ./Models/M7_-3.0_8.5.ele_O\r\n",
      "./Models/M7_-2.0_7.0.rad     ./Models/M7_-3.0_8.5.ele_S\r\n",
      "./Models/M7_-2.0_7.5.cont    ./Models/M7_-3.0_8.5.ele_Si\r\n",
      "./Models/M7_-2.0_7.5.cool    ./Models/M7_-3.0_8.5.gabund\r\n",
      "./Models/M7_-2.0_7.5.ele_Ar  ./Models/M7_-3.0_8.5.gdgrat\r\n",
      "./Models/M7_-2.0_7.5.ele_C   ./Models/M7_-3.0_8.5.gtemp\r\n",
      "./Models/M7_-2.0_7.5.ele_Cl  ./Models/M7_-3.0_8.5.heat\r\n",
      "./Models/M7_-2.0_7.5.ele_Fe  ./Models/M7_-3.0_8.5.in\r\n",
      "./Models/M7_-2.0_7.5.ele_H   ./Models/M7_-3.0_8.5.opd\r\n",
      "./Models/M7_-2.0_7.5.ele_He  ./Models/M7_-3.0_8.5.out\r\n",
      "./Models/M7_-2.0_7.5.ele_N   ./Models/M7_-3.0_8.5.ovr\r\n",
      "./Models/M7_-2.0_7.5.ele_Ne  ./Models/M7_-3.0_8.5.phy\r\n",
      "./Models/M7_-2.0_7.5.ele_O   ./Models/M7_-3.0_8.5.rad\r\n",
      "./Models/M7_-2.0_7.5.ele_S   ./Models/M7_-3.0_9.0.cont\r\n",
      "./Models/M7_-2.0_7.5.ele_Si  ./Models/M7_-3.0_9.0.cool\r\n",
      "./Models/M7_-2.0_7.5.gabund  ./Models/M7_-3.0_9.0.ele_Ar\r\n",
      "./Models/M7_-2.0_7.5.gdgrat  ./Models/M7_-3.0_9.0.ele_C\r\n",
      "./Models/M7_-2.0_7.5.gtemp   ./Models/M7_-3.0_9.0.ele_Cl\r\n",
      "./Models/M7_-2.0_7.5.heat    ./Models/M7_-3.0_9.0.ele_Fe\r\n",
      "./Models/M7_-2.0_7.5.in      ./Models/M7_-3.0_9.0.ele_H\r\n",
      "./Models/M7_-2.0_7.5.opd     ./Models/M7_-3.0_9.0.ele_He\r\n",
      "./Models/M7_-2.0_7.5.out     ./Models/M7_-3.0_9.0.ele_N\r\n",
      "./Models/M7_-2.0_7.5.ovr     ./Models/M7_-3.0_9.0.ele_Ne\r\n",
      "./Models/M7_-2.0_7.5.phy     ./Models/M7_-3.0_9.0.ele_O\r\n",
      "./Models/M7_-2.0_7.5.rad     ./Models/M7_-3.0_9.0.ele_S\r\n",
      "./Models/M7_-2.0_8.0.cont    ./Models/M7_-3.0_9.0.ele_Si\r\n",
      "./Models/M7_-2.0_8.0.cool    ./Models/M7_-3.0_9.0.gabund\r\n",
      "./Models/M7_-2.0_8.0.ele_Ar  ./Models/M7_-3.0_9.0.gdgrat\r\n",
      "./Models/M7_-2.0_8.0.ele_C   ./Models/M7_-3.0_9.0.gtemp\r\n",
      "./Models/M7_-2.0_8.0.ele_Cl  ./Models/M7_-3.0_9.0.heat\r\n",
      "./Models/M7_-2.0_8.0.ele_Fe  ./Models/M7_-3.0_9.0.in\r\n",
      "./Models/M7_-2.0_8.0.ele_H   ./Models/M7_-3.0_9.0.opd\r\n",
      "./Models/M7_-2.0_8.0.ele_He  ./Models/M7_-3.0_9.0.out\r\n",
      "./Models/M7_-2.0_8.0.ele_N   ./Models/M7_-3.0_9.0.ovr\r\n",
      "./Models/M7_-2.0_8.0.ele_Ne  ./Models/M7_-3.0_9.0.phy\r\n",
      "./Models/M7_-2.0_8.0.ele_O   ./Models/M7_-3.0_9.0.rad\r\n",
      "./Models/M7_-2.0_8.0.ele_S   ./Models/M7_-3.5_7.0.cont\r\n",
      "./Models/M7_-2.0_8.0.ele_Si  ./Models/M7_-3.5_7.0.cool\r\n",
      "./Models/M7_-2.0_8.0.gabund  ./Models/M7_-3.5_7.0.ele_Ar\r\n",
      "./Models/M7_-2.0_8.0.gdgrat  ./Models/M7_-3.5_7.0.ele_C\r\n",
      "./Models/M7_-2.0_8.0.gtemp   ./Models/M7_-3.5_7.0.ele_Cl\r\n",
      "./Models/M7_-2.0_8.0.heat    ./Models/M7_-3.5_7.0.ele_Fe\r\n",
      "./Models/M7_-2.0_8.0.in      ./Models/M7_-3.5_7.0.ele_H\r\n",
      "./Models/M7_-2.0_8.0.opd     ./Models/M7_-3.5_7.0.ele_He\r\n",
      "./Models/M7_-2.0_8.0.out     ./Models/M7_-3.5_7.0.ele_N\r\n",
      "./Models/M7_-2.0_8.0.ovr     ./Models/M7_-3.5_7.0.ele_Ne\r\n",
      "./Models/M7_-2.0_8.0.phy     ./Models/M7_-3.5_7.0.ele_O\r\n",
      "./Models/M7_-2.0_8.0.rad     ./Models/M7_-3.5_7.0.ele_S\r\n",
      "./Models/M7_-2.0_8.5.cont    ./Models/M7_-3.5_7.0.ele_Si\r\n",
      "./Models/M7_-2.0_8.5.cool    ./Models/M7_-3.5_7.0.gabund\r\n",
      "./Models/M7_-2.0_8.5.ele_Ar  ./Models/M7_-3.5_7.0.gdgrat\r\n",
      "./Models/M7_-2.0_8.5.ele_C   ./Models/M7_-3.5_7.0.gtemp\r\n",
      "./Models/M7_-2.0_8.5.ele_Cl  ./Models/M7_-3.5_7.0.heat\r\n",
      "./Models/M7_-2.0_8.5.ele_Fe  ./Models/M7_-3.5_7.0.in\r\n",
      "./Models/M7_-2.0_8.5.ele_H   ./Models/M7_-3.5_7.0.opd\r\n",
      "./Models/M7_-2.0_8.5.ele_He  ./Models/M7_-3.5_7.0.out\r\n",
      "./Models/M7_-2.0_8.5.ele_N   ./Models/M7_-3.5_7.0.ovr\r\n",
      "./Models/M7_-2.0_8.5.ele_Ne  ./Models/M7_-3.5_7.0.phy\r\n",
      "./Models/M7_-2.0_8.5.ele_O   ./Models/M7_-3.5_7.0.rad\r\n",
      "./Models/M7_-2.0_8.5.ele_S   ./Models/M7_-3.5_7.5.cont\r\n",
      "./Models/M7_-2.0_8.5.ele_Si  ./Models/M7_-3.5_7.5.cool\r\n",
      "./Models/M7_-2.0_8.5.gabund  ./Models/M7_-3.5_7.5.ele_Ar\r\n",
      "./Models/M7_-2.0_8.5.gdgrat  ./Models/M7_-3.5_7.5.ele_C\r\n",
      "./Models/M7_-2.0_8.5.gtemp   ./Models/M7_-3.5_7.5.ele_Cl\r\n",
      "./Models/M7_-2.0_8.5.heat    ./Models/M7_-3.5_7.5.ele_Fe\r\n",
      "./Models/M7_-2.0_8.5.in      ./Models/M7_-3.5_7.5.ele_H\r\n",
      "./Models/M7_-2.0_8.5.opd     ./Models/M7_-3.5_7.5.ele_He\r\n",
      "./Models/M7_-2.0_8.5.out     ./Models/M7_-3.5_7.5.ele_N\r\n",
      "./Models/M7_-2.0_8.5.ovr     ./Models/M7_-3.5_7.5.ele_Ne\r\n",
      "./Models/M7_-2.0_8.5.phy     ./Models/M7_-3.5_7.5.ele_O\r\n",
      "./Models/M7_-2.0_8.5.rad     ./Models/M7_-3.5_7.5.ele_S\r\n",
      "./Models/M7_-2.0_9.0.cont    ./Models/M7_-3.5_7.5.ele_Si\r\n",
      "./Models/M7_-2.0_9.0.cool    ./Models/M7_-3.5_7.5.gabund\r\n",
      "./Models/M7_-2.0_9.0.ele_Ar  ./Models/M7_-3.5_7.5.gdgrat\r\n",
      "./Models/M7_-2.0_9.0.ele_C   ./Models/M7_-3.5_7.5.gtemp\r\n",
      "./Models/M7_-2.0_9.0.ele_Cl  ./Models/M7_-3.5_7.5.heat\r\n",
      "./Models/M7_-2.0_9.0.ele_Fe  ./Models/M7_-3.5_7.5.in\r\n",
      "./Models/M7_-2.0_9.0.ele_H   ./Models/M7_-3.5_7.5.opd\r\n",
      "./Models/M7_-2.0_9.0.ele_He  ./Models/M7_-3.5_7.5.out\r\n",
      "./Models/M7_-2.0_9.0.ele_N   ./Models/M7_-3.5_7.5.ovr\r\n",
      "./Models/M7_-2.0_9.0.ele_Ne  ./Models/M7_-3.5_7.5.phy\r\n",
      "./Models/M7_-2.0_9.0.ele_O   ./Models/M7_-3.5_7.5.rad\r\n",
      "./Models/M7_-2.0_9.0.ele_S   ./Models/M7_-3.5_8.0.cont\r\n",
      "./Models/M7_-2.0_9.0.ele_Si  ./Models/M7_-3.5_8.0.cool\r\n",
      "./Models/M7_-2.0_9.0.gabund  ./Models/M7_-3.5_8.0.ele_Ar\r\n",
      "./Models/M7_-2.0_9.0.gdgrat  ./Models/M7_-3.5_8.0.ele_C\r\n",
      "./Models/M7_-2.0_9.0.gtemp   ./Models/M7_-3.5_8.0.ele_Cl\r\n",
      "./Models/M7_-2.0_9.0.heat    ./Models/M7_-3.5_8.0.ele_Fe\r\n",
      "./Models/M7_-2.0_9.0.in      ./Models/M7_-3.5_8.0.ele_H\r\n",
      "./Models/M7_-2.0_9.0.opd     ./Models/M7_-3.5_8.0.ele_He\r\n",
      "./Models/M7_-2.0_9.0.out     ./Models/M7_-3.5_8.0.ele_N\r\n",
      "./Models/M7_-2.0_9.0.ovr     ./Models/M7_-3.5_8.0.ele_Ne\r\n",
      "./Models/M7_-2.0_9.0.phy     ./Models/M7_-3.5_8.0.ele_O\r\n",
      "./Models/M7_-2.0_9.0.rad     ./Models/M7_-3.5_8.0.ele_S\r\n",
      "./Models/M7_-2.5_7.0.cont    ./Models/M7_-3.5_8.0.ele_Si\r\n",
      "./Models/M7_-2.5_7.0.cool    ./Models/M7_-3.5_8.0.gabund\r\n",
      "./Models/M7_-2.5_7.0.ele_Ar  ./Models/M7_-3.5_8.0.gdgrat\r\n",
      "./Models/M7_-2.5_7.0.ele_C   ./Models/M7_-3.5_8.0.gtemp\r\n",
      "./Models/M7_-2.5_7.0.ele_Cl  ./Models/M7_-3.5_8.0.heat\r\n",
      "./Models/M7_-2.5_7.0.ele_Fe  ./Models/M7_-3.5_8.0.in\r\n",
      "./Models/M7_-2.5_7.0.ele_H   ./Models/M7_-3.5_8.0.opd\r\n",
      "./Models/M7_-2.5_7.0.ele_He  ./Models/M7_-3.5_8.0.out\r\n",
      "./Models/M7_-2.5_7.0.ele_N   ./Models/M7_-3.5_8.0.ovr\r\n",
      "./Models/M7_-2.5_7.0.ele_Ne  ./Models/M7_-3.5_8.0.phy\r\n",
      "./Models/M7_-2.5_7.0.ele_O   ./Models/M7_-3.5_8.0.rad\r\n",
      "./Models/M7_-2.5_7.0.ele_S   ./Models/M7_-3.5_8.5.cont\r\n",
      "./Models/M7_-2.5_7.0.ele_Si  ./Models/M7_-3.5_8.5.cool\r\n",
      "./Models/M7_-2.5_7.0.gabund  ./Models/M7_-3.5_8.5.ele_Ar\r\n",
      "./Models/M7_-2.5_7.0.gdgrat  ./Models/M7_-3.5_8.5.ele_C\r\n",
      "./Models/M7_-2.5_7.0.gtemp   ./Models/M7_-3.5_8.5.ele_Cl\r\n",
      "./Models/M7_-2.5_7.0.heat    ./Models/M7_-3.5_8.5.ele_Fe\r\n",
      "./Models/M7_-2.5_7.0.in      ./Models/M7_-3.5_8.5.ele_H\r\n",
      "./Models/M7_-2.5_7.0.opd     ./Models/M7_-3.5_8.5.ele_He\r\n",
      "./Models/M7_-2.5_7.0.out     ./Models/M7_-3.5_8.5.ele_N\r\n",
      "./Models/M7_-2.5_7.0.ovr     ./Models/M7_-3.5_8.5.ele_Ne\r\n",
      "./Models/M7_-2.5_7.0.phy     ./Models/M7_-3.5_8.5.ele_O\r\n",
      "./Models/M7_-2.5_7.0.rad     ./Models/M7_-3.5_8.5.ele_S\r\n",
      "./Models/M7_-2.5_7.5.cont    ./Models/M7_-3.5_8.5.ele_Si\r\n",
      "./Models/M7_-2.5_7.5.cool    ./Models/M7_-3.5_8.5.gabund\r\n",
      "./Models/M7_-2.5_7.5.ele_Ar  ./Models/M7_-3.5_8.5.gdgrat\r\n",
      "./Models/M7_-2.5_7.5.ele_C   ./Models/M7_-3.5_8.5.gtemp\r\n",
      "./Models/M7_-2.5_7.5.ele_Cl  ./Models/M7_-3.5_8.5.heat\r\n",
      "./Models/M7_-2.5_7.5.ele_Fe  ./Models/M7_-3.5_8.5.in\r\n",
      "./Models/M7_-2.5_7.5.ele_H   ./Models/M7_-3.5_8.5.opd\r\n",
      "./Models/M7_-2.5_7.5.ele_He  ./Models/M7_-3.5_8.5.out\r\n",
      "./Models/M7_-2.5_7.5.ele_N   ./Models/M7_-3.5_8.5.ovr\r\n",
      "./Models/M7_-2.5_7.5.ele_Ne  ./Models/M7_-3.5_8.5.phy\r\n",
      "./Models/M7_-2.5_7.5.ele_O   ./Models/M7_-3.5_8.5.rad\r\n",
      "./Models/M7_-2.5_7.5.ele_S   ./Models/M7_-3.5_9.0.cont\r\n",
      "./Models/M7_-2.5_7.5.ele_Si  ./Models/M7_-3.5_9.0.cool\r\n",
      "./Models/M7_-2.5_7.5.gabund  ./Models/M7_-3.5_9.0.ele_Ar\r\n",
      "./Models/M7_-2.5_7.5.gdgrat  ./Models/M7_-3.5_9.0.ele_C\r\n",
      "./Models/M7_-2.5_7.5.gtemp   ./Models/M7_-3.5_9.0.ele_Cl\r\n",
      "./Models/M7_-2.5_7.5.heat    ./Models/M7_-3.5_9.0.ele_Fe\r\n",
      "./Models/M7_-2.5_7.5.in      ./Models/M7_-3.5_9.0.ele_H\r\n",
      "./Models/M7_-2.5_7.5.opd     ./Models/M7_-3.5_9.0.ele_He\r\n",
      "./Models/M7_-2.5_7.5.out     ./Models/M7_-3.5_9.0.ele_N\r\n",
      "./Models/M7_-2.5_7.5.ovr     ./Models/M7_-3.5_9.0.ele_Ne\r\n",
      "./Models/M7_-2.5_7.5.phy     ./Models/M7_-3.5_9.0.ele_O\r\n",
      "./Models/M7_-2.5_7.5.rad     ./Models/M7_-3.5_9.0.ele_S\r\n",
      "./Models/M7_-2.5_8.0.cont    ./Models/M7_-3.5_9.0.ele_Si\r\n",
      "./Models/M7_-2.5_8.0.cool    ./Models/M7_-3.5_9.0.gabund\r\n",
      "./Models/M7_-2.5_8.0.ele_Ar  ./Models/M7_-3.5_9.0.gdgrat\r\n",
      "./Models/M7_-2.5_8.0.ele_C   ./Models/M7_-3.5_9.0.gtemp\r\n",
      "./Models/M7_-2.5_8.0.ele_Cl  ./Models/M7_-3.5_9.0.heat\r\n",
      "./Models/M7_-2.5_8.0.ele_Fe  ./Models/M7_-3.5_9.0.in\r\n",
      "./Models/M7_-2.5_8.0.ele_H   ./Models/M7_-3.5_9.0.opd\r\n",
      "./Models/M7_-2.5_8.0.ele_He  ./Models/M7_-3.5_9.0.out\r\n",
      "./Models/M7_-2.5_8.0.ele_N   ./Models/M7_-3.5_9.0.ovr\r\n",
      "./Models/M7_-2.5_8.0.ele_Ne  ./Models/M7_-3.5_9.0.phy\r\n",
      "./Models/M7_-2.5_8.0.ele_O   ./Models/M7_-3.5_9.0.rad\r\n",
      "./Models/M7_-2.5_8.0.ele_S\r\n"
     ]
    }
   ],
   "source": [
    "! ls ./Models/M7_*"
   ]
  },
  {
   "cell_type": "markdown",
   "metadata": {},
   "source": [
    "##### We define the variables to be plotted. They are mainly obtained by looping on the models, using list comprehension technic."
   ]
  },
  {
   "cell_type": "code",
   "execution_count": 15,
   "metadata": {},
   "outputs": [
    {
     "name": "stdout",
     "output_type": "stream",
     "text": [
      " Name of the model: ./Models/M7_-3.5_7.0\n",
      " R_in (cut) = 1.094e+22 (1.094e+22), R_out (cut) = 1.094e+22 (1.094e+22)\n",
      " H+ mass = 5.00e+07, H mass = 6.83e+07\n",
      " <H+/H> = 0.91, <He++/He> = 0.00, <He+/He> = 0.90\n",
      " <O+++/O> = 0.00, <O++/O> = 0.07, <O+/O> = 0.84\n",
      " <N+++/O> = 0.00, <N++/O> = 0.13, <N+/O> = 0.81\n",
      " T(O+++) = 13040, T(O++) = 12792, T(O+) = 12365\n",
      " <ne> = 80,  <nH> = 100, T0 = 12218, t2=0.0062\n",
      " <log U> = -3.50\n"
     ]
    }
   ],
   "source": [
    "Ms[0].print_stats()"
   ]
  },
  {
   "cell_type": "code",
   "execution_count": 16,
   "metadata": {},
   "outputs": [
    {
     "data": {
      "text/plain": [
       "{'###First': ' ####  1  Te:1.355E+04 Hden:1.000E+02 Ne:1.068E+02 R:1.094E+22 R-R0:5.516E+14 dR:1.103E+15 NTR:  8 Htot:2.287E-20 T912: 8.87e-04###\\n',\n",
       " '###Last': ' ####121  Te:7.939E+03 Hden:1.000E+02 Ne:2.364E+00 R:1.094E+22 R-R0:5.384E+18 dR:1.963E+16 NTR:  7 Htot:7.814E-23 T912: 9.14e+01###\\n',\n",
       " 'Blackbody': '                       * Blackbody 50000.000000                                                          *\\n',\n",
       " 'Chem1': '        H :  0.0000  He: -1.0700  C : -5.2600  N : -5.8600  O : -5.0000  Ne: -5.7600  Mg: -6.0900  Si: -6.1800  S : -6.5700\\n',\n",
       " 'Chem2': '                                                            Fe: -6.1900\\n',\n",
       " 'Chem3': ' \\n',\n",
       " 'Chem4': '                                                    Grain Chemical Composition\\n',\n",
       " 'Cloudy ends': ' Cloudy ends: 121 zones, 1 iteration, 2 cautions. (single thread) ExecTime(s) 35.95\\n',\n",
       " 'D/G': ' Dust to gas ratio (by mass): 1.157e-04, A(V)/N(H)(pnt):1.132e-23, (ext):8.193e-24, R:3.676e+00 AV(ext):4.419e-04 (pnt):6.108e-04\\n',\n",
       " 'Hbeta': 'H  1      4861.36A   41.794    1.0000      He 1      3833.48A   38.870    0.0012      S  2      1.03205m   38.965    0.0015\\n',\n",
       " 'SED1': '           L(nu>1ryd):  43.6657   Average nu:1.490E+00   L( X-ray):  20.3739   L(BalC):  43.5184     Q(Balmer C):  54.3944\\n',\n",
       " 'SED2': '           Q(1.0-1.8):  54.0606   Q(1.8-4.0):  53.4389   Q(4.0-20):  51.0424   Q(20--):  29.7159     Ion pht flx:9.480E+08\\n',\n",
       " 'SED3': '           L(gam ray):   0.0000   Q(gam ray):   0.0000   L(Infred):  42.1753   Alf(ox):   0.0000     Total lumin:  43.9074\\n',\n",
       " 'SED4': '           log L/Lsun:  10.3244   Abs bol mg: -21.0685   Abs V mag: -16.8385   Bol cor:  -4.2300     nuFnu(Bbet):  42.2770\\n',\n",
       " 'SED5': '           U(1.0----):3.162E-04   U(4.0----):2.446E-07   T(En-Den):3.923E+00   T(Comp):4.790E+04     nuJnu(912A):3.653E-02\\n',\n",
       " 'SED6': '           Occ(FarIR):3.942E-09   Occ(H n=6):4.140E-16   Occ(1Ryd):1.685E-18   Occ(4R):1.216E-22     Occ (Nu-hi):0.000E+00\\n',\n",
       " 'SED7': '           Tbr(FarIR):1.895E-12   Tbr(H n=6):1.813E-12   Tbr(1Ryd):2.660E-13   Tbr(4R):7.690E-17     Tbr (Nu-hi):0.000E+00\\n',\n",
       " 'distance': '                       * distance = 1000.0 parsecs linear                                                *\\n',\n",
       " 'hden': '                       * hden = 2.000                                                                    *\\n',\n",
       " 'iterate': ' C-I must iterate when save continuum output is done.\\n',\n",
       " 'stop': '   Calculation stopped because low H_+/H fraction. Iteration 1 of 1\\n'}"
      ]
     },
     "execution_count": 16,
     "metadata": {},
     "output_type": "execute_result"
    }
   ],
   "source": [
    "Ms[0].out"
   ]
  },
  {
   "cell_type": "code",
   "execution_count": 8,
   "metadata": {},
   "outputs": [],
   "source": [
    "x = np.array([M.log_U_mean for M in Ms])\n",
    "logHb = np.array([np.float(pc.sextract(M.out['Hbeta'], 'H  1      4861.36A', '1.000').strip()) for M in Ms])\n",
    "logQ = np.log10(np.array([M.Q.sum() for M in Ms]))\n",
    "y = logHb - logQ\n",
    "c = 12+np.array([M.abund['O'] for M in Ms])"
   ]
  },
  {
   "cell_type": "code",
   "execution_count": 9,
   "metadata": {},
   "outputs": [
    {
     "data": {
      "image/png": "[encoded data removed]",
      "text/plain": [
       "<matplotlib.figure.Figure at 0x7f092ff95f10>"
      ]
     },
     "metadata": {},
     "output_type": "display_data"
    }
   ],
   "source": [
    "f, ax = plt.subplots(figsize=(9, 9))\n",
    "sc = ax.scatter(x, y, c=c, edgecolor='none', s=50)\n",
    "ax.set_xlabel('<logU>')\n",
    "ax.set_ylabel(r'log L(H$\\beta$)/Q$_ H$')\n",
    "cb = f.colorbar(sc)\n",
    "cb.set_label(r'12+log(O/H)')"
   ]
  },
  {
   "cell_type": "code",
   "execution_count": 10,
   "metadata": {},
   "outputs": [
    {
     "data": {
      "text/html": [
       "<style>\n",
       "    @font-face {\n",
       "        font-family: \"Computer Modern\";\n",
       "        src: url('http://9dbb143991406a7c655e-aa5fcb0a5a4ec34cff238a2d56ca4144.r56.cf5.rackcdn.com/cmunss.otf');\n",
       "    }\n",
       "    @font-face {\n",
       "        font-family: \"Computer Modern\";\n",
       "        font-weight: bold;\n",
       "        src: url('http://9dbb143991406a7c655e-aa5fcb0a5a4ec34cff238a2d56ca4144.r56.cf5.rackcdn.com/cmunsx.otf');\n",
       "    }\n",
       "    @font-face {\n",
       "        font-family: \"Computer Modern\";\n",
       "        font-style: oblique;\n",
       "        src: url('http://9dbb143991406a7c655e-aa5fcb0a5a4ec34cff238a2d56ca4144.r56.cf5.rackcdn.com/cmunsi.otf');\n",
       "    }\n",
       "    @font-face {\n",
       "        font-family: \"Computer Modern\";\n",
       "        font-weight: bold;\n",
       "        font-style: oblique;\n",
       "        src: url('http://9dbb143991406a7c655e-aa5fcb0a5a4ec34cff238a2d56ca4144.r56.cf5.rackcdn.com/cmunso.otf');\n",
       "    }\n",
       "    div.cell{\n",
       "        width:800px;\n",
       "        margin-left:16% !important;\n",
       "        margin-right:auto;\n",
       "    }\n",
       "    div.text_cell_render{\n",
       "        font-family: Computer Modern, \"Helvetica Neue\", Arial, Helvetica, Geneva, sans-serif;\n",
       "        line-height: 145%;\n",
       "        font-size: 130%;\n",
       "        width:800px;\n",
       "        margin-left:auto;\n",
       "        margin-right:auto;\n",
       "    }\n",
       "    h1 {\n",
       "        font-family: Helvetica, serif;\n",
       "    }\n",
       "    \n",
       "    h3{\n",
       "        margin-top:12px;\n",
       "        margin-bottom: 3px;\n",
       "        margin-left: -10px;\n",
       "        background-color: #fcf2f2;\n",
       "        border-color: #dFb5b4;\n",
       "        border-left: 5px solid #dfb5b4;\n",
       "        padding: 0.5em;\n",
       "        font-weight:normal;\n",
       "    }\n",
       "    div.text_cell_render h3 {\n",
       "     font-size: 14pt;\n",
       "     font-weight:normal;\n",
       "    }\n",
       "    div.text_cell_render h5 {\n",
       "        font-size: 12pt;\n",
       "        color: #4057A1;\n",
       "        font-style: italic;\n",
       "        font-weight:normal;\n",
       "        margin-bottom: .0em;\n",
       "        margin-top: 0.0em;\n",
       "        display: block;\n",
       "    }\n",
       "    .CodeMirror{\n",
       "            font-family: \"Source Code Pro\", source-code-pro,Consolas, monospace;\n",
       "    }\n",
       "#    .prompt{\n",
       "#        display: None;\n",
       "#    }\n",
       "    .warning{\n",
       "        color: rgb( 240, 20, 20 )\n",
       "        }  \n",
       "</style>\n",
       "<script>\n",
       "    MathJax.Hub.Config({\n",
       "                        TeX: {\n",
       "                           extensions: [\"AMSmath.js\"]\n",
       "                           },\n",
       "                tex2jax: {\n",
       "                    inlineMath: [ ['$','$'], [\"\\\\(\",\"\\\\)\"] ],\n",
       "                    displayMath: [ ['$$','$$'], [\"\\\\[\",\"\\\\]\"] ]\n",
       "                },\n",
       "                displayAlign: 'center', // Change this to 'center' to center equations.\n",
       "                \"HTML-CSS\": {\n",
       "                    styles: {'.MathJax_Display': {\"margin\": 4}}\n",
       "                }\n",
       "        });\n",
       "</script>\n"
      ],
      "text/plain": [
       "<IPython.core.display.HTML object>"
      ]
     },
     "execution_count": 10,
     "metadata": {},
     "output_type": "execute_result"
    }
   ],
   "source": [
    "# the following is to have the nice style in the Notebook.\n",
    "# Don't remove this.\n",
    "from IPython.core.display import HTML\n",
    "def css_styling():\n",
    "    styles = open(\"./styles/custom.css\", \"r\").read()\n",
    "    return HTML(styles)\n",
    "css_styling()"
   ]
  }
 ],
 "metadata": {
  "kernelspec": {
   "display_name": "Python 2",
   "language": "python",
   "name": "python2"
  },
  "language_info": {
   "codemirror_mode": {
    "name": "ipython",
    "version": 2
   },
   "file_extension": ".py",
   "mimetype": "text/x-python",
   "name": "python",
   "nbconvert_exporter": "python",
   "pygments_lexer": "ipython2",
   "version": "2.7.6"
  }
 },
 "nbformat": 4,
 "nbformat_minor": 1
}
