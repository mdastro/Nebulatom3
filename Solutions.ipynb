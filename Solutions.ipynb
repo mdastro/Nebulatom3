{
 "cells": [
  {
   "cell_type": "code",
   "execution_count": 1,
   "metadata": {
    "collapsed": true
   },
   "outputs": [],
   "source": [
    "import numpy as np\n",
    "from astropy import constants"
   ]
  },
  {
   "cell_type": "code",
   "execution_count": 2,
   "metadata": {},
   "outputs": [],
   "source": [
    "l_hbeta_nlr = 2E8\n",
    "n_nlr       = 1E3\n",
    "f_nu_nlr    = 8E-2 # modified from the original value given by Grazyna\n",
    "c_nlr       = 0.02\n",
    "l_hbeta_blr = 1E9\n",
    "n_blr       = 1E10\n",
    "f_nu_blr    = 1E-2\n",
    "c_blr       = 0.1\n",
    "m_h         = 1.66E-24\n",
    "e_h_beta    = 1.24E-25  # erg cm^-3 s^-1\n",
    "l_sun       = constants.L_sun.cgs.value\n",
    "m_sun       = constants.M_sun.cgs.value"
   ]
  },
  {
   "cell_type": "code",
   "execution_count": 3,
   "metadata": {
    "collapsed": true
   },
   "outputs": [],
   "source": [
    "R_nlr = ((l_hbeta_nlr*l_sun) / ((4/3.)* np.pi * n_nlr**2 * f_nu_nlr * e_h_beta))**(1/3.) "
   ]
  },
  {
   "cell_type": "code",
   "execution_count": 4,
   "metadata": {
    "collapsed": true
   },
   "outputs": [],
   "source": [
    "R_blr = ((l_hbeta_blr*l_sun) / ((4/3.)* np.pi * n_blr**2 * f_nu_blr * e_h_beta))**(1/3.) "
   ]
  },
  {
   "cell_type": "code",
   "execution_count": 5,
   "metadata": {
    "collapsed": true
   },
   "outputs": [],
   "source": [
    "M_nrl = ((4/3.) * np.pi * R_nlr**3 * n_nlr * f_nu_nlr * 1.4 * m_h)/ m_sun \n",
    "M_brl = ((4/3.) * np.pi * R_blr**3 * n_blr * f_nu_blr * 1.4 * m_h)/ m_sun "
   ]
  },
  {
   "cell_type": "code",
   "execution_count": 6,
   "metadata": {},
   "outputs": [
    {
     "name": "stdout",
     "output_type": "stream",
     "text": [
      "2.65e+20, 1.95e+16, 7.25e+06, 3.62e+00\n"
     ]
    }
   ],
   "source": [
    "print \"%.2e, %.2e, %.2e, %.2e\" % (R_nlr, R_blr, M_nrl, M_brl)"
   ]
  },
  {
   "cell_type": "code",
   "execution_count": 7,
   "metadata": {
    "collapsed": true
   },
   "outputs": [],
   "source": [
    "r_nlr = ((l_hbeta_nlr*l_sun) * 3)/(c_nlr * 16 * R_nlr**2 * np.pi * n_nlr**2 * e_h_beta)"
   ]
  },
  {
   "cell_type": "code",
   "execution_count": 8,
   "metadata": {
    "collapsed": true
   },
   "outputs": [],
   "source": [
    "r_blr = ((l_hbeta_blr*l_sun) * 3)/(c_blr * 16 * R_blr**2 * np.pi * n_blr**2 * e_h_beta)"
   ]
  },
  {
   "cell_type": "code",
   "execution_count": 9,
   "metadata": {},
   "outputs": [
    {
     "name": "stdout",
     "output_type": "stream",
     "text": [
      "2.65e+20, 4.87e+14\n"
     ]
    }
   ],
   "source": [
    "print \"%.2e, %.2e\" % (r_nlr, r_blr)"
   ]
  },
  {
   "cell_type": "code",
   "execution_count": 10,
   "metadata": {
    "collapsed": true
   },
   "outputs": [],
   "source": [
    "N_nlr = 4 * (R_nlr/r_nlr)**2 * c_nlr"
   ]
  },
  {
   "cell_type": "code",
   "execution_count": 11,
   "metadata": {
    "collapsed": true
   },
   "outputs": [],
   "source": [
    "N_blr = 4 * (R_blr/r_blr)**2 * c_blr"
   ]
  },
  {
   "cell_type": "code",
   "execution_count": 12,
   "metadata": {},
   "outputs": [
    {
     "name": "stdout",
     "output_type": "stream",
     "text": [
      "8.00e-02, 6.40e+02\n"
     ]
    }
   ],
   "source": [
    "print \"%.2e, %.2e\" % (N_nlr, N_blr)"
   ]
  }
 ],
 "metadata": {
  "kernelspec": {
   "display_name": "Python 2",
   "language": "python",
   "name": "python2"
  },
  "language_info": {
   "codemirror_mode": {
    "name": "ipython",
    "version": 2
   },
   "file_extension": ".py",
   "mimetype": "text/x-python",
   "name": "python",
   "nbconvert_exporter": "python",
   "pygments_lexer": "ipython2",
   "version": "2.7.6"
  }
 },
 "nbformat": 4,
 "nbformat_minor": 2
}
