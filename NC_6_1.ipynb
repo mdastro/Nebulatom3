{
 "cells": [
  {
   "cell_type": "markdown",
   "metadata": {},
   "source": [
    "# RUNNING CLOUDY WITHIN THE PYCLOUDY ENVIRONMENT"
   ]
  },
  {
   "cell_type": "markdown",
   "metadata": {},
   "source": [
    "The proposed exercises use the Cloudy code within the pyCloudy environment, developed by C. Morisset, in which many tools are available to easily make models and analyze them. See the pyCloudy pages at: https://sites.google.com/site/pycloudy/"
   ]
  },
  {
   "cell_type": "markdown",
   "metadata": {},
   "source": [
    "## Ionization and temperature structure"
   ]
  },
  {
   "cell_type": "markdown",
   "metadata": {},
   "source": [
    "### Compare a spherical model with n = 100 cm$^{−3}$ and filling factor ff =1 with a model with n = 10$^4$ cm$^{−3}$ and filling factor ff =0.1.  Plot Te, O$^{++}$/O, O$^+$/O as a function of fractional radius in those two models. Repeat the exercise for various values of the effective temperature."
   ]
  },
  {
   "cell_type": "markdown",
   "metadata": {},
   "source": [
    "##### We import some usefull libraies."
   ]
  },
  {
   "cell_type": "code",
   "execution_count": 1,
   "metadata": {},
   "outputs": [],
   "source": [
    "%matplotlib inline\n",
    "import numpy as np\n",
    "import matplotlib.pyplot as plt\n",
    "import pyCloudy as pc\n",
    "import matplotlib\n",
    "matplotlib.rc('axes', linewidth=1.5)\n",
    "matplotlib.rc('lines', linewidth=2)\n",
    "matplotlib.rc('font', size=12)"
   ]
  },
  {
   "cell_type": "code",
   "execution_count": 2,
   "metadata": {},
   "outputs": [
    {
     "name": "stdout",
     "output_type": "stream",
     "text": [
      "0.9.2\n"
     ]
    }
   ],
   "source": [
    "print(pc.__version__)"
   ]
  },
  {
   "cell_type": "markdown",
   "metadata": {},
   "source": [
    "##### We first tell pyCloudy where Cloudy is. Adapt the following to your installation."
   ]
  },
  {
   "cell_type": "code",
   "execution_count": 3,
   "metadata": {},
   "outputs": [],
   "source": [
    "pc.config.cloudy_exe = 'cloudy.exe'"
   ]
  },
  {
   "cell_type": "markdown",
   "metadata": {},
   "source": [
    "##### We define a directory where we want the models to be. You may have to create it and give proper permissions."
   ]
  },
  {
   "cell_type": "code",
   "execution_count": 6,
   "metadata": {},
   "outputs": [],
   "source": [
    "models_dir = './Models/'"
   ]
  },
  {
   "cell_type": "markdown",
   "metadata": {},
   "source": [
    "##### We create a Makefile in this directory that will be used to run the models. This needs to be done only once."
   ]
  },
  {
   "cell_type": "code",
   "execution_count": 7,
   "metadata": {},
   "outputs": [],
   "source": [
    "pc.print_make_file(models_dir)"
   ]
  },
  {
   "cell_type": "markdown",
   "metadata": {},
   "source": [
    "##### We define a CloudyInput object filled with the parameters of the model we want to run"
   ]
  },
  {
   "cell_type": "code",
   "execution_count": 8,
   "metadata": {},
   "outputs": [],
   "source": [
    "name = 'M6_1'"
   ]
  },
  {
   "cell_type": "code",
   "execution_count": 9,
   "metadata": {},
   "outputs": [],
   "source": [
    "c_input = pc.CloudyInput('{0}/{1}'.format(models_dir, name))"
   ]
  },
  {
   "cell_type": "markdown",
   "metadata": {},
   "source": [
    "##### Look at the available methods in the CloudyInput object."
   ]
  },
  {
   "cell_type": "code",
   "execution_count": 10,
   "metadata": {},
   "outputs": [
    {
     "name": "stdout",
     "output_type": "stream",
     "text": [
      "Help on CloudyInput in module pyCloudy.c1d.cloudy_model object:\n",
      "\n",
      "class CloudyInput(builtins.object)\n",
      " |  Object used to create and write input file for Cloudy code.\n",
      " |  \n",
      " |  Methods defined here:\n",
      " |  \n",
      " |  __init__(self, model_name=None)\n",
      " |      - model_name : name of the model. Used to name the input file and all the output files.\n",
      " |      The other parameters of the model are set using the methods\n",
      " |  \n",
      " |  import_file(self, file_=None)\n",
      " |      Import a file that will be append to the input file.\n",
      " |  \n",
      " |  init_all(self)\n",
      " |  \n",
      " |  print_input(self, to_file=True, verbose=False)\n",
      " |      This is the method to print the input file.\n",
      " |      Parameters:\n",
      " |          - to_file: Boolean. If True (default), print to the file defined as model_name + '.in'\n",
      " |          - verbose: Boolean. If True (not default), print to the standart output\n",
      " |  \n",
      " |  print_make_file(self, dir_=None)\n",
      " |      Call pc.print_make_file. \n",
      " |      Parameter:\n",
      " |          dir_:    if None, extract the string before the last / in the model_name. \n",
      " |              Otherwise, use the value\n",
      " |  \n",
      " |  read_emis_file(self, emis_file, N_char=12)\n",
      " |      Define the name of the file containing the labels for the list of emissivities to output\n",
      " |          in the .emis file\n",
      " |  \n",
      " |  run_cloudy(self, dir_=None, n_proc=1, use_make=False, model_name=None, precom='')\n",
      " |              Method to run cloudy.\n",
      " |              Parameters:\n",
      " |                  - dir_:        Directory where the model input files are\n",
      " |                  - n_proc:      number of CPUs to run (default=1)\n",
      " |                  - use_make:    if True (default), make is used. Otherwise Cloudy is run on one single model, \n",
      " |                      assuming that model_name.in exists\n",
      " |                  - model_name:  if None, the models of this object is run, \n",
      " |                      if not None, used by: make name=\"model_name\" or cloudy < model_name.in\n",
      " |                  - precom: a string to put before Cloudy (e.g. \"\n",
      " |      ice 10\")\n",
      " |  \n",
      " |  set_BB(self, Teff=None, lumi_unit=None, lumi_value=None)\n",
      " |      Add a Black Body as SED.\n",
      " |      Parameters:\n",
      " |          - Teff: Effective temeprature, in K.\n",
      " |          - lumi_unit:    a Cloudy unit for the luminosity (e.g 'q(H)', 'total luminosity', 'logU')\n",
      " |          - lumi_value:    the value of the luminosity\n",
      " |  \n",
      " |  set_C3D_comment(self, comment=None)\n",
      " |      Add special comment that will be added in the input file in the form of: C3D comment\n",
      " |       Parameter:\n",
      " |          - comment: if None, reset the list, otherwise, append its value to the list\n",
      " |  \n",
      " |  set_abund(self, predef=None, elem=None, value=None, nograins=True, ab_dict=None, metals=None, metalsgrains=None)\n",
      " |      Defines the abundances.\n",
      " |      Parameters:\n",
      " |          - predef : one of the Cloudy predefined abundances (e.g. \"ism\", \"hii region\")\n",
      " |          - elem and value: used to set one abundance, e.g, elem = 'O', value = -4.5\n",
      " |          - nograins: Boolean value\n",
      " |          - ab_dict: dictionnary of elem and values.\n",
      " |          - metals:    value by which all the metals are multiplied\n",
      " |  \n",
      " |  set_comment(self, comment=None)\n",
      " |      Add special comment that will be added in the input file in the form of: C ** comment\n",
      " |       Parameter:\n",
      " |          - comment: if None, reset the list, otherwise, append its value to the list\n",
      " |  \n",
      " |  set_cste_density(self, dens=None, ff=None)\n",
      " |      Set the density of the model to a constant value\n",
      " |      Parameters:\n",
      " |          - dens:    the density (in log(cm-3))\n",
      " |          - ff:    filling factor (unused if None, default value)\n",
      " |  \n",
      " |  set_distance(self, dist=None, unit='kpc', linear=True)\n",
      " |      Set the distance to the object.\n",
      " |      Parameters:\n",
      " |          - dist = float\n",
      " |          - unit = ('kpc', 'Mpc', 'parsecs', 'cm')\n",
      " |          - linear = boolean\n",
      " |  \n",
      " |  set_dlaw(self, dlaw_params, ff=None)\n",
      " |      Define the user-define density law.\n",
      " |      Parameters:\n",
      " |          - dlaw_params may beof type: 1.4, '1.4, 5.6, 7e45' or (1, 2, 4.5)\n",
      " |          - ff: filling factor\n",
      " |  \n",
      " |  set_emis_tab(self, emis_tab_str=None)\n",
      " |      Accept a list of line labels that will be used as:\n",
      " |      \n",
      " |      save last lines emissivity \".emis\"\n",
      " |          *** enumeration of the elements of the list ***\n",
      " |      end of lines\n",
      " |  \n",
      " |  set_fudge(self, fudge_params=None)\n",
      " |      Define a user-defined fudge parameter.\n",
      " |      \n",
      " |      Parameter:\n",
      " |          - fudge_params: may be: 1.4, '1.4, 5.6, 7e45' or (1, 2, 4.5)\n",
      " |  \n",
      " |  set_grains(self, grains=None)\n",
      " |      Append grains to the list.\n",
      " |      Parameter:\n",
      " |          - grains:    if None, reset the grains list, otherwise append the value of the parameter to the list.\n",
      " |  \n",
      " |  set_heat_cooling(self, cextra=None, hextra=None)\n",
      " |  \n",
      " |  set_iterate(self, n_iter=None, to_convergence=False)\n",
      " |      Set the iterate parameter.\n",
      " |      Parameter:\n",
      " |          - n_iter: If None, set the iterate parameter to \"iterate\" in the Cloudy input file,\n",
      " |              if ==0, unset the iterate (nothing will be printed), otherwise set iterate to the\n",
      " |              value of n_iter.\n",
      " |          - to_convergence [False]: If True, iterate to convergence is printed out. \n",
      " |              n_iter without effect then\n",
      " |  \n",
      " |  set_line_file(self, line_file=None, absolute=False)\n",
      " |      Set a file name containing a list of lines.\n",
      " |      Is used in the input file as: \n",
      " |      save last linelist \".lin\" \"***line_file***\"\n",
      " |  \n",
      " |  set_other(self, other_str=None)\n",
      " |      Define any other command line to be added to the Cloudy input file\n",
      " |      Parameter:\n",
      " |          - other_str: if None, reset the list, otherwise, append its value to the list\n",
      " |  \n",
      " |  set_radius(self, r_in=None, r_out=None)\n",
      " |      param:\n",
      " |          r_in [float] (log cm)\n",
      " |      optional:\n",
      " |          r_out [float] (log cm)\n",
      " |  \n",
      " |  set_save_str(self, save='save')\n",
      " |      This determine if \"save\" (default) or \"punch\" is used in the input file\n",
      " |      Parameter:\n",
      " |          - save:    \"save\" (default) or \"punch\". If another value is sent, \"save\" is used.\n",
      " |  \n",
      " |  set_sphere(self, sphere=True)\n",
      " |      Set the sphere parameter if True, unset it otherwise.\n",
      " |  \n",
      " |  set_star(self, SED=None, SED_params=None, lumi_unit=None, lumi_value=None)\n",
      " |      Add a table to the SED.\n",
      " |      Parameters:\n",
      " |          - SED:    The SED description, like \"table Rauch\"\n",
      " |          - SED_params:    parameter(s) for the SED. May be a list or a tuple, of strings or floats\n",
      " |                              or a simple string with everything in it.\n",
      " |  \n",
      " |  set_stop(self, stop_criter=None)\n",
      " |      Append a stopping criterium to the list.\n",
      " |      Parameters:\n",
      " |          - stop:    if None, the list is reset, otherwise the value of the parameter is append to the list\n",
      " |              may be a list or a tuple of criteria.\n",
      " |  \n",
      " |  set_theta_phi(self, theta=None, phi=None)\n",
      " |      Set the values of the theta and phi angles for the 3D models\n",
      " |  \n",
      " |  ----------------------------------------------------------------------\n",
      " |  Data descriptors defined here:\n",
      " |  \n",
      " |  __dict__\n",
      " |      dictionary for instance variables (if defined)\n",
      " |  \n",
      " |  __weakref__\n",
      " |      list of weak references to the object (if defined)\n",
      "\n"
     ]
    }
   ],
   "source": [
    "help(c_input)"
   ]
  },
  {
   "cell_type": "markdown",
   "metadata": {},
   "source": [
    "##### Set some parameters."
   ]
  },
  {
   "cell_type": "code",
   "execution_count": 11,
   "metadata": {},
   "outputs": [],
   "source": [
    "c_input.set_BB(Teff = 50000., lumi_unit = 'q(H)', lumi_value = 48)\n",
    "c_input.set_cste_density(2., ff = 1.)\n",
    "c_input.set_radius(r_in = 15.)\n",
    "c_input.set_abund(predef = 'ism')\n",
    "c_input.set_distance(dist=1., unit='kpc', linear=True)\n",
    "options = ('no molecules',\n",
    "           'no level2 lines',\n",
    "           'no fine opacities',\n",
    "           'atom h-like levels small',\n",
    "           'atom he-like levels small',\n",
    "           'element limit off -7',\n",
    "            )\n",
    "c_input.set_other(options)\n",
    "c_input.print_input()"
   ]
  },
  {
   "cell_type": "code",
   "execution_count": 22,
   "metadata": {},
   "outputs": [
    {
     "name": "stdout",
     "output_type": "stream",
     "text": [
      "////////////////////////////////////\r\n",
      "title M6_1\r\n",
      "////////////////////////////////////\r\n",
      "set punch prefix \"M6_1\"\r\n",
      "Blackbody 50000.000000\r\n",
      "q(H) = 48.000\r\n",
      "radius = 15.000\r\n",
      "hden = 2.000\r\n",
      "filling factor = 1.000000\r\n",
      "abundances ism no grains\r\n",
      "distance = 1000.0 parsecs linear\r\n",
      "no molecules\r\n",
      "no level2 lines\r\n",
      "no fine opacities\r\n",
      "atom h-like levels small\r\n",
      "atom he-like levels small\r\n",
      "element limit off -7\r\n",
      "save last radius \".rad\"\r\n",
      "save last continuum \".cont\"\r\n",
      "save last physical conditions \".phy\"\r\n",
      "save last overview \".ovr\"\r\n",
      "save last heating \".heat\"\r\n",
      "save last cooling \".cool\"\r\n",
      "save last optical depth \".opd\"\r\n",
      "save last element hydrogen \".ele_H\"\r\n",
      "save last element helium \".ele_He\"\r\n",
      "save last element carbon \".ele_C\"\r\n",
      "save last element nitrogen \".ele_N\"\r\n",
      "save last element oxygen \".ele_O\"\r\n",
      "save last element argon \".ele_Ar\"\r\n",
      "save last element neon \".ele_Ne\"\r\n",
      "save last element sulphur \".ele_S\"\r\n",
      "save last element chlorin \".ele_Cl\"\r\n",
      "save last element iron \".ele_Fe\"\r\n",
      "save last element silicon \".ele_Si\"\r\n"
     ]
    }
   ],
   "source": [
    "!cat ./Models/M6_1.in"
   ]
  },
  {
   "cell_type": "markdown",
   "metadata": {},
   "source": [
    "##### Run the model."
   ]
  },
  {
   "cell_type": "code",
   "execution_count": 23,
   "metadata": {},
   "outputs": [
    {
     "name": "stdout",
     "output_type": "stream",
     "text": [
      "     run_cloudy: running: cd ./Models/ ;  cloudy.exe\n",
      "     run_cloudy: ending: cd ./Models/ ;  cloudy.exe\n"
     ]
    }
   ],
   "source": [
    "c_input.run_cloudy()"
   ]
  },
  {
   "cell_type": "markdown",
   "metadata": {},
   "source": [
    "##### Read the model results into a CloudyModel object."
   ]
  },
  {
   "cell_type": "code",
   "execution_count": 15,
   "metadata": {},
   "outputs": [
    {
     "name": "stdout",
     "output_type": "stream",
     "text": [
      "     CloudyModel ./Models//M6_1: Creating CloudyModel for ./Models//M6_1\n",
      "     CloudyModel ./Models//M6_1: Li abundance not defined\n",
      "     CloudyModel ./Models//M6_1: Be abundance not defined\n",
      "     CloudyModel ./Models//M6_1: B abundance not defined\n",
      "     CloudyModel ./Models//M6_1: F abundance not defined\n",
      "     CloudyModel ./Models//M6_1: Al abundance not defined\n",
      "     CloudyModel ./Models//M6_1: K abundance not defined\n",
      "     CloudyModel ./Models//M6_1: Ca abundance not defined\n",
      "     CloudyModel ./Models//M6_1: Sc abundance not defined\n",
      "     CloudyModel ./Models//M6_1: Ti abundance not defined\n",
      "     CloudyModel ./Models//M6_1: V abundance not defined\n",
      "     CloudyModel ./Models//M6_1: Cr abundance not defined\n",
      "     CloudyModel ./Models//M6_1: Mn abundance not defined\n",
      "     CloudyModel ./Models//M6_1: Co abundance not defined\n",
      "     CloudyModel ./Models//M6_1: Ni abundance not defined\n",
      "     CloudyModel ./Models//M6_1: Cu abundance not defined\n",
      "     CloudyModel ./Models//M6_1: Zn abundance not defined\n",
      "     CloudyModel ./Models//M6_1: ./Models//M6_1.rad read\n",
      "     CloudyModel ./Models//M6_1: Number of zones: 321\n",
      "     CloudyModel ./Models//M6_1: ./Models//M6_1.phy read\n",
      "     CloudyModel ./Models//M6_1: ./Models//M6_1.ele_H read\n",
      "     CloudyModel ./Models//M6_1: filling H with 3 columns\n",
      "     CloudyModel ./Models//M6_1: ./Models//M6_1.ele_He read\n",
      "     CloudyModel ./Models//M6_1: filling He with 3 columns\n",
      "     CloudyModel ./Models//M6_1: ./Models//M6_1.ele_C read\n",
      "     CloudyModel ./Models//M6_1: filling C with 13 columns\n",
      "     CloudyModel ./Models//M6_1: ./Models//M6_1.ele_N read\n",
      "     CloudyModel ./Models//M6_1: filling N with 8 columns\n",
      "     CloudyModel ./Models//M6_1: ./Models//M6_1.ele_O read\n",
      "     CloudyModel ./Models//M6_1: filling O with 12 columns\n",
      "     CloudyModel ./Models//M6_1: ./Models//M6_1.ele_Ne read\n",
      "     CloudyModel ./Models//M6_1: filling Ne with 11 columns\n",
      "     CloudyModel ./Models//M6_1: ./Models//M6_1.ele_Ar read\n",
      "     CloudyModel ./Models//M6_1: filling Ar with 19 columns\n",
      "     CloudyModel ./Models//M6_1: ./Models//M6_1.ele_S read\n",
      "     CloudyModel ./Models//M6_1: filling S with 17 columns\n",
      "     CloudyModel ./Models//M6_1: ./Models//M6_1.ele_Cl read\n",
      "     CloudyModel ./Models//M6_1: filling Cl with 18 columns\n",
      "     CloudyModel ./Models//M6_1: ./Models//M6_1.ele_Fe read\n",
      "     CloudyModel ./Models//M6_1: filling Fe with 27 columns\n",
      "     CloudyModel ./Models//M6_1: ./Models//M6_1.ele_Si read\n",
      "     CloudyModel ./Models//M6_1: filling Si with 15 columns\n",
      "warng CloudyModel ./Models//M6_1: ./Models//M6_1.emis does not exist.\n",
      "     CloudyModel ./Models//M6_1: ./Models//M6_1.cont read\n"
     ]
    }
   ],
   "source": [
    "pc.log_.level=3\n",
    "M1 = pc.CloudyModel('{0}/{1}'.format(models_dir, name))\n",
    "# A warning is issued because no emission line file is found. \n",
    "# This is a normal behaviour, we didn't set it."
   ]
  },
  {
   "cell_type": "code",
   "execution_count": 32,
   "metadata": {},
   "outputs": [
    {
     "data": {
      "text/plain": [
       "[]"
      ]
     },
     "execution_count": 32,
     "metadata": {},
     "output_type": "execute_result"
    }
   ],
   "source": [
    "M1.comments"
   ]
  },
  {
   "cell_type": "code",
   "execution_count": 33,
   "metadata": {},
   "outputs": [
    {
     "data": {
      "text/plain": [
       "array([ 1.,  1.,  1.,  1.,  1.,  1.,  1.,  1.,  1.,  1.,  1.,  1.,  1.,\n",
       "        1.,  1.,  1.,  1.,  1.,  1.,  1.,  1.,  1.,  1.,  1.,  1.,  1.,\n",
       "        1.,  1.,  1.,  1.,  1.,  1.,  1.,  1.,  1.,  1.,  1.,  1.,  1.,\n",
       "        1.,  1.,  1.,  1.,  1.,  1.,  1.,  1.,  1.,  1.,  1.,  1.,  1.,\n",
       "        1.,  1.,  1.,  1.,  1.,  1.,  1.,  1.,  1.,  1.,  1.,  1.,  1.,\n",
       "        1.,  1.,  1.,  1.,  1.,  1.,  1.,  1.,  1.,  1.,  1.,  1.,  1.,\n",
       "        1.,  1.,  1.,  1.,  1.,  1.,  1.,  1.,  1.,  1.,  1.,  1.,  1.,\n",
       "        1.,  1.,  1.,  1.,  1.,  1.,  1.,  1.,  1.,  1.,  1.,  1.,  1.,\n",
       "        1.,  1.,  1.,  1.,  1.,  1.,  1.,  1.,  1.,  1.,  1.,  1.,  1.,\n",
       "        1.,  1.,  1.,  1.,  1.,  1.,  1.,  1.,  1.,  1.,  1.,  1.,  1.,\n",
       "        1.,  1.,  1.,  1.,  1.,  1.,  1.,  1.,  1.,  1.,  1.,  1.,  1.,\n",
       "        1.,  1.,  1.,  1.,  1.,  1.,  1.,  1.,  1.,  1.,  1.,  1.,  1.,\n",
       "        1.,  1.,  1.,  1.,  1.,  1.,  1.,  1.,  1.,  1.,  1.,  1.,  1.,\n",
       "        1.,  1.,  1.,  1.,  1.,  1.,  1.,  1.,  1.,  1.,  1.,  1.,  1.,\n",
       "        1.,  1.,  1.,  1.,  1.,  1.,  1.,  1.,  1.,  1.,  1.,  1.,  1.,\n",
       "        1.,  1.,  1.,  1.,  1.,  1.,  1.,  1.,  1.,  1.,  1.,  1.,  1.,\n",
       "        1.,  1.,  1.,  1.,  1.,  1.,  1.,  1.,  1.,  1.,  1.,  1.,  1.,\n",
       "        1.,  1.,  1.,  1.,  1.,  1.,  1.,  1.,  1.,  1.,  1.,  1.,  1.,\n",
       "        1.,  1.,  1.,  1.,  1.,  1.,  1.,  1.,  1.,  1.,  1.,  1.,  1.,\n",
       "        1.,  1.,  1.,  1.,  1.,  1.,  1.,  1.,  1.,  1.,  1.,  1.,  1.,\n",
       "        1.,  1.,  1.,  1.,  1.,  1.,  1.,  1.,  1.,  1.,  1.,  1.,  1.,\n",
       "        1.,  1.,  1.,  1.,  1.,  1.,  1.,  1.,  1.,  1.,  1.,  1.,  1.,\n",
       "        1.,  1.,  1.,  1.,  1.,  1.,  1.,  1.,  1.,  1.,  1.,  1.,  1.,\n",
       "        1.,  1.,  1.,  1.,  1.,  1.,  1.,  1.,  1.,  1.,  1.,  1.,  1.,\n",
       "        1.,  1.,  1.,  1.,  1.,  1.,  1.,  1.,  1.])"
      ]
     },
     "execution_count": 33,
     "metadata": {},
     "output_type": "execute_result"
    }
   ],
   "source": [
    "M1.ff"
   ]
  },
  {
   "cell_type": "code",
   "execution_count": 37,
   "metadata": {},
   "outputs": [
    {
     "data": {
      "text/plain": [
       "array([  2.00000000e+13,   6.08000000e+13,   1.03230000e+14,\n",
       "         1.47360000e+14,   1.93260000e+14,   2.40990000e+14,\n",
       "         2.90630000e+14,   3.42250000e+14,   3.95940000e+14,\n",
       "         4.51780000e+14,   5.09850000e+14,   5.70240000e+14,\n",
       "         6.33050000e+14,   6.98370000e+14,   7.66310000e+14,\n",
       "         8.36960000e+14,   9.10440000e+14,   9.86860000e+14,\n",
       "         1.06630000e+15,   1.14900000e+15,   1.23490000e+15,\n",
       "         1.32430000e+15,   1.41730000e+15,   1.51400000e+15,\n",
       "         1.61460000e+15,   1.71920000e+15,   1.82790000e+15,\n",
       "         1.94100000e+15,   2.05870000e+15,   2.18100000e+15,\n",
       "         2.30830000e+15,   2.44060000e+15,   2.57820000e+15,\n",
       "         2.72130000e+15,   2.87020000e+15,   3.02500000e+15,\n",
       "         3.18600000e+15,   3.35350000e+15,   3.52760000e+15,\n",
       "         3.70870000e+15,   3.89700000e+15,   4.09290000e+15,\n",
       "         4.29660000e+15,   4.50850000e+15,   4.72880000e+15,\n",
       "         4.95800000e+15,   5.19630000e+15,   5.44420000e+15,\n",
       "         5.70190000e+15,   5.97000000e+15,   6.24880000e+15,\n",
       "         6.53880000e+15,   6.84030000e+15,   7.15390000e+15,\n",
       "         7.48010000e+15,   7.81930000e+15,   8.17210000e+15,\n",
       "         8.53890000e+15,   8.92050000e+15,   9.31730000e+15,\n",
       "         9.73000000e+15,   1.01590000e+16,   1.06060000e+16,\n",
       "         1.10700000e+16,   1.15530000e+16,   1.20550000e+16,\n",
       "         1.25770000e+16,   1.31200000e+16,   1.36850000e+16,\n",
       "         1.42720000e+16,   1.48830000e+16,   1.55180000e+16,\n",
       "         1.61790000e+16,   1.68660000e+16,   1.75810000e+16,\n",
       "         1.82590000e+16,   1.88710000e+16,   1.95590000e+16,\n",
       "         2.03660000e+16,   2.11550000e+16,   2.18760000e+16,\n",
       "         2.26850000e+16,   2.36250000e+16,   2.45370000e+16,\n",
       "         2.53800000e+16,   2.63300000e+16,   2.74240000e+16,\n",
       "         2.84810000e+16,   2.94700000e+16,   3.05790000e+16,\n",
       "         3.18420000e+16,   3.30760000e+16,   3.42510000e+16,\n",
       "         3.55520000e+16,   3.70140000e+16,   3.84560000e+16,\n",
       "         3.99560000e+16,   4.15940000e+16,   4.32340000e+16,\n",
       "         4.49400000e+16,   4.67770000e+16,   4.86380000e+16,\n",
       "         5.05730000e+16,   5.26360000e+16,   5.47820000e+16,\n",
       "         5.70130000e+16,   5.93330000e+16,   6.17470000e+16,\n",
       "         6.42570000e+16,   6.68670000e+16,   6.95810000e+16,\n",
       "         7.24050000e+16,   7.53410000e+16,   7.83950000e+16,\n",
       "         8.15700000e+16,   8.48730000e+16,   8.83080000e+16,\n",
       "         9.18800000e+16,   9.55960000e+16,   9.94590000e+16,\n",
       "         1.03480000e+17,   1.07660000e+17,   1.12000000e+17,\n",
       "         1.16520000e+17,   1.21220000e+17,   1.26110000e+17,\n",
       "         1.31200000e+17,   1.36490000e+17,   1.41990000e+17,\n",
       "         1.47700000e+17,   1.53650000e+17,   1.59840000e+17,\n",
       "         1.66270000e+17,   1.72960000e+17,   1.79920000e+17,\n",
       "         1.87160000e+17,   1.94680000e+17,   2.01840000e+17,\n",
       "         2.08380000e+17,   2.15780000e+17,   2.24370000e+17,\n",
       "         2.32950000e+17,   2.41240000e+17,   2.50320000e+17,\n",
       "         2.60370000e+17,   2.70820000e+17,   2.81700000e+17,\n",
       "         2.93000000e+17,   3.04760000e+17,   3.17000000e+17,\n",
       "         3.29720000e+17,   3.42940000e+17,   3.56700000e+17,\n",
       "         3.71010000e+17,   3.85890000e+17,   4.01370000e+17,\n",
       "         4.17460000e+17,   4.34200000e+17,   4.51610000e+17,\n",
       "         4.69710000e+17,   4.88540000e+17,   5.08120000e+17,\n",
       "         5.28490000e+17,   5.49660000e+17,   5.71690000e+17,\n",
       "         5.94600000e+17,   6.18420000e+17,   6.43200000e+17,\n",
       "         6.68970000e+17,   6.95770000e+17,   7.23640000e+17,\n",
       "         7.52620000e+17,   7.82770000e+17,   8.14120000e+17,\n",
       "         8.46720000e+17,   8.80630000e+17,   9.15900000e+17,\n",
       "         9.52570000e+17,   9.90720000e+17,   1.03040000e+18,\n",
       "         1.07160000e+18,   1.11450000e+18,   1.15920000e+18,\n",
       "         1.20560000e+18,   1.25380000e+18,   1.30400000e+18,\n",
       "         1.35620000e+18,   1.41050000e+18,   1.46700000e+18,\n",
       "         1.52570000e+18,   1.58680000e+18,   1.65030000e+18,\n",
       "         1.71630000e+18,   1.78500000e+18,   1.85270000e+18,\n",
       "         1.91700000e+18,   1.98770000e+18,   2.06400000e+18,\n",
       "         2.13440000e+18,   2.20030000e+18,   2.27600000e+18,\n",
       "         2.35750000e+18,   2.42900000e+18,   2.49410000e+18,\n",
       "         2.56810000e+18,   2.64760000e+18,   2.71700000e+18,\n",
       "         2.77880000e+18,   2.84840000e+18,   2.92250000e+18,\n",
       "         2.98590000e+18,   3.04160000e+18,   3.10390000e+18,\n",
       "         3.16980000e+18,   3.22510000e+18,   3.27210000e+18,\n",
       "         3.32370000e+18,   3.37780000e+18,   3.42230000e+18,\n",
       "         3.45950000e+18,   3.50020000e+18,   3.54310000e+18,\n",
       "         3.57840000e+18,   3.60710000e+18,   3.63790000e+18,\n",
       "         3.67040000e+18,   3.69720000e+18,   3.71870000e+18,\n",
       "         3.73660000e+18,   3.75200000e+18,   3.76630000e+18,\n",
       "         3.77980000e+18,   3.79200000e+18,   3.80280000e+18,\n",
       "         3.81250000e+18,   3.82140000e+18,   3.82950000e+18,\n",
       "         3.83690000e+18,   3.84360000e+18,   3.84980000e+18,\n",
       "         3.85550000e+18,   3.86090000e+18,   3.86600000e+18,\n",
       "         3.87070000e+18,   3.87530000e+18,   3.87940000e+18,\n",
       "         3.88290000e+18,   3.88590000e+18,   3.88860000e+18,\n",
       "         3.89110000e+18,   3.89350000e+18,   3.89570000e+18,\n",
       "         3.89780000e+18,   3.89950000e+18,   3.90070000e+18,\n",
       "         3.90180000e+18,   3.90300000e+18,   3.90430000e+18,\n",
       "         3.90570000e+18,   3.90700000e+18,   3.90830000e+18,\n",
       "         3.90960000e+18,   3.91090000e+18,   3.91230000e+18,\n",
       "         3.91360000e+18,   3.91500000e+18,   3.91640000e+18,\n",
       "         3.91780000e+18,   3.91920000e+18,   3.92060000e+18,\n",
       "         3.92210000e+18,   3.92360000e+18,   3.92510000e+18,\n",
       "         3.92660000e+18,   3.92820000e+18,   3.92980000e+18,\n",
       "         3.93140000e+18,   3.93300000e+18,   3.93470000e+18,\n",
       "         3.93630000e+18,   3.93800000e+18,   3.93980000e+18,\n",
       "         3.94150000e+18,   3.94330000e+18,   3.94500000e+18,\n",
       "         3.94680000e+18,   3.94860000e+18,   3.95030000e+18,\n",
       "         3.95210000e+18,   3.95380000e+18,   3.95560000e+18,\n",
       "         3.95730000e+18,   3.95910000e+18,   3.96080000e+18,\n",
       "         3.96250000e+18,   3.96430000e+18,   3.96600000e+18,\n",
       "         3.96770000e+18,   3.96940000e+18,   3.97110000e+18,\n",
       "         3.97280000e+18,   3.97440000e+18,   3.97610000e+18,\n",
       "         3.97780000e+18,   3.97940000e+18,   3.98110000e+18,\n",
       "         3.98270000e+18,   3.98430000e+18,   3.98600000e+18,\n",
       "         3.98760000e+18,   3.98910000e+18,   3.99070000e+18,\n",
       "         3.99230000e+18,   3.99380000e+18,   3.99540000e+18,\n",
       "         3.99690000e+18,   3.99840000e+18,   3.99980000e+18,\n",
       "         4.00120000e+18,   4.00260000e+18,   4.00370000e+18])"
      ]
     },
     "execution_count": 37,
     "metadata": {},
     "output_type": "execute_result"
    }
   ],
   "source": [
    "M1.depth"
   ]
  },
  {
   "cell_type": "markdown",
   "metadata": {},
   "source": [
    "##### We plot some values depending on the radius of the nebula."
   ]
  },
  {
   "cell_type": "code",
   "execution_count": 39,
   "metadata": {},
   "outputs": [
    {
     "data": {
      "image/png": "[encoded data removed]",
      "text/plain": [
       "<matplotlib.figure.Figure at 0x7f5a4f1146d8>"
      ]
     },
     "metadata": {},
     "output_type": "display_data"
    }
   ],
   "source": [
    "f, axes = plt.subplots(1, 4, figsize=(12,6))\n",
    "x = M1.depth/np.max(M1.depth)\n",
    "axes[0].plot(x, M1.te)\n",
    "axes[0].set_ylabel('Te [K]')\n",
    "axes[1].plot(x, M1.get_ionic('O', 1))\n",
    "axes[1].set_ylabel('O+/O')\n",
    "axes[1].set_ylim(0,1)\n",
    "axes[2].plot(x, M1.get_ionic('O', 2))\n",
    "axes[2].set_ylabel('O++/O')\n",
    "axes[2].set_ylim(0,1)\n",
    "axes[3].plot(x, M1.get_ionic('H', 1))\n",
    "axes[3].set_ylabel('H+/H --> Strömgren Radius') \n",
    "axes[3].set_ylim(0,1)\n",
    "f.tight_layout()"
   ]
  },
  {
   "cell_type": "markdown",
   "metadata": {},
   "source": [
    "##### We prepare the inputs for a new model with different density."
   ]
  },
  {
   "cell_type": "code",
   "execution_count": 25,
   "metadata": {},
   "outputs": [],
   "source": [
    "name = 'M6_2'"
   ]
  },
  {
   "cell_type": "code",
   "execution_count": 26,
   "metadata": {},
   "outputs": [
    {
     "name": "stdout",
     "output_type": "stream",
     "text": [
      "     CloudyInput: Input writen in ./Models//M6_2.in\n",
      "     run_cloudy: running: cd ./Models/ ;  cloudy.exe\n",
      "     run_cloudy: ending: cd ./Models/ ;  cloudy.exe\n"
     ]
    }
   ],
   "source": [
    "c_input.model_name = '{0}/{1}'.format(models_dir, name)\n",
    "c_input.set_cste_density(4., ff = .1)\n",
    "c_input.print_input()\n",
    "c_input.run_cloudy()"
   ]
  },
  {
   "cell_type": "code",
   "execution_count": 27,
   "metadata": {},
   "outputs": [
    {
     "name": "stdout",
     "output_type": "stream",
     "text": [
      "     CloudyModel ./Models//M6_2: Creating CloudyModel for ./Models//M6_2\n",
      "     CloudyModel ./Models//M6_2: Li abundance not defined\n",
      "     CloudyModel ./Models//M6_2: Be abundance not defined\n",
      "     CloudyModel ./Models//M6_2: B abundance not defined\n",
      "     CloudyModel ./Models//M6_2: F abundance not defined\n",
      "     CloudyModel ./Models//M6_2: Al abundance not defined\n",
      "     CloudyModel ./Models//M6_2: K abundance not defined\n",
      "     CloudyModel ./Models//M6_2: Ca abundance not defined\n",
      "     CloudyModel ./Models//M6_2: Sc abundance not defined\n",
      "     CloudyModel ./Models//M6_2: Ti abundance not defined\n",
      "     CloudyModel ./Models//M6_2: V abundance not defined\n",
      "     CloudyModel ./Models//M6_2: Cr abundance not defined\n",
      "     CloudyModel ./Models//M6_2: Mn abundance not defined\n",
      "     CloudyModel ./Models//M6_2: Co abundance not defined\n",
      "     CloudyModel ./Models//M6_2: Ni abundance not defined\n",
      "     CloudyModel ./Models//M6_2: Cu abundance not defined\n",
      "     CloudyModel ./Models//M6_2: Zn abundance not defined\n",
      "     CloudyModel ./Models//M6_2: ./Models//M6_2.rad read\n",
      "     CloudyModel ./Models//M6_2: Number of zones: 276\n",
      "     CloudyModel ./Models//M6_2: ./Models//M6_2.phy read\n",
      "     CloudyModel ./Models//M6_2: ./Models//M6_2.ele_H read\n",
      "     CloudyModel ./Models//M6_2: filling H with 3 columns\n",
      "     CloudyModel ./Models//M6_2: ./Models//M6_2.ele_He read\n",
      "     CloudyModel ./Models//M6_2: filling He with 3 columns\n",
      "     CloudyModel ./Models//M6_2: ./Models//M6_2.ele_C read\n",
      "     CloudyModel ./Models//M6_2: filling C with 13 columns\n",
      "     CloudyModel ./Models//M6_2: ./Models//M6_2.ele_N read\n",
      "     CloudyModel ./Models//M6_2: filling N with 8 columns\n",
      "     CloudyModel ./Models//M6_2: ./Models//M6_2.ele_O read\n",
      "     CloudyModel ./Models//M6_2: filling O with 12 columns\n",
      "     CloudyModel ./Models//M6_2: ./Models//M6_2.ele_Ne read\n",
      "     CloudyModel ./Models//M6_2: filling Ne with 11 columns\n",
      "     CloudyModel ./Models//M6_2: ./Models//M6_2.ele_Ar read\n",
      "     CloudyModel ./Models//M6_2: filling Ar with 19 columns\n",
      "     CloudyModel ./Models//M6_2: ./Models//M6_2.ele_S read\n",
      "     CloudyModel ./Models//M6_2: filling S with 17 columns\n",
      "     CloudyModel ./Models//M6_2: ./Models//M6_2.ele_Cl read\n",
      "     CloudyModel ./Models//M6_2: filling Cl with 18 columns\n",
      "     CloudyModel ./Models//M6_2: ./Models//M6_2.ele_Fe read\n",
      "     CloudyModel ./Models//M6_2: filling Fe with 27 columns\n",
      "     CloudyModel ./Models//M6_2: ./Models//M6_2.ele_Si read\n",
      "     CloudyModel ./Models//M6_2: filling Si with 15 columns\n",
      "warng CloudyModel ./Models//M6_2: ./Models//M6_2.emis does not exist.\n",
      "     CloudyModel ./Models//M6_2: ./Models//M6_2.cont read\n"
     ]
    }
   ],
   "source": [
    "M2 = pc.CloudyModel('{0}/{1}'.format(models_dir, name))"
   ]
  },
  {
   "cell_type": "code",
   "execution_count": 28,
   "metadata": {},
   "outputs": [
    {
     "name": "stdout",
     "output_type": "stream",
     "text": [
      " Name of the model: ./Models//M6_1\n",
      " R_in (cut) = 1.000e+15 (1.000e+15), R_out (cut) = 4.005e+18 (4.005e+18)\n",
      " H+ mass = 2.07e+01, H mass = 2.26e+01\n",
      " <H+/H> = 0.97, <He++/He> = 0.00, <He+/He> = 0.97\n",
      " <O+++/O> = 0.00, <O++/O> = 0.57, <O+/O> = 0.40\n",
      " <N+++/O> = 0.01, <N++/O> = 0.64, <N+/O> = 0.33\n",
      " T(O+++) = 7081, T(O++) = 6583, T(O+) = 7752\n",
      " <ne> = 100,  <nH> = 100, T0 = 7109, t2=0.0200\n",
      " <log U> = -2.30\n"
     ]
    }
   ],
   "source": [
    "M1.print_stats()"
   ]
  },
  {
   "cell_type": "code",
   "execution_count": 29,
   "metadata": {},
   "outputs": [
    {
     "name": "stdout",
     "output_type": "stream",
     "text": [
      " Name of the model: ./Models//M6_2\n",
      " R_in (cut) = 1.000e+15 (1.000e+15), R_out (cut) = 4.233e+17 (4.233e+17)\n",
      " H+ mass = 2.42e-01, H mass = 2.67e-01\n",
      " <H+/H> = 0.97, <He++/He> = 0.00, <He+/He> = 0.97\n",
      " <O+++/O> = 0.00, <O++/O> = 0.56, <O+/O> = 0.40\n",
      " <N+++/O> = 0.01, <N++/O> = 0.64, <N+/O> = 0.34\n",
      " T(O+++) = 10017, T(O++) = 8220, T(O+) = 8987\n",
      " <ne> = 9956,  <nH> = 10000, T0 = 8553, t2=0.0063\n",
      " <log U> = -2.35\n"
     ]
    }
   ],
   "source": [
    "M2.print_stats()"
   ]
  },
  {
   "cell_type": "markdown",
   "metadata": {},
   "source": [
    "##### We plot the parameters for the 2 models."
   ]
  },
  {
   "cell_type": "code",
   "execution_count": 30,
   "metadata": {},
   "outputs": [
    {
     "data": {
      "image/png": "[encoded data removed]",
      "text/plain": [
       "<matplotlib.figure.Figure at 0x7f5a4f27fa20>"
      ]
     },
     "metadata": {},
     "output_type": "display_data"
    }
   ],
   "source": [
    "f, axes = plt.subplots(1, 3, figsize=(12,6))\n",
    "axes[0].plot(M1.depth/np.max(M1.depth), M1.te, label='M6_1')\n",
    "axes[0].plot(M2.depth/np.max(M2.depth), M2.te, '--', label='M6_2')\n",
    "axes[1].plot(M1.depth/np.max(M1.depth), M1.get_ionic('O', 1), label='M6_1')\n",
    "axes[2].plot(M1.depth/np.max(M1.depth), M1.get_ionic('O', 2), label='M6_1')\n",
    "axes[1].plot(M2.depth/np.max(M2.depth), M2.get_ionic('O', 1), '--', label='M6_2')\n",
    "axes[2].plot(M2.depth/np.max(M2.depth), M2.get_ionic('O', 2), '--', label='M6_2')\n",
    "axes[0].set_ylabel('Te')     \n",
    "axes[1].set_ylabel('O+/O')     \n",
    "axes[2].set_ylabel('O++/O') \n",
    "axes[0].set_xlabel('relat. depth')\n",
    "axes[1].set_xlabel('relat. depth')\n",
    "axes[2].set_xlabel('relat. depth')\n",
    "for ax in axes:\n",
    "    ax.legend(loc='best')\n",
    "f.tight_layout()"
   ]
  },
  {
   "cell_type": "markdown",
   "metadata": {},
   "source": [
    "##### We define a function that writes and runs the input file. It depends on some parameters (namely the effective temeprature, the density and the filling factor)."
   ]
  },
  {
   "cell_type": "code",
   "execution_count": null,
   "metadata": {},
   "outputs": [],
   "source": [
    "def make_mod(name, Teff, dens, ff):\n",
    "    options = ('no molecules',\n",
    "           'no level2 lines',\n",
    "           'no fine opacities',\n",
    "           'atom h-like levels small',\n",
    "           'atom he-like levels small',\n",
    "           'element limit off -7',\n",
    "            )\n",
    "    c_input = pc.CloudyInput('{0}/{1}'.format(models_dir, name))\n",
    "    c_input.set_BB(Teff = Teff, lumi_unit = 'q(H)', lumi_value = 48)\n",
    "    c_input.set_cste_density(dens, ff = ff)\n",
    "    c_input.set_radius(r_in = 15.)\n",
    "    c_input.set_abund(predef = 'ism')\n",
    "    c_input.set_distance(dist=1., unit='kpc', linear=True)\n",
    "    c_input.set_other(options)\n",
    "    c_input.print_input()"
   ]
  },
  {
   "cell_type": "markdown",
   "metadata": {},
   "source": [
    "##### We can now easily prepare 6 input files for 6 different models."
   ]
  },
  {
   "cell_type": "code",
   "execution_count": null,
   "metadata": {},
   "outputs": [],
   "source": [
    "make_mod('M6_3', Teff=100000, dens=2, ff=1.)\n",
    "make_mod('M6_4', Teff=100000, dens=4, ff=0.1)\n",
    "make_mod('M6_5', Teff=150000, dens=2, ff=1.)\n",
    "make_mod('M6_6', Teff=150000, dens=4, ff=0.1)"
   ]
  },
  {
   "cell_type": "markdown",
   "metadata": {},
   "source": [
    "##### We check the number of processes of the computer."
   ]
  },
  {
   "cell_type": "code",
   "execution_count": null,
   "metadata": {},
   "outputs": [],
   "source": [
    "pc.config.Nprocs"
   ]
  },
  {
   "cell_type": "markdown",
   "metadata": {},
   "source": [
    "##### We will run the models using 8 processors of the computer."
   ]
  },
  {
   "cell_type": "code",
   "execution_count": null,
   "metadata": {},
   "outputs": [],
   "source": [
    "pc.run_cloudy(models_dir, n_proc=8)"
   ]
  },
  {
   "cell_type": "markdown",
   "metadata": {},
   "source": [
    "##### We read the results of the models in different CloudyModel objects."
   ]
  },
  {
   "cell_type": "code",
   "execution_count": null,
   "metadata": {},
   "outputs": [],
   "source": [
    "pc.log_.level=2\n",
    "M3 = pc.CloudyModel('{0}/{1}'.format(models_dir, 'M6_3'), read_emis=False)\n",
    "M4 = pc.CloudyModel('{0}/{1}'.format(models_dir, 'M6_4'), read_emis=False)\n",
    "M5 = pc.CloudyModel('{0}/{1}'.format(models_dir, 'M6_5'), read_emis=False)\n",
    "M6 = pc.CloudyModel('{0}/{1}'.format(models_dir, 'M6_6'), read_emis=False)"
   ]
  },
  {
   "cell_type": "markdown",
   "metadata": {},
   "source": [
    "##### We define a function used to plot the results of a model given as a parameter. The axis object is a parameter, to allow easy overplot."
   ]
  },
  {
   "cell_type": "code",
   "execution_count": null,
   "metadata": {},
   "outputs": [],
   "source": [
    "def plot_mod(M, axes):\n",
    "    axes[0].plot(M.depth/np.max(M.depth), M.te, \n",
    "            label='{}'.format(M.model_name.split('/')[-1]))\n",
    "    axes[1].plot(M.depth/np.max(M.depth), M.get_ionic('O', 1), \n",
    "            label='{}'.format(M.model_name.split('/')[-1]))\n",
    "    axes[2].plot(M.depth/np.max(M.depth), M.get_ionic('O', 2), '--', \n",
    "            label='{}'.format(M.model_name.split('/')[-1]))\n",
    "    axes[0].set_ylabel('Te')     \n",
    "    axes[1].set_ylabel('O+/O')     \n",
    "    axes[2].set_ylabel('O++/O') \n",
    "    axes[0].set_xlabel('relat. depth')\n",
    "    axes[1].set_xlabel('relat. depth')\n",
    "    axes[2].set_xlabel('relat. depth')"
   ]
  },
  {
   "cell_type": "code",
   "execution_count": null,
   "metadata": {},
   "outputs": [],
   "source": [
    "f, axes = plt.subplots(2, 3, figsize=(15,15))\n",
    "plot_mod(M1, axes[0,:])\n",
    "plot_mod(M2, axes[0,:])\n",
    "plot_mod(M4, axes[0,:])\n",
    "\n",
    "plot_mod(M5, axes[1,:])\n",
    "plot_mod(M6, axes[1,:])\n",
    "\n",
    "for ax in axes.ravel():\n",
    "    ax.legend(loc='best', fancybox=True, framealpha=0.75)\n",
    "f.tight_layout()"
   ]
  },
  {
   "cell_type": "markdown",
   "metadata": {},
   "source": [
    "### ??? Comment on the results."
   ]
  },
  {
   "cell_type": "markdown",
   "metadata": {},
   "source": [
    "### Construct a series of constant density, spherical dust-free models of density n = 100 cm$^{−3}$ with average ionization parameter log U = −2 ionized by a star radiating as a blackbody at a temperature of 50000K, where the metallicity varies from 0.01 Z$_\\odot$ to 3 Z$_\\odot$. Plot the following parameters, as a function of metallicity: outer radius, average temperatures and ionic fractions of O$^+$ and O$^{++}$, [O II] $\\lambda$ 3727/H$\\beta$, [O III] $\\lambda$ 5007/H$\\beta$, [O III] $\\lambda$ 88$\\mu$m/H$\\beta$."
   ]
  },
  {
   "cell_type": "markdown",
   "metadata": {},
   "source": [
    "##### We define some commands to speed-up Cloudy."
   ]
  },
  {
   "cell_type": "code",
   "execution_count": null,
   "metadata": {},
   "outputs": [],
   "source": [
    "options = ('no molecules',\n",
    "           'no level2 lines',\n",
    "           'no fine opacities',\n",
    "           'atom h-like levels small',\n",
    "           'atom he-like levels small',\n",
    "           'element limit off -7'\n",
    "            )"
   ]
  },
  {
   "cell_type": "markdown",
   "metadata": {},
   "source": [
    "##### We define a function that computes and returns the inner radius and the number of ionizing photons emitted by the source (Q0) needed to obtain a given mean logU, for a given geometry factor fr, hydrogen density NH and filling factor ff."
   ]
  },
  {
   "cell_type": "code",
   "execution_count": null,
   "metadata": {},
   "outputs": [],
   "source": [
    "def get_R_in_Q0(logU, fr, NH=100, ff=1.0):\n",
    "    \"\"\"\n",
    "    Return the inner radius and the Q0 for a given mean logU, fr, nH and ff\n",
    "    Parameters:\n",
    "        - logU : mean ionization parameter\n",
    "        - fr = R_in / R_Str\n",
    "        - \n",
    "    \"\"\"\n",
    "    c = pc.CST.CLIGHT\n",
    "    U_mean = 10**logU\n",
    "    w = (1 + fr**3.)**(1./3) - fr\n",
    "    alpha_B = 2.6e-13\n",
    "    Q0 = 4. * np.pi * c**3 * U_mean**3 / (3. * NH * ff**2 * alpha_B**2 * w**3)\n",
    "    R_str = (3. * Q0 / (4 * np.pi * NH**2 * alpha_B * ff))**(1./3)\n",
    "    R_in = fr * R_str\n",
    "    return R_in, Q0"
   ]
  },
  {
   "cell_type": "markdown",
   "metadata": {},
   "source": [
    "##### We import the Asplund (2009) abundances and the depletion factors used in Cloudy."
   ]
  },
  {
   "cell_type": "code",
   "execution_count": null,
   "metadata": {},
   "outputs": [],
   "source": [
    "from pyCloudy.utils.physics import abund_Asplund_2009, depletion_cloudy_13\n",
    "ab_O = abund_Asplund_2009['O']"
   ]
  },
  {
   "cell_type": "markdown",
   "metadata": {},
   "source": [
    "##### We define a function that generate the Cloudy input file."
   ]
  },
  {
   "cell_type": "code",
   "execution_count": null,
   "metadata": {},
   "outputs": [],
   "source": [
    "def make_mod2(name, delta_O, grains=False, depletion=False):\n",
    "    NH = 100\n",
    "    ff = 1.0\n",
    "    R_in, Q0 = get_R_in_Q0(logU=-2, fr=0.03, NH=NH, ff=ff)\n",
    "    abund = abund_Asplund_2009.copy()\n",
    "    deplet = depletion_cloudy_13.copy()\n",
    "    for elem in abund:\n",
    "        if elem != 'He':\n",
    "            abund[elem] += delta_O\n",
    "        if depletion:\n",
    "            abund[elem] += np.log10(deplet[elem])\n",
    "    c_input = pc.CloudyInput('{0}/{1}'.format(models_dir, name))\n",
    "    c_input.set_BB(Teff = 50000., lumi_unit = 'q(H)', lumi_value = np.log10(Q0))\n",
    "    c_input.set_cste_density(np.log10(NH), ff = ff)\n",
    "    c_input.set_radius(r_in = np.log10(R_in))\n",
    "    c_input.set_abund(ab_dict = abund)\n",
    "    if grains:\n",
    "        c_input.set_grains('Orion {}'.format(10**delta_O))\n",
    "    c_input.set_distance(dist=1., unit='kpc', linear=True)\n",
    "    c_input.set_other(options)\n",
    "    c_input.set_stop(('temperature off', 'pfrac 0.02'))\n",
    "    c_input.set_emis_tab(['BLND  3727.00', 'O  3  5006.84', 'H  1  4861.36', 'O  3  88.33m'])\n",
    "    c_input.print_input()"
   ]
  },
  {
   "cell_type": "code",
   "execution_count": null,
   "metadata": {},
   "outputs": [],
   "source": [
    "generic_name = 'M6_10'"
   ]
  },
  {
   "cell_type": "markdown",
   "metadata": {},
   "source": [
    "##### We loop on the $\\Delta$ O/H."
   ]
  },
  {
   "cell_type": "code",
   "execution_count": null,
   "metadata": {},
   "outputs": [],
   "source": [
    "for delta_O in np.linspace(-2, 0.5, 10):\n",
    "    name = '{}_{:.2f}'.format(generic_name, delta_O)\n",
    "    make_mod2(name, delta_O)"
   ]
  },
  {
   "cell_type": "markdown",
   "metadata": {},
   "source": [
    "##### We run the Cloudy models using 4 processors (adapt to your machine)."
   ]
  },
  {
   "cell_type": "code",
   "execution_count": null,
   "metadata": {},
   "outputs": [],
   "source": [
    "pc.run_cloudy(dir_=models_dir, n_proc=8, use_make=True, model_name=generic_name)"
   ]
  },
  {
   "cell_type": "markdown",
   "metadata": {},
   "source": [
    "##### We read the models in a list."
   ]
  },
  {
   "cell_type": "code",
   "execution_count": null,
   "metadata": {},
   "outputs": [],
   "source": [
    "pc.log_.level=2\n",
    "Ms = pc.load_models(model_name='{}/{}'.format(models_dir, generic_name))"
   ]
  },
  {
   "cell_type": "markdown",
   "metadata": {},
   "source": [
    "##### We check that the Ms list contains the 10 models."
   ]
  },
  {
   "cell_type": "code",
   "execution_count": null,
   "metadata": {},
   "outputs": [],
   "source": [
    "print(Ms)"
   ]
  },
  {
   "cell_type": "markdown",
   "metadata": {},
   "source": [
    "##### We print the emission line labels."
   ]
  },
  {
   "cell_type": "code",
   "execution_count": null,
   "metadata": {},
   "outputs": [],
   "source": [
    "Ms[0].emis_labels"
   ]
  },
  {
   "cell_type": "markdown",
   "metadata": {},
   "source": [
    "##### We define a list containing the $\\Delta$ O/H for each model."
   ]
  },
  {
   "cell_type": "code",
   "execution_count": null,
   "metadata": {},
   "outputs": [],
   "source": [
    "ab_O_sol = abund_Asplund_2009['O']\n",
    "ab_O = [M.abund['O'] - ab_O_sol for M in Ms]\n",
    "print(ab_O)"
   ]
  },
  {
   "cell_type": "markdown",
   "metadata": {},
   "source": [
    "##### We plot the different parameters as a function of $\\Delta$ O/H."
   ]
  },
  {
   "cell_type": "code",
   "execution_count": null,
   "metadata": {},
   "outputs": [],
   "source": [
    "f, axes = plt.subplots(4, 2, figsize=(12,12))\n",
    "msize = 40\n",
    "axes[0, 0].scatter(ab_O, [M.T0 for M in Ms], edgecolor='none', s=msize)\n",
    "axes[0, 0].set_ylabel('Te')\n",
    "axes[0, 1].scatter(ab_O, [M.r_out for M in Ms], edgecolor='none', s=msize)\n",
    "axes[0, 1].set_ylabel('Rout')\n",
    "axes[1, 0].scatter(ab_O, [M.get_ab_ion_vol_ne('O', 1) for M in Ms], \n",
    "                   edgecolor='none', s=msize)\n",
    "axes[1, 0].set_ylabel('O+/O')\n",
    "axes[1, 1].scatter(ab_O, [M.get_ab_ion_vol_ne('O', 2) for M in Ms], \n",
    "                   edgecolor='none', s=msize)\n",
    "axes[1, 1].set_ylabel('O++/O')\n",
    "axes[2, 0].scatter(ab_O, [M.get_emis_vol('BLND_372700A')/M.get_emis_vol('H__1_486136A') \n",
    "                          for M in Ms], edgecolor='none', s=msize)\n",
    "axes[2, 0].set_ylabel(r'[OII]/H$\\beta$')\n",
    "axes[2, 1].scatter(ab_O, [M.get_emis_vol('O__3_500684A')/M.get_emis_vol('H__1_486136A') \n",
    "                          for M in Ms], edgecolor='none', s=msize)\n",
    "axes[2, 1].set_ylabel(r'[OIII]/H$\\beta$')\n",
    "axes[3, 0].scatter(ab_O, [M.get_emis_vol('O__3_883300M')/M.get_emis_vol('H__1_486136A') \n",
    "                          for M in Ms], edgecolor='none', s=msize)\n",
    "axes[3, 0].set_ylabel(r'[OIII] 88$\\mu$m/H$\\beta$')\n",
    "axes[3, 1].scatter(ab_O, [M.log_U_mean\n",
    "                          for M in Ms], edgecolor='none', s=msize)\n",
    "axes[3, 1].set_ylabel('<logU>')\n",
    "axes[3, 0].set_xlabel('log(O/H) - log(O/H sun)')\n",
    "f.tight_layout()"
   ]
  },
  {
   "cell_type": "markdown",
   "metadata": {},
   "source": [
    "### Do the same, adding dust with Orion-type grains, with dust-to-gas ratio proportional to metallicity"
   ]
  },
  {
   "cell_type": "code",
   "execution_count": null,
   "metadata": {},
   "outputs": [],
   "source": [
    "generic_name = 'M6_11'"
   ]
  },
  {
   "cell_type": "code",
   "execution_count": null,
   "metadata": {},
   "outputs": [],
   "source": [
    "for delta_O in np.linspace(-2, 0.5, 10):\n",
    "    name = '{}_{:.2f}'.format(generic_name, delta_O)\n",
    "    make_mod2(name, delta_O, grains=True)"
   ]
  },
  {
   "cell_type": "code",
   "execution_count": null,
   "metadata": {},
   "outputs": [],
   "source": [
    "pc.run_cloudy(dir_=models_dir, n_proc=8, use_make=True, model_name=generic_name)"
   ]
  },
  {
   "cell_type": "code",
   "execution_count": null,
   "metadata": {},
   "outputs": [],
   "source": [
    "Ms2 = pc.load_models(model_name='{}/{}'.format(models_dir, generic_name))"
   ]
  },
  {
   "cell_type": "code",
   "execution_count": null,
   "metadata": {},
   "outputs": [],
   "source": [
    "ab_O_sol = abund_Asplund_2009['O']\n",
    "msize=40\n",
    "def plot_res(Ms, axes, color=None):\n",
    "    if color is None:\n",
    "        color = 'blue'\n",
    "    ab_O = [M.abund['O'] - ab_O_sol for M in Ms]\n",
    "    axes[0, 0].scatter(ab_O, [M.T0 for M in Ms], edgecolor='none', \n",
    "                       color=color, s=msize)\n",
    "    axes[0, 1].scatter(ab_O, [M.r_out for M in Ms], edgecolor='none', \n",
    "                       color=color, s=msize)\n",
    "    axes[1, 0].scatter(ab_O, [M.get_ab_ion_vol_ne('O', 1) for M in Ms],\n",
    "                       color=color, edgecolor='none', s=msize)\n",
    "    axes[1, 1].scatter(ab_O, [M.get_ab_ion_vol_ne('O', 2) for M in Ms], \n",
    "                       edgecolor='none', color=color, s=msize)\n",
    "    axes[2, 0].scatter(ab_O, [M.get_emis_vol('BLND_372700A')/M.get_emis_vol('H__1_486136A') \n",
    "                              for M in Ms], edgecolor='none', color=color, s=msize)\n",
    "    axes[2, 1].scatter(ab_O, [M.get_emis_vol('O__3_500684A')/M.get_emis_vol('H__1_486136A') \n",
    "                              for M in Ms], edgecolor='none', color=color, s=msize)\n",
    "    axes[3, 0].scatter(ab_O, [M.get_emis_vol('O__3_883300M')/M.get_emis_vol('H__1_486136A') \n",
    "                              for M in Ms], edgecolor='none', color=color, s=msize)\n",
    "    axes[3, 1].scatter(ab_O, [M.log_U_mean\n",
    "                              for M in Ms], edgecolor='none', color=color, s=msize)\n",
    "    axes[4, 0].scatter(ab_O, [M.get_emis_vol('H__1_486136A')\n",
    "                              for M in Ms], edgecolor='none', color=color, s=msize)\n",
    "    axes[0,0].set_ylabel('Te')\n",
    "    axes[0,1].set_ylabel('Rout')\n",
    "    axes[1,0].set_ylabel('O+/O')\n",
    "    axes[1,1].set_ylabel('O++/O')\n",
    "    axes[2,0].set_ylabel(r'[OII]3727A/H$\\beta$')\n",
    "    axes[2,1].set_ylabel(r'[OIII]5007A/H$\\beta$')\n",
    "    axes[3,0].set_ylabel(r'[OIII]88$\\mu$m/H$\\beta$')\n",
    "    axes[3,1].set_ylabel('<logU>')\n",
    "    axes[4,0].set_ylabel(r'H$\\beta$')\n",
    "    axes[4,0].set_xlabel('log(O/H) - log(O/H sun)')\n",
    "    f=plt.gcf()\n",
    "    f.tight_layout()"
   ]
  },
  {
   "cell_type": "code",
   "execution_count": null,
   "metadata": {},
   "outputs": [],
   "source": [
    "f, axes = plt.subplots(5, 2, figsize=(12,16))\n",
    "plot_res(Ms, axes)\n",
    "plot_res(Ms2, axes, color='red')"
   ]
  },
  {
   "cell_type": "markdown",
   "metadata": {},
   "source": [
    "### ??? Comment on the results"
   ]
  },
  {
   "cell_type": "markdown",
   "metadata": {},
   "source": [
    "### Do the same, now depleting the gas abundances according to the dust content."
   ]
  },
  {
   "cell_type": "code",
   "execution_count": null,
   "metadata": {},
   "outputs": [],
   "source": [
    "generic_name = 'M6_12'"
   ]
  },
  {
   "cell_type": "code",
   "execution_count": null,
   "metadata": {},
   "outputs": [],
   "source": [
    "for delta_O in np.linspace(-2, 0.5, 10):\n",
    "    name = '{}_{:.2f}'.format(generic_name, delta_O)\n",
    "    make_mod2(name, delta_O, grains=True, depletion=True)"
   ]
  },
  {
   "cell_type": "code",
   "execution_count": null,
   "metadata": {},
   "outputs": [],
   "source": [
    "pc.run_cloudy(dir_=models_dir, n_proc=8, use_make=True, model_name=generic_name)"
   ]
  },
  {
   "cell_type": "code",
   "execution_count": null,
   "metadata": {},
   "outputs": [],
   "source": [
    "Ms3 = pc.load_models(model_name='{}/{}'.format(models_dir, generic_name))"
   ]
  },
  {
   "cell_type": "code",
   "execution_count": null,
   "metadata": {},
   "outputs": [],
   "source": [
    "f, axes = plt.subplots(5, 2, figsize=(12,12))\n",
    "plot_res(Ms, axes)\n",
    "plot_res(Ms2, axes, color='red')\n",
    "plot_res(Ms3, axes, color='green')\n",
    "f.tight_layout()"
   ]
  },
  {
   "cell_type": "markdown",
   "metadata": {},
   "source": [
    "### ??? Comment on the results"
   ]
  },
  {
   "cell_type": "code",
   "execution_count": 1,
   "metadata": {},
   "outputs": [
    {
     "data": {
      "text/html": [
       "<style>\n",
       "    @font-face {\n",
       "        font-family: \"Computer Modern\";\n",
       "        src: url('http://9dbb143991406a7c655e-aa5fcb0a5a4ec34cff238a2d56ca4144.r56.cf5.rackcdn.com/cmunss.otf');\n",
       "    }\n",
       "    @font-face {\n",
       "        font-family: \"Computer Modern\";\n",
       "        font-weight: bold;\n",
       "        src: url('http://9dbb143991406a7c655e-aa5fcb0a5a4ec34cff238a2d56ca4144.r56.cf5.rackcdn.com/cmunsx.otf');\n",
       "    }\n",
       "    @font-face {\n",
       "        font-family: \"Computer Modern\";\n",
       "        font-style: oblique;\n",
       "        src: url('http://9dbb143991406a7c655e-aa5fcb0a5a4ec34cff238a2d56ca4144.r56.cf5.rackcdn.com/cmunsi.otf');\n",
       "    }\n",
       "    @font-face {\n",
       "        font-family: \"Computer Modern\";\n",
       "        font-weight: bold;\n",
       "        font-style: oblique;\n",
       "        src: url('http://9dbb143991406a7c655e-aa5fcb0a5a4ec34cff238a2d56ca4144.r56.cf5.rackcdn.com/cmunso.otf');\n",
       "    }\n",
       "    div.cell{\n",
       "        width:800px;\n",
       "        margin-left:16% !important;\n",
       "        margin-right:auto;\n",
       "    }\n",
       "    div.text_cell_render{\n",
       "        font-family: Computer Modern, \"Helvetica Neue\", Arial, Helvetica, Geneva, sans-serif;\n",
       "        line-height: 145%;\n",
       "        font-size: 130%;\n",
       "        width:800px;\n",
       "        margin-left:auto;\n",
       "        margin-right:auto;\n",
       "    }\n",
       "    h1 {\n",
       "        font-family: Helvetica, serif;\n",
       "    }\n",
       "    \n",
       "    h3{\n",
       "        margin-top:12px;\n",
       "        margin-bottom: 3px;\n",
       "        margin-left: -10px;\n",
       "        background-color: #fcf2f2;\n",
       "        border-color: #dFb5b4;\n",
       "        border-left: 5px solid #dfb5b4;\n",
       "        padding: 0.5em;\n",
       "        font-weight:normal;\n",
       "    }\n",
       "    div.text_cell_render h3 {\n",
       "     font-size: 14pt;\n",
       "     font-weight:normal;\n",
       "    }\n",
       "    div.text_cell_render h5 {\n",
       "        font-size: 12pt;\n",
       "        color: #4057A1;\n",
       "        font-style: italic;\n",
       "        font-weight:normal;\n",
       "        margin-bottom: .0em;\n",
       "        margin-top: 0.0em;\n",
       "        display: block;\n",
       "    }\n",
       "    .CodeMirror{\n",
       "            font-family: \"Source Code Pro\", source-code-pro,Consolas, monospace;\n",
       "    }\n",
       "#    .prompt{\n",
       "#        display: None;\n",
       "#    }\n",
       "    .warning{\n",
       "        color: rgb( 240, 20, 20 )\n",
       "        }  \n",
       "</style>\n",
       "<script>\n",
       "    MathJax.Hub.Config({\n",
       "                        TeX: {\n",
       "                           extensions: [\"AMSmath.js\"]\n",
       "                           },\n",
       "                tex2jax: {\n",
       "                    inlineMath: [ ['$','$'], [\"\\\\(\",\"\\\\)\"] ],\n",
       "                    displayMath: [ ['$$','$$'], [\"\\\\[\",\"\\\\]\"] ]\n",
       "                },\n",
       "                displayAlign: 'center', // Change this to 'center' to center equations.\n",
       "                \"HTML-CSS\": {\n",
       "                    styles: {'.MathJax_Display': {\"margin\": 4}}\n",
       "                }\n",
       "        });\n",
       "</script>\n"
      ],
      "text/plain": [
       "<IPython.core.display.HTML object>"
      ]
     },
     "execution_count": 1,
     "metadata": {},
     "output_type": "execute_result"
    }
   ],
   "source": [
    "# the following is to have the nice style in the Notebook.\n",
    "# Don't remove this.\n",
    "from IPython.core.display import HTML\n",
    "def css_styling():\n",
    "    styles = open(\"./styles/custom.css\", \"r\").read()\n",
    "    return HTML(styles)\n",
    "css_styling()"
   ]
  },
  {
   "cell_type": "code",
   "execution_count": null,
   "metadata": {
    "collapsed": true
   },
   "outputs": [],
   "source": []
  }
 ],
 "metadata": {
  "kernelspec": {
   "display_name": "Python 3",
   "language": "python",
   "name": "python3"
  },
  "language_info": {
   "codemirror_mode": {
    "name": "ipython",
    "version": 3
   },
   "file_extension": ".py",
   "mimetype": "text/x-python",
   "name": "python",
   "nbconvert_exporter": "python",
   "pygments_lexer": "ipython3",
   "version": "3.6.0"
  }
 },
 "nbformat": 4,
 "nbformat_minor": 1
}
