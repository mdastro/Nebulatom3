{
 "cells": [
  {
   "cell_type": "markdown",
   "metadata": {},
   "source": [
    "# LINE EMISSIVITIES"
   ]
  },
  {
   "cell_type": "markdown",
   "metadata": {},
   "source": [
    "## A catalogue of line emissivities"
   ]
  },
  {
   "cell_type": "markdown",
   "metadata": {},
   "source": [
    "For easy reference or back-of-the envelope computations of abundances, it is useful to have a precomputed ascii catalogue of line emissivities for the more important emission lines."
   ]
  },
  {
   "cell_type": "markdown",
   "metadata": {},
   "source": [
    "### Prepare such a catalogue for densities of 3.0e+01, 1.0e+02, 3.0e+02, 1.0e+03, 3.0+04, 1.e+05, 3.0e+05, 1.0e+06, 3.0e+06, 1.0e+07, 3.0+07, 1.e+08, 3.0e+08, 1.0e+09, and 3.0e+09, for electron temperatures between 400K and 20,000K by setps of 200K, and then until 100,000K by steps of 10,000K."
   ]
  },
  {
   "cell_type": "markdown",
   "metadata": {},
   "source": [
    "### At the beginning of the catalogue, indicate the version of PyNeb used to build it and, for each ion the atomic data used to compute the emissivities."
   ]
  },
  {
   "cell_type": "code",
   "execution_count": 1,
   "metadata": {},
   "outputs": [],
   "source": [
    "import numpy as np\n",
    "import pyneb as pn\n",
    "import os"
   ]
  },
  {
   "cell_type": "code",
   "execution_count": 2,
   "metadata": {},
   "outputs": [],
   "source": [
    "results_path ='/home/mldantas/NEBULATOM-tools/Notebooks/NC2_3'"
   ]
  },
  {
   "cell_type": "code",
   "execution_count": 3,
   "metadata": {},
   "outputs": [],
   "source": [
    "tem1 = np.arange(400, 20001, 200)\n",
    "tem2 = np.arange(30000, 100001, 10000)\n",
    "tem = np.append(tem1, tem2)\n",
    "den = np.logspace(1, 10, 19)"
   ]
  },
  {
   "cell_type": "code",
   "execution_count": 4,
   "metadata": {},
   "outputs": [],
   "source": [
    "# The lines of interest are here:\n",
    "line_dic = {}\n",
    "line_dic['H1r'] =  ['3_2', '4_2', '5_2', '6_2']\n",
    "line_dic['He1r'] = ['5876.0', '4471.0', '6678.0']\n",
    "line_dic['He2r'] = ['3_2',  '4_3']\n",
    "line_dic['Ar2'] = ['7.0m']\n",
    "line_dic['Ar3'] = ['7136A', '9.0m', '21.8m']\n",
    "line_dic['Ar4'] = ['4740A', '4711A', '77.4m', '56.2m']\n",
    "line_dic['Ar5'] = ['7005A',  '13.1m', '7.9m']\n",
    "line_dic['C2'] = ['2325A', '2328A', '2323A', '2327A', '2322A', '2325A', '1335A', '1336A']\n",
    "line_dic['C3'] = ['1910A', '1909A', '1907A']\n",
    "line_dic['C4'] = ['1551A', '1548A']\n",
    "line_dic['Cl2'] = ['8579A', '3678A', '6162A', '14.4m', '33.3m']\n",
    "line_dic['Cl3'] = ['5538A', '5518A',  '3343A']\n",
    "line_dic['Cl4'] = ['8046A',  '20.3m', '11.8m']\n",
    "line_dic['Fe3'] = ['4659A']\n",
    "line_dic['Fe4'] = ['4491A', '5685A', '5735A', '6740A']\n",
    "line_dic['Fe5'] = ['4227A']\n",
    "line_dic['Fe6'] = ['5146A']\n",
    "line_dic['Fe7'] = ['6087A']\n",
    "line_dic['N2'] = [ '6584A', '205.3m', '121.8m']\n",
    "line_dic['N3'] = ['1749A', '1754A', '1747A', '1752A', '1744A', '1750A','57.4m']\n",
    "line_dic['N4'] = ['1488A', '1487A', '1483A',  '158.4m', '69.4m']\n",
    "line_dic['Ne2'] = ['12.8m']\n",
    "line_dic['Ne3'] = ['3869A', '3343A', '15.6m','36.0m']\n",
    "line_dic['Ne4'] = [ '4716A', '4726A',  '4714A', '4724A']\n",
    "line_dic['Ne5'] = ['3426A', '24.3m', '14.3m']\n",
    "line_dic['O1'] = ['6300A',  '5577A']\n",
    "line_dic['O2'] = ['3729A', '3726A', '2470A', '7319A', '7330A']\n",
    "#line_dic['O3'] = ['5007A',  '4363A', '1658A', '1661A', '1666A', '88.3m', '51.8m']\n",
    "line_dic['O3'] = ['5007A',  '4363A', '88.3m', '51.8m']\n",
    "line_dic['O4'] = ['1400A', '1407A', '1397A', '1405A', '1394A', '1401A', '25.9m']\n",
    "line_dic['S2'] = ['6731A', '6716A', '4076A', '4069A']\n",
    "line_dic['S3'] = ['9069A', '6312A', '33.5m', '18.7m']\n",
    "line_dic['S4'] = ['10.5m']"
   ]
  },
  {
   "cell_type": "code",
   "execution_count": 5,
   "metadata": {},
   "outputs": [],
   "source": [
    "def make_tab_text(atom, label):\n",
    "    if atom[-1] == 'r':\n",
    "        elem, spec = pn.utils.misc.parseAtom(atom[:-1])\n",
    "        this_atom = pn.RecAtom(elem, spec)\n",
    "        tab_emis = this_atom.getEmissivity(tem, den, label=label)\n",
    "        \n",
    "    else:\n",
    "        this_atom = pn.Atom(atom=atom)\n",
    "        if label[-1] == 'm':\n",
    "            wave = np.float(label[:-1]) * 1e4\n",
    "        else:\n",
    "            wave = np.float(label[:-1])\n",
    "        tab_emis = this_atom.getEmissivity(tem, den, wave=wave)\n",
    "    file_name = 'emis_{}_{}.txt'.format(atom, label)\n",
    "    f = open(os.path.join(results_path, file_name), 'w')\n",
    "    f.write('# {}\\n'.format(this_atom))\n",
    "    f.write('0.00e+00 ')\n",
    "    f.write(' '.join(['{:.2e}'.format(de) for de in den]))\n",
    "    f.write('\\n')\n",
    "    for te, emis in zip(tem, tab_emis):\n",
    "        emis_str = ' '.join(['{:.2e}'.format(em) for em in emis])\n",
    "        f.write('{0:.2e} {1} \\n'.format(te, emis_str))\n",
    "    f.close()"
   ]
  },
  {
   "cell_type": "code",
   "execution_count": 6,
   "metadata": {},
   "outputs": [
    {
     "name": "stdout",
     "output_type": "stream",
     "text": [
      "H1r 3_2\n",
      "H1r 4_2\n",
      "H1r 5_2\n",
      "H1r 6_2\n",
      "He1r 5876.0\n",
      "He1r 4471.0\n",
      "He1r 6678.0\n",
      "He2r 3_2\n",
      "He2r 4_3\n",
      "Ar2 7.0m\n",
      "Ar3 7136A\n",
      "Ar3 9.0m\n",
      "Ar3 21.8m\n",
      "Ar4 4740A\n",
      "Ar4 4711A\n",
      "Ar4 77.4m\n",
      "Ar4 56.2m\n",
      "Ar5 7005A\n",
      "Ar5 13.1m\n",
      "Ar5 7.9m\n",
      "C2 2325A\n",
      "C2 2328A\n",
      "C2 2323A\n",
      "C2 2327A\n",
      "C2 2322A\n",
      "C2 2325A\n",
      "C2 1335A\n",
      "C2 1336A\n",
      "C3 1910A\n",
      "C3 1909A\n",
      "C3 1907A\n",
      "C4 1551A\n",
      "C4 1548A\n",
      "Cl2 8579A\n",
      "Cl2 3678A\n",
      "Cl2 6162A\n",
      "Cl2 14.4m\n",
      "Cl2 33.3m\n",
      "Cl3 5538A\n",
      "Cl3 5518A\n",
      "Cl3 3343A\n",
      "Cl4 8046A\n",
      "Cl4 20.3m\n",
      "Cl4 11.8m\n",
      "Fe3 4659A\n",
      "Fe4 4491A\n",
      "Fe4 5685A\n",
      "Fe4 5735A\n",
      "Fe4 6740A\n",
      "Fe5 4227A\n",
      "Fe6 5146A\n",
      "Fe7 6087A\n",
      "N2 6584A\n",
      "N2 205.3m\n",
      "N2 121.8m\n",
      "N3 1749A\n",
      "N3 1754A\n",
      "N3 1747A\n",
      "N3 1752A\n",
      "N3 1744A\n",
      "N3 1750A\n",
      "N3 57.4m\n",
      "N4 1488A\n",
      "N4 1487A\n",
      "N4 1483A\n",
      "N4 158.4m\n",
      "N4 69.4m\n",
      "Ne2 12.8m\n",
      "Ne3 3869A\n",
      "Ne3 3343A\n",
      "Ne3 15.6m\n",
      "Ne3 36.0m\n",
      "Ne4 4716A\n",
      "Ne4 4726A\n",
      "Ne4 4714A\n",
      "Ne4 4724A\n",
      "Ne5 3426A\n",
      "Ne5 24.3m\n",
      "Ne5 14.3m\n",
      "O1 6300A\n",
      "O1 5577A\n",
      "O2 3729A\n",
      "O2 3726A\n",
      "O2 2470A\n",
      "O2 7319A\n",
      "O2 7330A\n",
      "O3 5007A\n",
      "O3 4363A\n",
      "O3 88.3m\n",
      "O3 51.8m\n",
      "O4 1400A\n",
      "O4 1407A\n",
      "O4 1397A\n",
      "O4 1405A\n",
      "O4 1394A\n",
      "O4 1401A\n",
      "O4 25.9m\n",
      "S2 6731A\n",
      "S2 6716A\n",
      "S2 4076A\n",
      "S2 4069A\n",
      "S3 9069A\n",
      "S3 6312A\n",
      "S3 33.5m\n",
      "S3 18.7m\n",
      "S4 10.5m\n"
     ]
    }
   ],
   "source": [
    "\n",
    "for atom in line_dic.keys():\n",
    "    for line in line_dic[atom]:\n",
    "        print(atom, line)\n",
    "        make_tab_text(atom, line)"
   ]
  },
  {
   "cell_type": "code",
   "execution_count": 7,
   "metadata": {},
   "outputs": [
    {
     "name": "stdout",
     "output_type": "stream",
     "text": [
      "ls: cannot access emis*.txt: No such file or directory\r\n"
     ]
    }
   ],
   "source": [
    "ls emis*.txt"
   ]
  },
  {
   "cell_type": "code",
   "execution_count": 8,
   "metadata": {},
   "outputs": [],
   "source": [
    "#! cat emis_H1r_3_2.txt"
   ]
  },
  {
   "cell_type": "markdown",
   "metadata": {},
   "source": [
    "### ??? What is the value of Hα/Hβ for n = 100 cm−3 and Te =1000, 5000, 8000, 10000, 20000 K."
   ]
  },
  {
   "cell_type": "code",
   "execution_count": 9,
   "metadata": {},
   "outputs": [
    {
     "name": "stdout",
     "output_type": "stream",
     "text": [
      "[ 3.66181411  3.04092769  2.91828897  2.86315789  2.74661803]\n"
     ]
    }
   ],
   "source": [
    "H1 = pn.RecAtom('H',1)\n",
    "den = 1e2\n",
    "tem = (1e3, 5e3, 8e3, 1e4, 2e4)\n",
    "print(H1.getEmissivity(tem, den, label='3_2') / H1.getEmissivity(tem, den, label='4_2'))"
   ]
  },
  {
   "cell_type": "markdown",
   "metadata": {},
   "source": [
    "### Prepare a catalog of the following line ratios [OIII]$\\lambda$4363/[OIII]$\\lambda$5007, [NII]$\\lambda$5755/[NII]$\\lambda$6584, [SIII]$\\lambda$6312/[SIII]$\\lambda$9069 in the same $T_e$ and $n_e$ ranges as above."
   ]
  },
  {
   "cell_type": "code",
   "execution_count": 10,
   "metadata": {},
   "outputs": [
    {
     "name": "stdout",
     "output_type": "stream",
     "text": [
      "(473, 19)\n"
     ]
    }
   ],
   "source": [
    "N2 = pn.Atom('N',2)\n",
    "O3 = pn.Atom('O',3)\n",
    "S3 = pn.Atom('S',3)\n",
    "tem = np.arange(100, 3000, 200)\n",
    "tem = np.append(tem, np.arange(3000, 22000, 50))\n",
    "tem = np.append(tem, np.arange(22000, 100000,1000))\n",
    "n_tem = len(tem)\n",
    "den = np.logspace(1, 10, 19)\n",
    "n_den = len(den)\n",
    "emis_O3 = O3.getEmissivity(tem, den, wave=4363) / O3.getEmissivity(tem, den, wave=5007)\n",
    "print(emis_O3.shape)\n",
    "with open(os.path.join(results_path,'emis_RO3.txt'), 'w') as f:\n",
    "    f.write('# TeNe  {}\\n'.format(' '.join('{:12.5e}'.format(d) for d in den)))\n",
    "    for i_t in np.arange(n_tem):\n",
    "        f.write('{:7.0f} {}\\n'.format(tem[i_t], \n",
    "                                 ' '.join('{:12.5e}'.format(e) for e in emis_O3[i_t, :])))\n",
    "\n",
    "emis_N2 = N2.getEmissivity(tem, den, wave=5755) / N2.getEmissivity(tem, den, wave=6584)\n",
    "with open(os.path.join(results_path,'emis_RN2.txt'), 'w') as f:\n",
    "    f.write('# TeNe  {}\\n'.format(' '.join('{:12.5e}'.format(d) for d in den)))\n",
    "    for i_t in np.arange(n_tem):\n",
    "        f.write('{:7.0f} {}\\n'.format(tem[i_t], \n",
    "                                 ' '.join('{:12.5e}'.format(e) for e in emis_N2[i_t, :])))\n",
    "\n",
    "emis_S3 = S3.getEmissivity(tem, den, wave=6312) / S3.getEmissivity(tem, den, wave=9069)\n",
    "with open(os.path.join(results_path,'emis_RS3.txt'), 'w') as f:\n",
    "    f.write('# TeNe  {}\\n'.format(' '.join('{:12.5e}'.format(d) for d in den)))\n",
    "    for i_t in np.arange(n_tem):\n",
    "        f.write('{:7.0f} {}\\n'.format(tem[i_t], \n",
    "                                 ' '.join('{:12.5e}'.format(e) for e in emis_S3[i_t, :])))\n"
   ]
  },
  {
   "cell_type": "markdown",
   "metadata": {},
   "source": [
    "### In the case of the nebula of exercise 1.1.3 , assuming that the real temperature is 10000K and that the real R$_V$ is 5, what temperature you would find if dereddening the observed spectrum assuming R$_V$ = 3.1? Comment.\n"
   ]
  },
  {
   "cell_type": "code",
   "execution_count": 11,
   "metadata": {},
   "outputs": [
    {
     "data": {
      "text/html": [
       "<style>\n",
       "    @font-face {\n",
       "        font-family: \"Computer Modern\";\n",
       "        src: url('http://9dbb143991406a7c655e-aa5fcb0a5a4ec34cff238a2d56ca4144.r56.cf5.rackcdn.com/cmunss.otf');\n",
       "    }\n",
       "    @font-face {\n",
       "        font-family: \"Computer Modern\";\n",
       "        font-weight: bold;\n",
       "        src: url('http://9dbb143991406a7c655e-aa5fcb0a5a4ec34cff238a2d56ca4144.r56.cf5.rackcdn.com/cmunsx.otf');\n",
       "    }\n",
       "    @font-face {\n",
       "        font-family: \"Computer Modern\";\n",
       "        font-style: oblique;\n",
       "        src: url('http://9dbb143991406a7c655e-aa5fcb0a5a4ec34cff238a2d56ca4144.r56.cf5.rackcdn.com/cmunsi.otf');\n",
       "    }\n",
       "    @font-face {\n",
       "        font-family: \"Computer Modern\";\n",
       "        font-weight: bold;\n",
       "        font-style: oblique;\n",
       "        src: url('http://9dbb143991406a7c655e-aa5fcb0a5a4ec34cff238a2d56ca4144.r56.cf5.rackcdn.com/cmunso.otf');\n",
       "    }\n",
       "    div.cell{\n",
       "        width:800px;\n",
       "        margin-left:16% !important;\n",
       "        margin-right:auto;\n",
       "    }\n",
       "    div.text_cell_render{\n",
       "        font-family: Computer Modern, \"Helvetica Neue\", Arial, Helvetica, Geneva, sans-serif;\n",
       "        line-height: 145%;\n",
       "        font-size: 130%;\n",
       "        width:800px;\n",
       "        margin-left:auto;\n",
       "        margin-right:auto;\n",
       "    }\n",
       "    h1 {\n",
       "        font-family: Helvetica, serif;\n",
       "    }\n",
       "    \n",
       "    h3{\n",
       "        margin-top:12px;\n",
       "        margin-bottom: 3px;\n",
       "        margin-left: -10px;\n",
       "        background-color: #fcf2f2;\n",
       "        border-color: #dFb5b4;\n",
       "        border-left: 5px solid #dfb5b4;\n",
       "        padding: 0.5em;\n",
       "        font-weight:normal;\n",
       "    }\n",
       "    div.text_cell_render h3 {\n",
       "     font-size: 14pt;\n",
       "     font-weight:normal;\n",
       "    }\n",
       "    div.text_cell_render h5 {\n",
       "        font-size: 12pt;\n",
       "        color: #4057A1;\n",
       "        font-style: italic;\n",
       "        font-weight:normal;\n",
       "        margin-bottom: .0em;\n",
       "        margin-top: 0.0em;\n",
       "        display: block;\n",
       "    }\n",
       "    .CodeMirror{\n",
       "            font-family: \"Source Code Pro\", source-code-pro,Consolas, monospace;\n",
       "    }\n",
       "#    .prompt{\n",
       "#        display: None;\n",
       "#    }\n",
       "    .warning{\n",
       "        color: rgb( 240, 20, 20 )\n",
       "        }  \n",
       "</style>\n",
       "<script>\n",
       "    MathJax.Hub.Config({\n",
       "                        TeX: {\n",
       "                           extensions: [\"AMSmath.js\"]\n",
       "                           },\n",
       "                tex2jax: {\n",
       "                    inlineMath: [ ['$','$'], [\"\\\\(\",\"\\\\)\"] ],\n",
       "                    displayMath: [ ['$$','$$'], [\"\\\\[\",\"\\\\]\"] ]\n",
       "                },\n",
       "                displayAlign: 'center', // Change this to 'center' to center equations.\n",
       "                \"HTML-CSS\": {\n",
       "                    styles: {'.MathJax_Display': {\"margin\": 4}}\n",
       "                }\n",
       "        });\n",
       "</script>\n"
      ],
      "text/plain": [
       "<IPython.core.display.HTML object>"
      ]
     },
     "execution_count": 11,
     "metadata": {},
     "output_type": "execute_result"
    }
   ],
   "source": [
    "# the following is to have the nice style.\n",
    "from IPython.core.display import HTML\n",
    "def css_styling():\n",
    "    styles = open(\"./styles/custom.css\", \"r\").read()\n",
    "    return HTML(styles)\n",
    "css_styling()"
   ]
  },
  {
   "cell_type": "code",
   "execution_count": null,
   "metadata": {
    "collapsed": true
   },
   "outputs": [],
   "source": []
  }
 ],
 "metadata": {
  "kernelspec": {
   "display_name": "Python 3",
   "language": "python",
   "name": "python3"
  },
  "language_info": {
   "codemirror_mode": {
    "name": "ipython",
    "version": 3
   },
   "file_extension": ".py",
   "mimetype": "text/x-python",
   "name": "python",
   "nbconvert_exporter": "python",
   "pygments_lexer": "ipython3",
   "version": "3.6.0"
  }
 },
 "nbformat": 4,
 "nbformat_minor": 1
}
